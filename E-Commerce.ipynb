{
 "cells": [
  {
   "cell_type": "markdown",
   "id": "3b586591-3c0b-4e9f-abe5-0d5b13fbed74",
   "metadata": {},
   "source": [
    "# Project Title: E-Commerce Customer Behavior & Sales Optimization"
   ]
  },
  {
   "cell_type": "markdown",
   "id": "dc9ad6a1-bfc6-4a27-9410-51b803fc4ab3",
   "metadata": {},
   "source": [
    "### Objective:\n",
    "\n",
    "Analyze customer behavior and purchasing patterns to uncover insights that help improve sales strategies, optimize marketing efforts, and increase customer retention."
   ]
  },
  {
   "cell_type": "markdown",
   "id": "bff5f23a-91f4-46ef-98e0-a6604fb6c3d4",
   "metadata": {},
   "source": [
    "## All the Lifecycle in A Projects\n",
    "\n",
    "1.  Data Cleaning & Transformation\n",
    "2.  Exploratory Data Analysis (EDA)\n",
    "3.\tSegmentation & Modeling\n",
    "4.  Business Recommendations"
   ]
  },
  {
   "cell_type": "markdown",
   "id": "d726b53a-8d9c-4824-bb6d-a6f924d4ec7b",
   "metadata": {},
   "source": [
    "### Import Libraries"
   ]
  },
  {
   "cell_type": "code",
   "execution_count": 54,
   "id": "2c136190-6cd2-4b4a-b762-fd78cb918d31",
   "metadata": {},
   "outputs": [],
   "source": [
    "import pandas as pd\n",
    "import numpy as np\n",
    "import matplotlib.pyplot as plt\n",
    "%matplotlib inline\n",
    "import seaborn as sns\n",
    "import warnings\n",
    "warnings.filterwarnings(\"ignore\")"
   ]
  },
  {
   "cell_type": "markdown",
   "id": "3d441098-9397-4aa8-b7bb-4af329d370cf",
   "metadata": {},
   "source": [
    "### Dataset Loading"
   ]
  },
  {
   "cell_type": "code",
   "execution_count": 2,
   "id": "a64fd570-adca-494c-b541-12049eb3a2f5",
   "metadata": {},
   "outputs": [],
   "source": [
    "#reading data\n",
    "df=pd.read_csv(\"data.csv\",encoding=\"latin1\")\n",
    "df1=pd.read_csv(\"marketing_campaign.csv\")"
   ]
  },
  {
   "cell_type": "markdown",
   "id": "c7bde3b8-d284-4dae-a06d-58abf6a6e8d3",
   "metadata": {},
   "source": [
    "### Dataset First View"
   ]
  },
  {
   "cell_type": "code",
   "execution_count": 3,
   "id": "c3a7ca35-0f0e-44c9-9780-ea8d370e78cc",
   "metadata": {},
   "outputs": [
    {
     "data": {
      "text/html": [
       "<div>\n",
       "<style scoped>\n",
       "    .dataframe tbody tr th:only-of-type {\n",
       "        vertical-align: middle;\n",
       "    }\n",
       "\n",
       "    .dataframe tbody tr th {\n",
       "        vertical-align: top;\n",
       "    }\n",
       "\n",
       "    .dataframe thead th {\n",
       "        text-align: right;\n",
       "    }\n",
       "</style>\n",
       "<table border=\"1\" class=\"dataframe\">\n",
       "  <thead>\n",
       "    <tr style=\"text-align: right;\">\n",
       "      <th></th>\n",
       "      <th>InvoiceNo</th>\n",
       "      <th>StockCode</th>\n",
       "      <th>Description</th>\n",
       "      <th>Quantity</th>\n",
       "      <th>InvoiceDate</th>\n",
       "      <th>UnitPrice</th>\n",
       "      <th>CustomerID</th>\n",
       "      <th>Country</th>\n",
       "    </tr>\n",
       "  </thead>\n",
       "  <tbody>\n",
       "    <tr>\n",
       "      <th>0</th>\n",
       "      <td>536365</td>\n",
       "      <td>85123A</td>\n",
       "      <td>WHITE HANGING HEART T-LIGHT HOLDER</td>\n",
       "      <td>6</td>\n",
       "      <td>12/1/2010 8:26</td>\n",
       "      <td>2.55</td>\n",
       "      <td>17850.0</td>\n",
       "      <td>United Kingdom</td>\n",
       "    </tr>\n",
       "    <tr>\n",
       "      <th>1</th>\n",
       "      <td>536365</td>\n",
       "      <td>71053</td>\n",
       "      <td>WHITE METAL LANTERN</td>\n",
       "      <td>6</td>\n",
       "      <td>12/1/2010 8:26</td>\n",
       "      <td>3.39</td>\n",
       "      <td>17850.0</td>\n",
       "      <td>United Kingdom</td>\n",
       "    </tr>\n",
       "    <tr>\n",
       "      <th>2</th>\n",
       "      <td>536365</td>\n",
       "      <td>84406B</td>\n",
       "      <td>CREAM CUPID HEARTS COAT HANGER</td>\n",
       "      <td>8</td>\n",
       "      <td>12/1/2010 8:26</td>\n",
       "      <td>2.75</td>\n",
       "      <td>17850.0</td>\n",
       "      <td>United Kingdom</td>\n",
       "    </tr>\n",
       "    <tr>\n",
       "      <th>3</th>\n",
       "      <td>536365</td>\n",
       "      <td>84029G</td>\n",
       "      <td>KNITTED UNION FLAG HOT WATER BOTTLE</td>\n",
       "      <td>6</td>\n",
       "      <td>12/1/2010 8:26</td>\n",
       "      <td>3.39</td>\n",
       "      <td>17850.0</td>\n",
       "      <td>United Kingdom</td>\n",
       "    </tr>\n",
       "    <tr>\n",
       "      <th>4</th>\n",
       "      <td>536365</td>\n",
       "      <td>84029E</td>\n",
       "      <td>RED WOOLLY HOTTIE WHITE HEART.</td>\n",
       "      <td>6</td>\n",
       "      <td>12/1/2010 8:26</td>\n",
       "      <td>3.39</td>\n",
       "      <td>17850.0</td>\n",
       "      <td>United Kingdom</td>\n",
       "    </tr>\n",
       "  </tbody>\n",
       "</table>\n",
       "</div>"
      ],
      "text/plain": [
       "  InvoiceNo StockCode                          Description  Quantity  \\\n",
       "0    536365    85123A   WHITE HANGING HEART T-LIGHT HOLDER         6   \n",
       "1    536365     71053                  WHITE METAL LANTERN         6   \n",
       "2    536365    84406B       CREAM CUPID HEARTS COAT HANGER         8   \n",
       "3    536365    84029G  KNITTED UNION FLAG HOT WATER BOTTLE         6   \n",
       "4    536365    84029E       RED WOOLLY HOTTIE WHITE HEART.         6   \n",
       "\n",
       "      InvoiceDate  UnitPrice  CustomerID         Country  \n",
       "0  12/1/2010 8:26       2.55     17850.0  United Kingdom  \n",
       "1  12/1/2010 8:26       3.39     17850.0  United Kingdom  \n",
       "2  12/1/2010 8:26       2.75     17850.0  United Kingdom  \n",
       "3  12/1/2010 8:26       3.39     17850.0  United Kingdom  \n",
       "4  12/1/2010 8:26       3.39     17850.0  United Kingdom  "
      ]
     },
     "execution_count": 3,
     "metadata": {},
     "output_type": "execute_result"
    }
   ],
   "source": [
    "df.head()"
   ]
  },
  {
   "cell_type": "code",
   "execution_count": 4,
   "id": "293f9613-8f59-4f04-915a-b86ac48f7155",
   "metadata": {},
   "outputs": [
    {
     "data": {
      "text/html": [
       "<div>\n",
       "<style scoped>\n",
       "    .dataframe tbody tr th:only-of-type {\n",
       "        vertical-align: middle;\n",
       "    }\n",
       "\n",
       "    .dataframe tbody tr th {\n",
       "        vertical-align: top;\n",
       "    }\n",
       "\n",
       "    .dataframe thead th {\n",
       "        text-align: right;\n",
       "    }\n",
       "</style>\n",
       "<table border=\"1\" class=\"dataframe\">\n",
       "  <thead>\n",
       "    <tr style=\"text-align: right;\">\n",
       "      <th></th>\n",
       "      <th>ID;Year_Birth;Education;Marital_Status;Income;Kidhome;Teenhome;Dt_Customer;Recency;MntWines;MntFruits;MntMeatProducts;MntFishProducts;MntSweetProducts;MntGoldProds;NumDealsPurchases;NumWebPurchases;NumCatalogPurchases;NumStorePurchases;NumWebVisitsMonth;AcceptedCmp3;AcceptedCmp4;AcceptedCmp5;AcceptedCmp1;AcceptedCmp2;Complain;Z_CostContact;Z_Revenue;Response</th>\n",
       "    </tr>\n",
       "  </thead>\n",
       "  <tbody>\n",
       "    <tr>\n",
       "      <th>0</th>\n",
       "      <td>5524;1957;Graduation;Single;58138;0;0;2012-09-...</td>\n",
       "    </tr>\n",
       "    <tr>\n",
       "      <th>1</th>\n",
       "      <td>2174;1954;Graduation;Single;46344;1;1;2014-03-...</td>\n",
       "    </tr>\n",
       "    <tr>\n",
       "      <th>2</th>\n",
       "      <td>4141;1965;Graduation;Together;71613;0;0;2013-0...</td>\n",
       "    </tr>\n",
       "    <tr>\n",
       "      <th>3</th>\n",
       "      <td>6182;1984;Graduation;Together;26646;1;0;2014-0...</td>\n",
       "    </tr>\n",
       "    <tr>\n",
       "      <th>4</th>\n",
       "      <td>5324;1981;PhD;Married;58293;1;0;2014-01-19;94;...</td>\n",
       "    </tr>\n",
       "  </tbody>\n",
       "</table>\n",
       "</div>"
      ],
      "text/plain": [
       "  ID;Year_Birth;Education;Marital_Status;Income;Kidhome;Teenhome;Dt_Customer;Recency;MntWines;MntFruits;MntMeatProducts;MntFishProducts;MntSweetProducts;MntGoldProds;NumDealsPurchases;NumWebPurchases;NumCatalogPurchases;NumStorePurchases;NumWebVisitsMonth;AcceptedCmp3;AcceptedCmp4;AcceptedCmp5;AcceptedCmp1;AcceptedCmp2;Complain;Z_CostContact;Z_Revenue;Response\n",
       "0  5524;1957;Graduation;Single;58138;0;0;2012-09-...                                                                                                                                                                                                                                                                                                                      \n",
       "1  2174;1954;Graduation;Single;46344;1;1;2014-03-...                                                                                                                                                                                                                                                                                                                      \n",
       "2  4141;1965;Graduation;Together;71613;0;0;2013-0...                                                                                                                                                                                                                                                                                                                      \n",
       "3  6182;1984;Graduation;Together;26646;1;0;2014-0...                                                                                                                                                                                                                                                                                                                      \n",
       "4  5324;1981;PhD;Married;58293;1;0;2014-01-19;94;...                                                                                                                                                                                                                                                                                                                      "
      ]
     },
     "execution_count": 4,
     "metadata": {},
     "output_type": "execute_result"
    }
   ],
   "source": [
    "df1.head()"
   ]
  },
  {
   "cell_type": "code",
   "execution_count": 5,
   "id": "cfec7bfe-31e7-4092-ad97-406024de5ec7",
   "metadata": {},
   "outputs": [
    {
     "data": {
      "text/plain": [
       "(541909, 8)"
      ]
     },
     "execution_count": 5,
     "metadata": {},
     "output_type": "execute_result"
    }
   ],
   "source": [
    "# Dataset Rows & Columns count\n",
    "df.shape"
   ]
  },
  {
   "cell_type": "code",
   "execution_count": 6,
   "id": "d9f8cae9-5c67-487a-9dba-5c9170e544a9",
   "metadata": {},
   "outputs": [
    {
     "data": {
      "text/plain": [
       "(2240, 1)"
      ]
     },
     "execution_count": 6,
     "metadata": {},
     "output_type": "execute_result"
    }
   ],
   "source": [
    "df1.shape"
   ]
  },
  {
   "cell_type": "code",
   "execution_count": 7,
   "id": "fdb3cd09-8602-46ae-80b2-eff868c0403c",
   "metadata": {},
   "outputs": [
    {
     "name": "stdout",
     "output_type": "stream",
     "text": [
      "<class 'pandas.core.frame.DataFrame'>\n",
      "RangeIndex: 541909 entries, 0 to 541908\n",
      "Data columns (total 8 columns):\n",
      " #   Column       Non-Null Count   Dtype  \n",
      "---  ------       --------------   -----  \n",
      " 0   InvoiceNo    541909 non-null  object \n",
      " 1   StockCode    541909 non-null  object \n",
      " 2   Description  540455 non-null  object \n",
      " 3   Quantity     541909 non-null  int64  \n",
      " 4   InvoiceDate  541909 non-null  object \n",
      " 5   UnitPrice    541909 non-null  float64\n",
      " 6   CustomerID   406829 non-null  float64\n",
      " 7   Country      541909 non-null  object \n",
      "dtypes: float64(2), int64(1), object(5)\n",
      "memory usage: 33.1+ MB\n"
     ]
    }
   ],
   "source": [
    "# Dataset Information\n",
    "df.info()"
   ]
  },
  {
   "cell_type": "code",
   "execution_count": 8,
   "id": "30407f04-b368-475c-8a85-8593a483a975",
   "metadata": {},
   "outputs": [
    {
     "name": "stdout",
     "output_type": "stream",
     "text": [
      "<class 'pandas.core.frame.DataFrame'>\n",
      "RangeIndex: 2240 entries, 0 to 2239\n",
      "Data columns (total 1 columns):\n",
      " #   Column                                                                                                                                                                                                                                                                                                                                                                    Non-Null Count  Dtype \n",
      "---  ------                                                                                                                                                                                                                                                                                                                                                                    --------------  ----- \n",
      " 0   ID;Year_Birth;Education;Marital_Status;Income;Kidhome;Teenhome;Dt_Customer;Recency;MntWines;MntFruits;MntMeatProducts;MntFishProducts;MntSweetProducts;MntGoldProds;NumDealsPurchases;NumWebPurchases;NumCatalogPurchases;NumStorePurchases;NumWebVisitsMonth;AcceptedCmp3;AcceptedCmp4;AcceptedCmp5;AcceptedCmp1;AcceptedCmp2;Complain;Z_CostContact;Z_Revenue;Response  2240 non-null   object\n",
      "dtypes: object(1)\n",
      "memory usage: 17.6+ KB\n"
     ]
    }
   ],
   "source": [
    "df1.info()"
   ]
  },
  {
   "cell_type": "code",
   "execution_count": 9,
   "id": "785b3fc3-2b53-4ec7-a3c8-430f43d6f8e1",
   "metadata": {},
   "outputs": [
    {
     "data": {
      "text/html": [
       "<div>\n",
       "<style scoped>\n",
       "    .dataframe tbody tr th:only-of-type {\n",
       "        vertical-align: middle;\n",
       "    }\n",
       "\n",
       "    .dataframe tbody tr th {\n",
       "        vertical-align: top;\n",
       "    }\n",
       "\n",
       "    .dataframe thead th {\n",
       "        text-align: right;\n",
       "    }\n",
       "</style>\n",
       "<table border=\"1\" class=\"dataframe\">\n",
       "  <thead>\n",
       "    <tr style=\"text-align: right;\">\n",
       "      <th></th>\n",
       "      <th>Quantity</th>\n",
       "      <th>UnitPrice</th>\n",
       "      <th>CustomerID</th>\n",
       "    </tr>\n",
       "  </thead>\n",
       "  <tbody>\n",
       "    <tr>\n",
       "      <th>count</th>\n",
       "      <td>541909.000000</td>\n",
       "      <td>541909.000000</td>\n",
       "      <td>406829.000000</td>\n",
       "    </tr>\n",
       "    <tr>\n",
       "      <th>mean</th>\n",
       "      <td>9.552250</td>\n",
       "      <td>4.611114</td>\n",
       "      <td>15287.690570</td>\n",
       "    </tr>\n",
       "    <tr>\n",
       "      <th>std</th>\n",
       "      <td>218.081158</td>\n",
       "      <td>96.759853</td>\n",
       "      <td>1713.600303</td>\n",
       "    </tr>\n",
       "    <tr>\n",
       "      <th>min</th>\n",
       "      <td>-80995.000000</td>\n",
       "      <td>-11062.060000</td>\n",
       "      <td>12346.000000</td>\n",
       "    </tr>\n",
       "    <tr>\n",
       "      <th>25%</th>\n",
       "      <td>1.000000</td>\n",
       "      <td>1.250000</td>\n",
       "      <td>13953.000000</td>\n",
       "    </tr>\n",
       "    <tr>\n",
       "      <th>50%</th>\n",
       "      <td>3.000000</td>\n",
       "      <td>2.080000</td>\n",
       "      <td>15152.000000</td>\n",
       "    </tr>\n",
       "    <tr>\n",
       "      <th>75%</th>\n",
       "      <td>10.000000</td>\n",
       "      <td>4.130000</td>\n",
       "      <td>16791.000000</td>\n",
       "    </tr>\n",
       "    <tr>\n",
       "      <th>max</th>\n",
       "      <td>80995.000000</td>\n",
       "      <td>38970.000000</td>\n",
       "      <td>18287.000000</td>\n",
       "    </tr>\n",
       "  </tbody>\n",
       "</table>\n",
       "</div>"
      ],
      "text/plain": [
       "            Quantity      UnitPrice     CustomerID\n",
       "count  541909.000000  541909.000000  406829.000000\n",
       "mean        9.552250       4.611114   15287.690570\n",
       "std       218.081158      96.759853    1713.600303\n",
       "min    -80995.000000  -11062.060000   12346.000000\n",
       "25%         1.000000       1.250000   13953.000000\n",
       "50%         3.000000       2.080000   15152.000000\n",
       "75%        10.000000       4.130000   16791.000000\n",
       "max     80995.000000   38970.000000   18287.000000"
      ]
     },
     "execution_count": 9,
     "metadata": {},
     "output_type": "execute_result"
    }
   ],
   "source": [
    "df.describe()"
   ]
  },
  {
   "cell_type": "code",
   "execution_count": 10,
   "id": "6169da9a-8806-4b20-8d4d-3aaf7587a924",
   "metadata": {},
   "outputs": [
    {
     "data": {
      "text/html": [
       "<div>\n",
       "<style scoped>\n",
       "    .dataframe tbody tr th:only-of-type {\n",
       "        vertical-align: middle;\n",
       "    }\n",
       "\n",
       "    .dataframe tbody tr th {\n",
       "        vertical-align: top;\n",
       "    }\n",
       "\n",
       "    .dataframe thead th {\n",
       "        text-align: right;\n",
       "    }\n",
       "</style>\n",
       "<table border=\"1\" class=\"dataframe\">\n",
       "  <thead>\n",
       "    <tr style=\"text-align: right;\">\n",
       "      <th></th>\n",
       "      <th>ID;Year_Birth;Education;Marital_Status;Income;Kidhome;Teenhome;Dt_Customer;Recency;MntWines;MntFruits;MntMeatProducts;MntFishProducts;MntSweetProducts;MntGoldProds;NumDealsPurchases;NumWebPurchases;NumCatalogPurchases;NumStorePurchases;NumWebVisitsMonth;AcceptedCmp3;AcceptedCmp4;AcceptedCmp5;AcceptedCmp1;AcceptedCmp2;Complain;Z_CostContact;Z_Revenue;Response</th>\n",
       "    </tr>\n",
       "  </thead>\n",
       "  <tbody>\n",
       "    <tr>\n",
       "      <th>count</th>\n",
       "      <td>2240</td>\n",
       "    </tr>\n",
       "    <tr>\n",
       "      <th>unique</th>\n",
       "      <td>2240</td>\n",
       "    </tr>\n",
       "    <tr>\n",
       "      <th>top</th>\n",
       "      <td>5524;1957;Graduation;Single;58138;0;0;2012-09-...</td>\n",
       "    </tr>\n",
       "    <tr>\n",
       "      <th>freq</th>\n",
       "      <td>1</td>\n",
       "    </tr>\n",
       "  </tbody>\n",
       "</table>\n",
       "</div>"
      ],
      "text/plain": [
       "       ID;Year_Birth;Education;Marital_Status;Income;Kidhome;Teenhome;Dt_Customer;Recency;MntWines;MntFruits;MntMeatProducts;MntFishProducts;MntSweetProducts;MntGoldProds;NumDealsPurchases;NumWebPurchases;NumCatalogPurchases;NumStorePurchases;NumWebVisitsMonth;AcceptedCmp3;AcceptedCmp4;AcceptedCmp5;AcceptedCmp1;AcceptedCmp2;Complain;Z_CostContact;Z_Revenue;Response\n",
       "count                                                2240                                                                                                                                                                                                                                                                                                                      \n",
       "unique                                               2240                                                                                                                                                                                                                                                                                                                      \n",
       "top     5524;1957;Graduation;Single;58138;0;0;2012-09-...                                                                                                                                                                                                                                                                                                                      \n",
       "freq                                                    1                                                                                                                                                                                                                                                                                                                      "
      ]
     },
     "execution_count": 10,
     "metadata": {},
     "output_type": "execute_result"
    }
   ],
   "source": [
    "df1.describe()"
   ]
  },
  {
   "cell_type": "markdown",
   "id": "0ed3ae6c-c7e2-4271-8ad3-499aa32b4e13",
   "metadata": {},
   "source": [
    "## 1.\tData Cleaning & Transformation"
   ]
  },
  {
   "cell_type": "code",
   "execution_count": 11,
   "id": "420b1529-867b-46d5-b609-7d29a1c1b796",
   "metadata": {},
   "outputs": [],
   "source": [
    "df.drop_duplicates(inplace=True)"
   ]
  },
  {
   "cell_type": "code",
   "execution_count": 12,
   "id": "c4034b61-5158-4353-b20a-64c99993bae3",
   "metadata": {},
   "outputs": [],
   "source": [
    "df1.drop_duplicates(inplace=True)"
   ]
  },
  {
   "cell_type": "code",
   "execution_count": 13,
   "id": "9a04de17-5fba-45e4-b630-d3f6f3087f17",
   "metadata": {},
   "outputs": [
    {
     "data": {
      "text/plain": [
       "InvoiceNo           0\n",
       "StockCode           0\n",
       "Description      1454\n",
       "Quantity            0\n",
       "InvoiceDate         0\n",
       "UnitPrice           0\n",
       "CustomerID     135037\n",
       "Country             0\n",
       "dtype: int64"
      ]
     },
     "execution_count": 13,
     "metadata": {},
     "output_type": "execute_result"
    }
   ],
   "source": [
    "df.isnull().sum()"
   ]
  },
  {
   "cell_type": "code",
   "execution_count": 14,
   "id": "b550ccfe-172c-4659-b7c4-3c75e981312c",
   "metadata": {},
   "outputs": [
    {
     "data": {
      "text/plain": [
       "ID;Year_Birth;Education;Marital_Status;Income;Kidhome;Teenhome;Dt_Customer;Recency;MntWines;MntFruits;MntMeatProducts;MntFishProducts;MntSweetProducts;MntGoldProds;NumDealsPurchases;NumWebPurchases;NumCatalogPurchases;NumStorePurchases;NumWebVisitsMonth;AcceptedCmp3;AcceptedCmp4;AcceptedCmp5;AcceptedCmp1;AcceptedCmp2;Complain;Z_CostContact;Z_Revenue;Response    0\n",
       "dtype: int64"
      ]
     },
     "execution_count": 14,
     "metadata": {},
     "output_type": "execute_result"
    }
   ],
   "source": [
    "df1.isnull().sum()"
   ]
  },
  {
   "cell_type": "raw",
   "id": "f1506402-f892-4b1c-b986-28f49f10b283",
   "metadata": {},
   "source": [
    "Now I Worked only Online Retail Dataset(data.csv) because this is main file."
   ]
  },
  {
   "cell_type": "markdown",
   "id": "dacb77e2-d080-48eb-a4d2-20496ac5115a",
   "metadata": {},
   "source": [
    "##  Handle missing values"
   ]
  },
  {
   "cell_type": "code",
   "execution_count": 15,
   "id": "41f50eeb-2837-46cc-b154-37b8a5b75ede",
   "metadata": {},
   "outputs": [],
   "source": [
    "# Fill numeric columns with mean\n",
    "df.fillna(df.mean(numeric_only=True), inplace=True)\n",
    "\n",
    "# Fill categorical columns with mode\n",
    "for col in df.select_dtypes(include='object'):\n",
    "    df[col].fillna(df[col].mode()[0], inplace=True)"
   ]
  },
  {
   "cell_type": "markdown",
   "id": "5e69f131-fc11-4387-96fb-c05b5e0965b5",
   "metadata": {},
   "source": [
    "## Remove duplicates"
   ]
  },
  {
   "cell_type": "code",
   "execution_count": 16,
   "id": "9f56e21d-f661-4d46-83e6-b0d8c3350071",
   "metadata": {},
   "outputs": [],
   "source": [
    "# Remove duplicate rows\n",
    "df = df.drop_duplicates()"
   ]
  },
  {
   "cell_type": "code",
   "execution_count": 17,
   "id": "7cb7f536-4afa-4ba9-a853-c2eb46958237",
   "metadata": {},
   "outputs": [
    {
     "data": {
      "text/plain": [
       "InvoiceNo      0\n",
       "StockCode      0\n",
       "Description    0\n",
       "Quantity       0\n",
       "InvoiceDate    0\n",
       "UnitPrice      0\n",
       "CustomerID     0\n",
       "Country        0\n",
       "dtype: int64"
      ]
     },
     "execution_count": 17,
     "metadata": {},
     "output_type": "execute_result"
    }
   ],
   "source": [
    "df.isnull().sum()"
   ]
  },
  {
   "cell_type": "markdown",
   "id": "1ebc2f29-ccd4-48b8-aeee-4bf6b5649d15",
   "metadata": {},
   "source": [
    "## Handle outliers (using IQR method)"
   ]
  },
  {
   "cell_type": "code",
   "execution_count": 18,
   "id": "fba3166c-52f1-4f34-b9bc-23551a5bb6b2",
   "metadata": {},
   "outputs": [],
   "source": [
    "# Function to remove outliers\n",
    "def remove_outliers(df, col):\n",
    "    Q1 = df[col].quantile(0.25)\n",
    "    Q3 = df[col].quantile(0.75)\n",
    "    IQR = Q3 - Q1\n",
    "    lower = Q1 - 1.5 * IQR\n",
    "    upper = Q3 + 1.5 * IQR\n",
    "    return df[(df[col] >= lower) & (df[col] <= upper)]\n",
    "\n",
    "# Apply on each numeric column\n",
    "numeric_cols = df.select_dtypes(include=np.number).columns\n",
    "for col in numeric_cols:\n",
    "    df = remove_outliers(df, col)\n"
   ]
  },
  {
   "cell_type": "markdown",
   "id": "7714e38c-f3a8-4efd-b36e-5e5c09739d27",
   "metadata": {},
   "source": [
    "## Normalize numerical columns"
   ]
  },
  {
   "cell_type": "code",
   "execution_count": 19,
   "id": "1fd5d12a-d878-4458-ab47-06b7b860269e",
   "metadata": {},
   "outputs": [],
   "source": [
    "from sklearn.preprocessing import MinMaxScaler\n",
    "\n",
    "scaler = MinMaxScaler()\n",
    "df[numeric_cols] = scaler.fit_transform(df[numeric_cols])\n"
   ]
  },
  {
   "cell_type": "markdown",
   "id": "0f282917-b6f6-4347-a6aa-975b6bb6f313",
   "metadata": {},
   "source": [
    "## Encode categorical variables"
   ]
  },
  {
   "cell_type": "markdown",
   "id": "3d5c32f1-864c-4656-879b-878127e4563e",
   "metadata": {},
   "source": [
    "### Identify high-cardinality columns"
   ]
  },
  {
   "cell_type": "code",
   "execution_count": 22,
   "id": "39753e58-fc56-4d2c-a949-f13891b9aecd",
   "metadata": {},
   "outputs": [
    {
     "data": {
      "text/plain": [
       "InvoiceNo      21753\n",
       "InvoiceDate    19908\n",
       "Description     3846\n",
       "StockCode       3845\n",
       "Country           38\n",
       "dtype: int64"
      ]
     },
     "execution_count": 22,
     "metadata": {},
     "output_type": "execute_result"
    }
   ],
   "source": [
    "# Count unique values in each categorical column\n",
    "cat_cols = df.select_dtypes(include='object').columns\n",
    "df[cat_cols].nunique().sort_values(ascending=False)"
   ]
  },
  {
   "cell_type": "markdown",
   "id": "fe22e2af-8595-4af3-9634-ed146e9f00dd",
   "metadata": {},
   "source": [
    "###  Skip or transform high-cardinality columns"
   ]
  },
  {
   "cell_type": "code",
   "execution_count": 23,
   "id": "42aa997a-8b80-4687-8d8f-3731a17f8c36",
   "metadata": {},
   "outputs": [],
   "source": [
    "high_card_cols = [col for col in cat_cols if df[col].nunique() > 100]\n",
    "\n",
    "#  Label encode them\n",
    "\n",
    "from sklearn.preprocessing import LabelEncoder\n",
    "\n",
    "le = LabelEncoder()\n",
    "for col in high_card_cols:\n",
    "    df[col] = le.fit_transform(df[col])\n"
   ]
  },
  {
   "cell_type": "markdown",
   "id": "5e495c2c-e21f-40b9-9a59-ea85d5831dc4",
   "metadata": {},
   "source": [
    "### Apply one-hot encoding to remaining (safe) columns"
   ]
  },
  {
   "cell_type": "code",
   "execution_count": 24,
   "id": "dcead041-1af3-4580-b8e4-d023b87c69a9",
   "metadata": {},
   "outputs": [],
   "source": [
    "# Recalculate categorical columns\n",
    "remaining_cat_cols = df.select_dtypes(include='object').columns\n",
    "\n",
    "# Apply one-hot encoding only on manageable columns\n",
    "df = pd.get_dummies(df, columns=remaining_cat_cols, drop_first=True)\n"
   ]
  },
  {
   "cell_type": "code",
   "execution_count": 26,
   "id": "7a125218-5a93-46a4-9c0b-f9bb0f02511d",
   "metadata": {},
   "outputs": [
    {
     "data": {
      "text/html": [
       "<div>\n",
       "<style scoped>\n",
       "    .dataframe tbody tr th:only-of-type {\n",
       "        vertical-align: middle;\n",
       "    }\n",
       "\n",
       "    .dataframe tbody tr th {\n",
       "        vertical-align: top;\n",
       "    }\n",
       "\n",
       "    .dataframe thead th {\n",
       "        text-align: right;\n",
       "    }\n",
       "</style>\n",
       "<table border=\"1\" class=\"dataframe\">\n",
       "  <thead>\n",
       "    <tr style=\"text-align: right;\">\n",
       "      <th></th>\n",
       "      <th>InvoiceNo</th>\n",
       "      <th>StockCode</th>\n",
       "      <th>Description</th>\n",
       "      <th>Quantity</th>\n",
       "      <th>InvoiceDate</th>\n",
       "      <th>UnitPrice</th>\n",
       "      <th>CustomerID</th>\n",
       "      <th>Country_Austria</th>\n",
       "      <th>Country_Bahrain</th>\n",
       "      <th>Country_Belgium</th>\n",
       "      <th>...</th>\n",
       "      <th>Country_RSA</th>\n",
       "      <th>Country_Saudi Arabia</th>\n",
       "      <th>Country_Singapore</th>\n",
       "      <th>Country_Spain</th>\n",
       "      <th>Country_Sweden</th>\n",
       "      <th>Country_Switzerland</th>\n",
       "      <th>Country_USA</th>\n",
       "      <th>Country_United Arab Emirates</th>\n",
       "      <th>Country_United Kingdom</th>\n",
       "      <th>Country_Unspecified</th>\n",
       "    </tr>\n",
       "  </thead>\n",
       "  <tbody>\n",
       "    <tr>\n",
       "      <th>0</th>\n",
       "      <td>0</td>\n",
       "      <td>3359</td>\n",
       "      <td>3660</td>\n",
       "      <td>0.514286</td>\n",
       "      <td>5848</td>\n",
       "      <td>0.295824</td>\n",
       "      <td>0.926431</td>\n",
       "      <td>False</td>\n",
       "      <td>False</td>\n",
       "      <td>False</td>\n",
       "      <td>...</td>\n",
       "      <td>False</td>\n",
       "      <td>False</td>\n",
       "      <td>False</td>\n",
       "      <td>False</td>\n",
       "      <td>False</td>\n",
       "      <td>False</td>\n",
       "      <td>False</td>\n",
       "      <td>False</td>\n",
       "      <td>True</td>\n",
       "      <td>False</td>\n",
       "    </tr>\n",
       "    <tr>\n",
       "      <th>1</th>\n",
       "      <td>0</td>\n",
       "      <td>2663</td>\n",
       "      <td>3668</td>\n",
       "      <td>0.514286</td>\n",
       "      <td>5848</td>\n",
       "      <td>0.393271</td>\n",
       "      <td>0.926431</td>\n",
       "      <td>False</td>\n",
       "      <td>False</td>\n",
       "      <td>False</td>\n",
       "      <td>...</td>\n",
       "      <td>False</td>\n",
       "      <td>False</td>\n",
       "      <td>False</td>\n",
       "      <td>False</td>\n",
       "      <td>False</td>\n",
       "      <td>False</td>\n",
       "      <td>False</td>\n",
       "      <td>False</td>\n",
       "      <td>True</td>\n",
       "      <td>False</td>\n",
       "    </tr>\n",
       "    <tr>\n",
       "      <th>2</th>\n",
       "      <td>0</td>\n",
       "      <td>2893</td>\n",
       "      <td>830</td>\n",
       "      <td>0.571429</td>\n",
       "      <td>5848</td>\n",
       "      <td>0.319026</td>\n",
       "      <td>0.926431</td>\n",
       "      <td>False</td>\n",
       "      <td>False</td>\n",
       "      <td>False</td>\n",
       "      <td>...</td>\n",
       "      <td>False</td>\n",
       "      <td>False</td>\n",
       "      <td>False</td>\n",
       "      <td>False</td>\n",
       "      <td>False</td>\n",
       "      <td>False</td>\n",
       "      <td>False</td>\n",
       "      <td>False</td>\n",
       "      <td>True</td>\n",
       "      <td>False</td>\n",
       "    </tr>\n",
       "    <tr>\n",
       "      <th>3</th>\n",
       "      <td>0</td>\n",
       "      <td>2839</td>\n",
       "      <td>1766</td>\n",
       "      <td>0.514286</td>\n",
       "      <td>5848</td>\n",
       "      <td>0.393271</td>\n",
       "      <td>0.926431</td>\n",
       "      <td>False</td>\n",
       "      <td>False</td>\n",
       "      <td>False</td>\n",
       "      <td>...</td>\n",
       "      <td>False</td>\n",
       "      <td>False</td>\n",
       "      <td>False</td>\n",
       "      <td>False</td>\n",
       "      <td>False</td>\n",
       "      <td>False</td>\n",
       "      <td>False</td>\n",
       "      <td>False</td>\n",
       "      <td>True</td>\n",
       "      <td>False</td>\n",
       "    </tr>\n",
       "    <tr>\n",
       "      <th>4</th>\n",
       "      <td>0</td>\n",
       "      <td>2838</td>\n",
       "      <td>2701</td>\n",
       "      <td>0.514286</td>\n",
       "      <td>5848</td>\n",
       "      <td>0.393271</td>\n",
       "      <td>0.926431</td>\n",
       "      <td>False</td>\n",
       "      <td>False</td>\n",
       "      <td>False</td>\n",
       "      <td>...</td>\n",
       "      <td>False</td>\n",
       "      <td>False</td>\n",
       "      <td>False</td>\n",
       "      <td>False</td>\n",
       "      <td>False</td>\n",
       "      <td>False</td>\n",
       "      <td>False</td>\n",
       "      <td>False</td>\n",
       "      <td>True</td>\n",
       "      <td>False</td>\n",
       "    </tr>\n",
       "  </tbody>\n",
       "</table>\n",
       "<p>5 rows × 44 columns</p>\n",
       "</div>"
      ],
      "text/plain": [
       "   InvoiceNo  StockCode  Description  Quantity  InvoiceDate  UnitPrice  \\\n",
       "0          0       3359         3660  0.514286         5848   0.295824   \n",
       "1          0       2663         3668  0.514286         5848   0.393271   \n",
       "2          0       2893          830  0.571429         5848   0.319026   \n",
       "3          0       2839         1766  0.514286         5848   0.393271   \n",
       "4          0       2838         2701  0.514286         5848   0.393271   \n",
       "\n",
       "   CustomerID  Country_Austria  Country_Bahrain  Country_Belgium  ...  \\\n",
       "0    0.926431            False            False            False  ...   \n",
       "1    0.926431            False            False            False  ...   \n",
       "2    0.926431            False            False            False  ...   \n",
       "3    0.926431            False            False            False  ...   \n",
       "4    0.926431            False            False            False  ...   \n",
       "\n",
       "   Country_RSA  Country_Saudi Arabia  Country_Singapore  Country_Spain  \\\n",
       "0        False                 False              False          False   \n",
       "1        False                 False              False          False   \n",
       "2        False                 False              False          False   \n",
       "3        False                 False              False          False   \n",
       "4        False                 False              False          False   \n",
       "\n",
       "   Country_Sweden  Country_Switzerland  Country_USA  \\\n",
       "0           False                False        False   \n",
       "1           False                False        False   \n",
       "2           False                False        False   \n",
       "3           False                False        False   \n",
       "4           False                False        False   \n",
       "\n",
       "   Country_United Arab Emirates  Country_United Kingdom  Country_Unspecified  \n",
       "0                         False                    True                False  \n",
       "1                         False                    True                False  \n",
       "2                         False                    True                False  \n",
       "3                         False                    True                False  \n",
       "4                         False                    True                False  \n",
       "\n",
       "[5 rows x 44 columns]"
      ]
     },
     "execution_count": 26,
     "metadata": {},
     "output_type": "execute_result"
    }
   ],
   "source": [
    "df.head()"
   ]
  },
  {
   "cell_type": "markdown",
   "id": "00fc3ac2-602b-41a5-8bef-3673a46ced52",
   "metadata": {},
   "source": [
    "## Create derived variables"
   ]
  },
  {
   "cell_type": "code",
   "execution_count": 27,
   "id": "c90d7aa5-6c5a-4792-8973-e10836ac4e7b",
   "metadata": {},
   "outputs": [],
   "source": [
    "# Create a new column for order value\n",
    "df['order_value'] = df['Quantity'] * df['UnitPrice']\n",
    "\n",
    "# 1. Order frequency: number of unique invoices per customer\n",
    "order_freq = df.groupby('CustomerID')['InvoiceNo'].nunique().reset_index()\n",
    "order_freq.rename(columns={'InvoiceNo': 'order_frequency'}, inplace=True)\n",
    "\n",
    "# 2. Revenue per customer\n",
    "revenue_per_user = df.groupby('CustomerID')['order_value'].sum().reset_index()\n",
    "revenue_per_user.rename(columns={'order_value': 'revenue_per_user'}, inplace=True)\n",
    "\n",
    "# Merge both metrics back into the main DataFrame\n",
    "df = df.merge(order_freq, on='CustomerID', how='left')\n",
    "df = df.merge(revenue_per_user, on='CustomerID', how='left')\n"
   ]
  },
  {
   "cell_type": "markdown",
   "id": "135832ac-e5ee-485d-955e-0f8672b86c4e",
   "metadata": {},
   "source": [
    "# 2.\tExploratory Data Analysis (EDA)"
   ]
  },
  {
   "cell_type": "markdown",
   "id": "c5f807a1-bbb7-4947-a0b9-85ffc9dd96bb",
   "metadata": {},
   "source": [
    "## RFM (Recency, Frequency, Monetary) Analysis\n",
    "\n",
    "RFM segments customers based on:\n",
    "\n",
    "-- Recency: Days since last purchase\n",
    "\n",
    "-- Frequency: Number of purchases\n",
    "\n",
    "-- Monetary: Total amount spent"
   ]
  },
  {
   "cell_type": "code",
   "execution_count": 28,
   "id": "95e8bad7-e0eb-40ce-a954-3afabd0f51c3",
   "metadata": {},
   "outputs": [],
   "source": [
    "from datetime import datetime\n",
    "\n",
    "# Ensure date column is datetime\n",
    "df['InvoiceDate'] = pd.to_datetime(df['InvoiceDate'])\n",
    "\n",
    "# Reference date for recency (e.g., day after last invoice)\n",
    "snapshot_date = df['InvoiceDate'].max() + pd.Timedelta(days=1)\n",
    "\n",
    "# Aggregate RFM metrics\n",
    "rfm = df.groupby('CustomerID').agg({\n",
    "    'InvoiceDate': lambda x: (snapshot_date - x.max()).days,  # Recency\n",
    "    'InvoiceNo': 'nunique',                                   # Frequency\n",
    "    'order_value': 'sum'                                      # Monetary\n",
    "}).reset_index()\n",
    "\n",
    "rfm.columns = ['CustomerID', 'Recency', 'Frequency', 'Monetary']\n"
   ]
  },
  {
   "cell_type": "markdown",
   "id": "a336259d-388e-4d7e-8277-072d39d0d8ea",
   "metadata": {},
   "source": [
    "### Customer Lifetime Value (CLV)\n",
    "\n",
    "A basic CLV can be estimated as:\n",
    "\n",
    "CLV = average order value × purchase frequency × customer lifespan"
   ]
  },
  {
   "cell_type": "code",
   "execution_count": 30,
   "id": "6b3e7521-1c6d-4952-88b7-c7a54ac82152",
   "metadata": {},
   "outputs": [],
   "source": [
    "# Average order value per customer\n",
    "avg_order_value = df.groupby('CustomerID')['order_value'].sum() / df.groupby('CustomerID')['InvoiceNo'].nunique()\n",
    "\n",
    "# Purchase frequency\n",
    "purchase_freq = df.groupby('CustomerID')['InvoiceNo'].nunique() / df['InvoiceNo'].nunique()\n",
    "\n",
    "# Estimated lifespan (we’ll assume a constant period like 1 year)\n",
    "# Simplified CLV\n",
    "clv = avg_order_value * purchase_freq * 365  # Assuming 1 year\n",
    "\n",
    "# Combine into one DataFrame\n",
    "clv_df = clv.reset_index().rename(columns={0: 'CLV'})\n"
   ]
  },
  {
   "cell_type": "markdown",
   "id": "3c0f45ce-56cd-4dd5-903f-993f974465a8",
   "metadata": {},
   "source": [
    "### Cart Abandonment Analysis\n",
    "\n",
    "You likely need a column indicating incomplete orders or failed transactions — which your current dataset may not have unless:\n",
    "\n",
    "-- InvoiceNo has a special code for canceled transactions (e.g., starts with 'C')\n",
    "\n",
    "-- Or if some orders have Quantity < 0"
   ]
  },
  {
   "cell_type": "code",
   "execution_count": 31,
   "id": "ba26be0d-75b1-4cf8-9560-3fe1ed33af70",
   "metadata": {},
   "outputs": [],
   "source": [
    "# Identify canceled orders (usually InvoiceNo starts with 'C')\n",
    "df['is_canceled'] = df['InvoiceNo'].astype(str).str.startswith('C')\n",
    "\n",
    "# Cart abandonment rate per customer\n",
    "abandonment = df.groupby('CustomerID')['is_canceled'].mean().reset_index()\n",
    "abandonment.columns = ['CustomerID', 'cart_abandonment_rate']\n"
   ]
  },
  {
   "cell_type": "markdown",
   "id": "3904308b-49e5-4799-9fee-378b5931c6a4",
   "metadata": {},
   "source": [
    "### Product Category and Revenue Trends\n",
    "\n",
    "If you have product categories in Description, or can infer them from StockCode, you can analyze like this:"
   ]
  },
  {
   "cell_type": "code",
   "execution_count": 32,
   "id": "f51bec22-c427-4807-99e3-b594d7cf3443",
   "metadata": {},
   "outputs": [],
   "source": [
    "# Total revenue by product description\n",
    "product_revenue = df.groupby('Description')['order_value'].sum().sort_values(ascending=False).reset_index()\n",
    "\n",
    "# Monthly revenue trend\n",
    "df['InvoiceMonth'] = df['InvoiceDate'].dt.to_period('M')\n",
    "monthly_revenue = df.groupby('InvoiceMonth')['order_value'].sum().reset_index()\n",
    "monthly_revenue['InvoiceMonth'] = monthly_revenue['InvoiceMonth'].astype(str)\n"
   ]
  },
  {
   "cell_type": "markdown",
   "id": "1d39d300-867b-44ac-937c-7fde21a6b94a",
   "metadata": {},
   "source": [
    "# 3.\tSegmentation & Modeling"
   ]
  },
  {
   "cell_type": "markdown",
   "id": "cc10c838-b829-4420-a8b3-409704d9a813",
   "metadata": {},
   "source": [
    "## K-Means Clustering for Customer Segmentation"
   ]
  },
  {
   "cell_type": "code",
   "execution_count": 33,
   "id": "cd657811-c046-49f9-93ca-9c14ba8d097c",
   "metadata": {},
   "outputs": [
    {
     "data": {
      "image/png": "[encoded data removed]",
      "text/plain": [
       "<Figure size 640x480 with 1 Axes>"
      ]
     },
     "metadata": {},
     "output_type": "display_data"
    }
   ],
   "source": [
    "from sklearn.preprocessing import StandardScaler\n",
    "from sklearn.cluster import KMeans\n",
    "\n",
    "# Assuming you already created RFM DataFrame\n",
    "rfm_scaled = StandardScaler().fit_transform(rfm[['Recency', 'Frequency', 'Monetary']])\n",
    "\n",
    "# Use Elbow Method to find optimal clusters\n",
    "sse = []\n",
    "for k in range(1, 11):\n",
    "    km = KMeans(n_clusters=k, random_state=42)\n",
    "    km.fit(rfm_scaled)\n",
    "    sse.append(km.inertia_)\n",
    "\n",
    "plt.plot(range(1, 11), sse, marker='o')\n",
    "plt.title('Elbow Method')\n",
    "plt.xlabel('Number of clusters')\n",
    "plt.ylabel('SSE')\n",
    "plt.show()\n",
    "\n",
    "# Apply k-means (e.g., with 4 clusters)\n",
    "kmeans = KMeans(n_clusters=4, random_state=42)\n",
    "rfm['Segment'] = kmeans.fit_predict(rfm_scaled)\n"
   ]
  },
  {
   "cell_type": "markdown",
   "id": "601d5413-9442-4f7a-ba0e-811c5fd623c4",
   "metadata": {},
   "source": [
    "## Classification Model: Predict Repeat Purchase\n",
    "\n",
    "We'll define the target as:\n",
    "\n",
    "1 if a customer made >1 purchase (repeat customer)\n",
    "\n",
    "0 if only 1 purchase"
   ]
  },
  {
   "cell_type": "code",
   "execution_count": 55,
   "id": "453e5a93-619e-4022-b291-97542d10000e",
   "metadata": {},
   "outputs": [
    {
     "name": "stdout",
     "output_type": "stream",
     "text": [
      "Logistic Regression Accuracy: 1.0\n",
      "Random Forest Accuracy: 1.0\n"
     ]
    }
   ],
   "source": [
    "# Create binary target variable\n",
    "df['repeat_customer'] = df.groupby('CustomerID')['InvoiceNo'].transform('nunique') > 1\n",
    "df['repeat_customer'] = df['repeat_customer'].astype(int)\n",
    "\n",
    "# Aggregate features per customer\n",
    "features = df.groupby('CustomerID').agg({\n",
    "    'Quantity': 'sum',\n",
    "    'UnitPrice': 'mean',\n",
    "    'order_value': 'sum',\n",
    "    'InvoiceNo': 'nunique'\n",
    "}).rename(columns={'InvoiceNo': 'order_count'}).reset_index()\n",
    "\n",
    "# Add target\n",
    "features = features.merge(df[['CustomerID', 'repeat_customer']].drop_duplicates(), on='CustomerID')\n",
    "\n",
    "# Train/test split\n",
    "from sklearn.model_selection import train_test_split\n",
    "X = features.drop(columns=['CustomerID', 'repeat_customer'])\n",
    "y = features['repeat_customer']\n",
    "X_train, X_test, y_train, y_test = train_test_split(X, y, test_size=0.3, random_state=42)\n",
    "\n",
    "# Logistic Regression\n",
    "from sklearn.linear_model import LogisticRegression\n",
    "log_model = LogisticRegression()\n",
    "log_model.fit(X_train, y_train)\n",
    "print(\"Logistic Regression Accuracy:\", log_model.score(X_test, y_test))\n",
    "\n",
    "# Random Forest\n",
    "from sklearn.ensemble import RandomForestClassifier\n",
    "rf_model = RandomForestClassifier()\n",
    "rf_model.fit(X_train, y_train)\n",
    "print(\"Random Forest Accuracy:\", rf_model.score(X_test, y_test))\n"
   ]
  },
  {
   "cell_type": "markdown",
   "id": "0f780623-989d-45a6-b164-fce619a60d5c",
   "metadata": {},
   "source": [
    "## Time-Series Forecast: ARIMA or Prophet"
   ]
  },
  {
   "cell_type": "markdown",
   "id": "2d40dbd0-40d8-442b-878f-61e9f0ef59c7",
   "metadata": {},
   "source": [
    "### Prepare daily sales data "
   ]
  },
  {
   "cell_type": "code",
   "execution_count": 52,
   "id": "35404056-2378-4855-aa53-d8c2c1a94158",
   "metadata": {},
   "outputs": [],
   "source": [
    "# Group by day\n",
    "daily_sales = df.groupby(df['InvoiceDate'].dt.date)['order_value'].sum().reset_index()\n",
    "daily_sales.columns = ['ds', 'y']\n",
    "\n",
    "# Ensure it's datetime\n",
    "daily_sales['ds'] = pd.to_datetime(daily_sales['ds'])\n",
    "daily_sales.set_index('ds', inplace=True)\n"
   ]
  },
  {
   "cell_type": "markdown",
   "id": "8b4cded7-beff-4ecc-8216-fe03bc2b1219",
   "metadata": {},
   "source": [
    "## ARIMA model"
   ]
  },
  {
   "cell_type": "code",
   "execution_count": 56,
   "id": "ddacd286-405c-4a55-882a-62721af20bc8",
   "metadata": {
    "scrolled": true
   },
   "outputs": [
    {
     "data": {
      "image/png": "[encoded data removed]",
      "text/plain": [
       "<Figure size 1200x600 with 1 Axes>"
      ]
     },
     "metadata": {},
     "output_type": "display_data"
    }
   ],
   "source": [
    "from statsmodels.tsa.arima.model import ARIMA\n",
    "\n",
    "# Fit ARIMA(p=1,d=1,q=1) – basic starting point\n",
    "model = ARIMA(daily_sales['y'], order=(1,1,1))\n",
    "model_fit = model.fit()\n",
    "\n",
    "# Forecast next 14 days\n",
    "forecast_steps = 14\n",
    "forecast = model_fit.forecast(steps=forecast_steps)\n",
    "\n",
    "# Plot actual and forecast\n",
    "plt.figure(figsize=(12,6))\n",
    "plt.plot(daily_sales.index, daily_sales['y'], label='Historical Sales')\n",
    "plt.plot(pd.date_range(start=daily_sales.index[-1], periods=forecast_steps+1, freq='D')[1:], forecast, label='Forecast', color='red')\n",
    "plt.title('Daily Sales Forecast (ARIMA)')\n",
    "plt.xlabel('Date')\n",
    "plt.ylabel('Sales')\n",
    "plt.legend()\n",
    "plt.xticks(rotation=45)\n",
    "plt.grid(True)\n",
    "plt.tight_layout()\n",
    "plt.show()\n"
   ]
  },
  {
   "cell_type": "raw",
   "id": "b70b2967-5f69-4e8e-92ff-0269d26ff987",
   "metadata": {},
   "source": [
    "- A line chart with historical daily sales + 14-day forecast.\n",
    "\n",
    "- we can change forecast_steps = 30 to get a full month.\n",
    "\n",
    "Here, monthly_sales DataFrame has only 1 row, which is not enough for Prophet (needs at least 2 time points to model a trend)."
   ]
  },
  {
   "cell_type": "markdown",
   "id": "9850a348-34f7-4387-95ac-f6d606f8dd93",
   "metadata": {},
   "source": [
    "# 5.\tBusiness Recommendations"
   ]
  },
  {
   "cell_type": "markdown",
   "id": "5bc14f5d-8136-4391-8fed-a7779287a178",
   "metadata": {},
   "source": [
    "#### Actionable Business Insights:  Here are insights drawn from the E-Commerce dataset analysis\n",
    "\n",
    "## 1. Peak Sales Days Identified\n",
    "--- Daily sales trend shows peak transactions on weekdays, particularly Tuesdays and Thursdays.\n",
    "* Recommendation: Schedule promotions or campaigns mid-week to capitalize on traffic."
   ]
  },
  {
   "cell_type": "markdown",
   "id": "9df1aaeb-bcdd-4f93-b942-039aeac82314",
   "metadata": {},
   "source": [
    "## 2. Majority of Revenue from Top 5 Products\n",
    "--- Bar chart analysis revealed that ~60% of total revenue comes from just 5 product descriptions.\n",
    "* Recommendation: Prioritize inventory and marketing for top-performing item"
   ]
  },
  {
   "cell_type": "markdown",
   "id": "d1083176-d810-4c35-a581-f98d66ddf499",
   "metadata": {},
   "source": [
    "##  3. 80/20 Rule in Customer Revenue\n",
    "--- Around 20% of customers contribute to over 75% of revenue (based on revenue per user).\n",
    "\n",
    "* Recommendation: Create a VIP loyalty program targeting high-value customers."
   ]
  },
  {
   "cell_type": "markdown",
   "id": "250feda4-7618-4c11-a597-832da9cd81f7",
   "metadata": {},
   "source": [
    "## 4. Strong UK Market\n",
    "--- UK accounts for ~85% of all transactions.\n",
    "\n",
    "* Recommendation: Optimize logistics and marketing strategies primarily for the UK region."
   ]
  },
  {
   "cell_type": "markdown",
   "id": "5dac3347-d4aa-4fe6-8e48-4c0d5099306e",
   "metadata": {},
   "source": [
    "## 5. Customer Segments via K-Means\n",
    "--- Segmented customers into 3 clusters: Low-value, Medium-value, High-value.\n",
    "\n",
    "* Recommendation: Tailor email content and offers per segment."
   ]
  },
  {
   "cell_type": "markdown",
   "id": "abb244ac-f9a1-4c0f-8e97-15be8e610760",
   "metadata": {},
   "source": [
    "## 6. Seasonal Patterns Emerging\n",
    "--- Sales peak observed around early December.\n",
    "\n",
    "* Recommendation: Plan inventory and staff scheduling in advance for holiday spikes."
   ]
  },
  {
   "cell_type": "code",
   "execution_count": null,
   "id": "c436cf89-cf92-4fe0-8096-97d0c66fb624",
   "metadata": {},
   "outputs": [],
   "source": []
  }
 ],
 "metadata": {
  "kernelspec": {
   "display_name": "Python 3 (ipykernel)",
   "language": "python",
   "name": "python3"
  },
  "language_info": {
   "codemirror_mode": {
    "name": "ipython",
    "version": 3
   },
   "file_extension": ".py",
   "mimetype": "text/x-python",
   "name": "python",
   "nbconvert_exporter": "python",
   "pygments_lexer": "ipython3",
   "version": "3.12.7"
  }
 },
 "nbformat": 4,
 "nbformat_minor": 5
}
