{
 "cells": [
  {
   "cell_type": "markdown",
   "id": "ed21a799",
   "metadata": {},
   "source": [
    "# BUISNESS CASE: BASED ON GIVEN FEATURE WE NEED TO PREDICT THE LEAD CATEGORY OF CUSTOMER [HIGH POATENTIAL, LOW POTENTIAL]"
   ]
  },
  {
   "cell_type": "markdown",
   "id": "1d3ae50a",
   "metadata": {},
   "source": [
    "## TASK: CLASSIFICATION"
   ]
  },
  {
   "cell_type": "markdown",
   "id": "1e145216",
   "metadata": {},
   "source": [
    "## INTRODUCTION OF PROJECT\n",
    "* FicZon Inc is an IT solution provider with products ranging from on-premises products to SAAS based solutions. \n",
    "* FicZon major leads generation channel is digital and through their website. \n",
    "* FicZon business is majorly dependent on the sales force effectiveness. \n",
    "* As the market is maturing and more new competitors entering the market, FicZon is experiencing the dip in sales. \n",
    "* Effective sales is dependent on lead quality and as of now, this is based on manual categorization and highly depended on sales staff. \n",
    "* Though there is a quality process, which continuously updates the lead categorization, it’s value is in for post analysis, rather than conversation.\n",
    "* FicZon wants to explore Machine Learning to pre-categorize the lead quality and as result, expecting significant increase in sales effectiveness\n",
    "\n",
    "\n",
    "## PROJECT GOAL\n",
    "1. Data exploration insights – Sales effectiveness.\n",
    "2. ML model to predict the Lead Category (High Potential , Low Potential)\n",
    "\n",
    "\n",
    "\n",
    "### PROJECT IS DEVICE INTO CERTAIN STEPS:\n",
    "1. Featching data from data-base.\n",
    "2. Domain analysis.\n",
    "3. EDA: [Univariate, Bivariate & Multivariate analysis condition]\n",
    "4. Data preprocessing/Feature Engineering.\n",
    "5. Feature selection.\n",
    "6. Model creation.\n",
    "7. Model Evaluation.\n",
    "8. Model Saving."
   ]
  },
  {
   "cell_type": "markdown",
   "id": "a0b491d5",
   "metadata": {},
   "source": [
    "### IMPORTING NECESSARY LIBRARY "
   ]
  },
  {
   "cell_type": "code",
   "execution_count": 1,
   "id": "216d6537",
   "metadata": {},
   "outputs": [
    {
     "name": "stdout",
     "output_type": "stream",
     "text": [
      "Requirement already satisfied: mysql-connector-python in c:\\users\\dell\\anaconda3\\lib\\site-packages (9.0.0)\n"
     ]
    }
   ],
   "source": [
    "!pip install mysql-connector-python"
   ]
  },
  {
   "cell_type": "code",
   "execution_count": 2,
   "id": "551986bb",
   "metadata": {},
   "outputs": [],
   "source": [
    "import os\n",
    "import mysql.connector\n",
    "from mysql.connector import Error\n",
    "import pandas as pd\n",
    "import numpy as np\n",
    "import matplotlib.pyplot as plt\n",
    "%matplotlib inline\n",
    "import seaborn as sns\n",
    "import warnings \n",
    "warnings.filterwarnings('ignore')"
   ]
  },
  {
   "cell_type": "markdown",
   "id": "75bc994c",
   "metadata": {},
   "source": [
    "### MAKING CONNECTION TO DATA BASE SERVER"
   ]
  },
  {
   "cell_type": "code",
   "execution_count": 3,
   "id": "149b1024",
   "metadata": {},
   "outputs": [],
   "source": [
    "connection = mysql.connector.connect(host ='18.136.157.135', # IP-address of data-base\n",
    "                                    user ='dm_team2', # data-base Username\n",
    "                                    password ='DM!$Team&27@9!20!',  # data-base Password\n",
    "                                    database ='project_sales') "
   ]
  },
  {
   "cell_type": "markdown",
   "id": "9f14ec4f",
   "metadata": {},
   "source": [
    "### FETCHING DATA FROM DATA BASE"
   ]
  },
  {
   "cell_type": "code",
   "execution_count": 4,
   "id": "6f70a56a",
   "metadata": {},
   "outputs": [
    {
     "data": {
      "text/html": [
       "<div>\n",
       "<style scoped>\n",
       "    .dataframe tbody tr th:only-of-type {\n",
       "        vertical-align: middle;\n",
       "    }\n",
       "\n",
       "    .dataframe tbody tr th {\n",
       "        vertical-align: top;\n",
       "    }\n",
       "\n",
       "    .dataframe thead th {\n",
       "        text-align: right;\n",
       "    }\n",
       "</style>\n",
       "<table border=\"1\" class=\"dataframe\">\n",
       "  <thead>\n",
       "    <tr style=\"text-align: right;\">\n",
       "      <th></th>\n",
       "      <th>Created</th>\n",
       "      <th>Product_ID</th>\n",
       "      <th>Source</th>\n",
       "      <th>Mobile</th>\n",
       "      <th>EMAIL</th>\n",
       "      <th>Sales_Agent</th>\n",
       "      <th>Location</th>\n",
       "      <th>Delivery_Mode</th>\n",
       "      <th>Status</th>\n",
       "    </tr>\n",
       "  </thead>\n",
       "  <tbody>\n",
       "    <tr>\n",
       "      <th>0</th>\n",
       "      <td>14-11-2018 10:05</td>\n",
       "      <td></td>\n",
       "      <td>Website</td>\n",
       "      <td>984XXXXXXX</td>\n",
       "      <td>aXXXXXXX@gmail.com</td>\n",
       "      <td>Sales-Agent-11</td>\n",
       "      <td></td>\n",
       "      <td>Mode-5</td>\n",
       "      <td>Open</td>\n",
       "    </tr>\n",
       "    <tr>\n",
       "      <th>1</th>\n",
       "      <td>14-11-2018 09:22</td>\n",
       "      <td></td>\n",
       "      <td>Website</td>\n",
       "      <td>XXXXXXX</td>\n",
       "      <td>#VALUE!</td>\n",
       "      <td>Sales-Agent-10</td>\n",
       "      <td></td>\n",
       "      <td>Mode-5</td>\n",
       "      <td>Open</td>\n",
       "    </tr>\n",
       "    <tr>\n",
       "      <th>2</th>\n",
       "      <td>14-11-2018 09:21</td>\n",
       "      <td></td>\n",
       "      <td>Website</td>\n",
       "      <td>XXXXXXX</td>\n",
       "      <td>dXXXXXXX@yahoo.com</td>\n",
       "      <td>Sales-Agent-10</td>\n",
       "      <td></td>\n",
       "      <td>Mode-5</td>\n",
       "      <td>Open</td>\n",
       "    </tr>\n",
       "    <tr>\n",
       "      <th>3</th>\n",
       "      <td>14-11-2018 08:46</td>\n",
       "      <td></td>\n",
       "      <td>Website</td>\n",
       "      <td>XXXXXXX</td>\n",
       "      <td>wXXXXXXX@gmail.com</td>\n",
       "      <td>Sales-Agent-10</td>\n",
       "      <td></td>\n",
       "      <td>Mode-5</td>\n",
       "      <td>Open</td>\n",
       "    </tr>\n",
       "    <tr>\n",
       "      <th>4</th>\n",
       "      <td>14-11-2018 07:34</td>\n",
       "      <td></td>\n",
       "      <td>Website</td>\n",
       "      <td>XXXXXXX</td>\n",
       "      <td>cXXXXXXX@gmail.com</td>\n",
       "      <td>Sales-Agent-10</td>\n",
       "      <td></td>\n",
       "      <td>Mode-5</td>\n",
       "      <td>Open</td>\n",
       "    </tr>\n",
       "  </tbody>\n",
       "</table>\n",
       "</div>"
      ],
      "text/plain": [
       "            Created Product_ID   Source      Mobile               EMAIL  \\\n",
       "0  14-11-2018 10:05             Website  984XXXXXXX  aXXXXXXX@gmail.com   \n",
       "1  14-11-2018 09:22             Website     XXXXXXX             #VALUE!   \n",
       "2  14-11-2018 09:21             Website     XXXXXXX  dXXXXXXX@yahoo.com   \n",
       "3  14-11-2018 08:46             Website     XXXXXXX  wXXXXXXX@gmail.com   \n",
       "4  14-11-2018 07:34             Website     XXXXXXX  cXXXXXXX@gmail.com   \n",
       "\n",
       "      Sales_Agent Location Delivery_Mode Status  \n",
       "0  Sales-Agent-11                 Mode-5   Open  \n",
       "1  Sales-Agent-10                 Mode-5   Open  \n",
       "2  Sales-Agent-10                 Mode-5   Open  \n",
       "3  Sales-Agent-10                 Mode-5   Open  \n",
       "4  Sales-Agent-10                 Mode-5   Open  "
      ]
     },
     "execution_count": 4,
     "metadata": {},
     "output_type": "execute_result"
    }
   ],
   "source": [
    "query = \"select * from data\"\n",
    "data = pd.read_sql(query,connection)\n",
    "\n",
    "data.head()\n"
   ]
  },
  {
   "cell_type": "code",
   "execution_count": 5,
   "id": "ea9f616d",
   "metadata": {},
   "outputs": [
    {
     "data": {
      "text/html": [
       "<div>\n",
       "<style scoped>\n",
       "    .dataframe tbody tr th:only-of-type {\n",
       "        vertical-align: middle;\n",
       "    }\n",
       "\n",
       "    .dataframe tbody tr th {\n",
       "        vertical-align: top;\n",
       "    }\n",
       "\n",
       "    .dataframe thead th {\n",
       "        text-align: right;\n",
       "    }\n",
       "</style>\n",
       "<table border=\"1\" class=\"dataframe\">\n",
       "  <thead>\n",
       "    <tr style=\"text-align: right;\">\n",
       "      <th></th>\n",
       "      <th>Created</th>\n",
       "      <th>Product_ID</th>\n",
       "      <th>Source</th>\n",
       "      <th>Mobile</th>\n",
       "      <th>EMAIL</th>\n",
       "      <th>Sales_Agent</th>\n",
       "      <th>Location</th>\n",
       "      <th>Delivery_Mode</th>\n",
       "      <th>Status</th>\n",
       "    </tr>\n",
       "  </thead>\n",
       "  <tbody>\n",
       "    <tr>\n",
       "      <th>0</th>\n",
       "      <td>14112018 1005</td>\n",
       "      <td></td>\n",
       "      <td>Website</td>\n",
       "      <td>984XXXXXXX</td>\n",
       "      <td>aXXXXXXXgmailcom</td>\n",
       "      <td>SalesAgent11</td>\n",
       "      <td></td>\n",
       "      <td>Mode5</td>\n",
       "      <td>Open</td>\n",
       "    </tr>\n",
       "    <tr>\n",
       "      <th>1</th>\n",
       "      <td>14112018 0922</td>\n",
       "      <td></td>\n",
       "      <td>Website</td>\n",
       "      <td>XXXXXXX</td>\n",
       "      <td>VALUE!</td>\n",
       "      <td>SalesAgent10</td>\n",
       "      <td></td>\n",
       "      <td>Mode5</td>\n",
       "      <td>Open</td>\n",
       "    </tr>\n",
       "    <tr>\n",
       "      <th>2</th>\n",
       "      <td>14112018 0921</td>\n",
       "      <td></td>\n",
       "      <td>Website</td>\n",
       "      <td>XXXXXXX</td>\n",
       "      <td>dXXXXXXXyahoocom</td>\n",
       "      <td>SalesAgent10</td>\n",
       "      <td></td>\n",
       "      <td>Mode5</td>\n",
       "      <td>Open</td>\n",
       "    </tr>\n",
       "    <tr>\n",
       "      <th>3</th>\n",
       "      <td>14112018 0846</td>\n",
       "      <td></td>\n",
       "      <td>Website</td>\n",
       "      <td>XXXXXXX</td>\n",
       "      <td>wXXXXXXXgmailcom</td>\n",
       "      <td>SalesAgent10</td>\n",
       "      <td></td>\n",
       "      <td>Mode5</td>\n",
       "      <td>Open</td>\n",
       "    </tr>\n",
       "    <tr>\n",
       "      <th>4</th>\n",
       "      <td>14112018 0734</td>\n",
       "      <td></td>\n",
       "      <td>Website</td>\n",
       "      <td>XXXXXXX</td>\n",
       "      <td>cXXXXXXXgmailcom</td>\n",
       "      <td>SalesAgent10</td>\n",
       "      <td></td>\n",
       "      <td>Mode5</td>\n",
       "      <td>Open</td>\n",
       "    </tr>\n",
       "  </tbody>\n",
       "</table>\n",
       "</div>"
      ],
      "text/plain": [
       "         Created Product_ID   Source      Mobile             EMAIL  \\\n",
       "0  14112018 1005             Website  984XXXXXXX  aXXXXXXXgmailcom   \n",
       "1  14112018 0922             Website     XXXXXXX            VALUE!   \n",
       "2  14112018 0921             Website     XXXXXXX  dXXXXXXXyahoocom   \n",
       "3  14112018 0846             Website     XXXXXXX  wXXXXXXXgmailcom   \n",
       "4  14112018 0734             Website     XXXXXXX  cXXXXXXXgmailcom   \n",
       "\n",
       "    Sales_Agent Location Delivery_Mode Status  \n",
       "0  SalesAgent11                  Mode5   Open  \n",
       "1  SalesAgent10                  Mode5   Open  \n",
       "2  SalesAgent10                  Mode5   Open  \n",
       "3  SalesAgent10                  Mode5   Open  \n",
       "4  SalesAgent10                  Mode5   Open  "
      ]
     },
     "execution_count": 5,
     "metadata": {},
     "output_type": "execute_result"
    }
   ],
   "source": [
    "data = data.replace('[\\£#$%&\\'()*+,-./:;<=>?@[\\\\]^_`{|}~]','',regex=True) # Remove special character\n",
    "data.head()"
   ]
  },
  {
   "cell_type": "markdown",
   "id": "4fd54040",
   "metadata": {},
   "source": [
    "### BASIC CHECKS"
   ]
  },
  {
   "cell_type": "code",
   "execution_count": 6,
   "id": "c94bd7ea",
   "metadata": {},
   "outputs": [
    {
     "data": {
      "text/html": [
       "<div>\n",
       "<style scoped>\n",
       "    .dataframe tbody tr th:only-of-type {\n",
       "        vertical-align: middle;\n",
       "    }\n",
       "\n",
       "    .dataframe tbody tr th {\n",
       "        vertical-align: top;\n",
       "    }\n",
       "\n",
       "    .dataframe thead th {\n",
       "        text-align: right;\n",
       "    }\n",
       "</style>\n",
       "<table border=\"1\" class=\"dataframe\">\n",
       "  <thead>\n",
       "    <tr style=\"text-align: right;\">\n",
       "      <th></th>\n",
       "      <th>Created</th>\n",
       "      <th>Product_ID</th>\n",
       "      <th>Source</th>\n",
       "      <th>Mobile</th>\n",
       "      <th>EMAIL</th>\n",
       "      <th>Sales_Agent</th>\n",
       "      <th>Location</th>\n",
       "      <th>Delivery_Mode</th>\n",
       "      <th>Status</th>\n",
       "    </tr>\n",
       "  </thead>\n",
       "  <tbody>\n",
       "    <tr>\n",
       "      <th>0</th>\n",
       "      <td>14112018 1005</td>\n",
       "      <td></td>\n",
       "      <td>Website</td>\n",
       "      <td>984XXXXXXX</td>\n",
       "      <td>aXXXXXXXgmailcom</td>\n",
       "      <td>SalesAgent11</td>\n",
       "      <td></td>\n",
       "      <td>Mode5</td>\n",
       "      <td>Open</td>\n",
       "    </tr>\n",
       "    <tr>\n",
       "      <th>1</th>\n",
       "      <td>14112018 0922</td>\n",
       "      <td></td>\n",
       "      <td>Website</td>\n",
       "      <td>XXXXXXX</td>\n",
       "      <td>VALUE!</td>\n",
       "      <td>SalesAgent10</td>\n",
       "      <td></td>\n",
       "      <td>Mode5</td>\n",
       "      <td>Open</td>\n",
       "    </tr>\n",
       "    <tr>\n",
       "      <th>2</th>\n",
       "      <td>14112018 0921</td>\n",
       "      <td></td>\n",
       "      <td>Website</td>\n",
       "      <td>XXXXXXX</td>\n",
       "      <td>dXXXXXXXyahoocom</td>\n",
       "      <td>SalesAgent10</td>\n",
       "      <td></td>\n",
       "      <td>Mode5</td>\n",
       "      <td>Open</td>\n",
       "    </tr>\n",
       "    <tr>\n",
       "      <th>3</th>\n",
       "      <td>14112018 0846</td>\n",
       "      <td></td>\n",
       "      <td>Website</td>\n",
       "      <td>XXXXXXX</td>\n",
       "      <td>wXXXXXXXgmailcom</td>\n",
       "      <td>SalesAgent10</td>\n",
       "      <td></td>\n",
       "      <td>Mode5</td>\n",
       "      <td>Open</td>\n",
       "    </tr>\n",
       "    <tr>\n",
       "      <th>4</th>\n",
       "      <td>14112018 0734</td>\n",
       "      <td></td>\n",
       "      <td>Website</td>\n",
       "      <td>XXXXXXX</td>\n",
       "      <td>cXXXXXXXgmailcom</td>\n",
       "      <td>SalesAgent10</td>\n",
       "      <td></td>\n",
       "      <td>Mode5</td>\n",
       "      <td>Open</td>\n",
       "    </tr>\n",
       "  </tbody>\n",
       "</table>\n",
       "</div>"
      ],
      "text/plain": [
       "         Created Product_ID   Source      Mobile             EMAIL  \\\n",
       "0  14112018 1005             Website  984XXXXXXX  aXXXXXXXgmailcom   \n",
       "1  14112018 0922             Website     XXXXXXX            VALUE!   \n",
       "2  14112018 0921             Website     XXXXXXX  dXXXXXXXyahoocom   \n",
       "3  14112018 0846             Website     XXXXXXX  wXXXXXXXgmailcom   \n",
       "4  14112018 0734             Website     XXXXXXX  cXXXXXXXgmailcom   \n",
       "\n",
       "    Sales_Agent Location Delivery_Mode Status  \n",
       "0  SalesAgent11                  Mode5   Open  \n",
       "1  SalesAgent10                  Mode5   Open  \n",
       "2  SalesAgent10                  Mode5   Open  \n",
       "3  SalesAgent10                  Mode5   Open  \n",
       "4  SalesAgent10                  Mode5   Open  "
      ]
     },
     "execution_count": 6,
     "metadata": {},
     "output_type": "execute_result"
    }
   ],
   "source": [
    "data.head()"
   ]
  },
  {
   "cell_type": "code",
   "execution_count": 7,
   "id": "53584875",
   "metadata": {},
   "outputs": [
    {
     "data": {
      "text/html": [
       "<div>\n",
       "<style scoped>\n",
       "    .dataframe tbody tr th:only-of-type {\n",
       "        vertical-align: middle;\n",
       "    }\n",
       "\n",
       "    .dataframe tbody tr th {\n",
       "        vertical-align: top;\n",
       "    }\n",
       "\n",
       "    .dataframe thead th {\n",
       "        text-align: right;\n",
       "    }\n",
       "</style>\n",
       "<table border=\"1\" class=\"dataframe\">\n",
       "  <thead>\n",
       "    <tr style=\"text-align: right;\">\n",
       "      <th></th>\n",
       "      <th>Created</th>\n",
       "      <th>Product_ID</th>\n",
       "      <th>Source</th>\n",
       "      <th>Mobile</th>\n",
       "      <th>EMAIL</th>\n",
       "      <th>Sales_Agent</th>\n",
       "      <th>Location</th>\n",
       "      <th>Delivery_Mode</th>\n",
       "      <th>Status</th>\n",
       "    </tr>\n",
       "  </thead>\n",
       "  <tbody>\n",
       "    <tr>\n",
       "      <th>7417</th>\n",
       "      <td>28042018 0945</td>\n",
       "      <td>9</td>\n",
       "      <td>Call</td>\n",
       "      <td></td>\n",
       "      <td>aXXXXXXXgmailcom</td>\n",
       "      <td>SalesAgent6</td>\n",
       "      <td>Mumbai</td>\n",
       "      <td>Mode4</td>\n",
       "      <td>LOST</td>\n",
       "    </tr>\n",
       "    <tr>\n",
       "      <th>7418</th>\n",
       "      <td>28042018 0943</td>\n",
       "      <td>15</td>\n",
       "      <td>Call</td>\n",
       "      <td></td>\n",
       "      <td>VALUE!</td>\n",
       "      <td>SalesAgent12</td>\n",
       "      <td>Other Locations</td>\n",
       "      <td>Mode5</td>\n",
       "      <td>LOST</td>\n",
       "    </tr>\n",
       "    <tr>\n",
       "      <th>7419</th>\n",
       "      <td>28042018 0920</td>\n",
       "      <td>5</td>\n",
       "      <td>Live ChatDirect</td>\n",
       "      <td></td>\n",
       "      <td>sXXXXXXXgmailcom</td>\n",
       "      <td>SalesAgent11</td>\n",
       "      <td>Bangalore</td>\n",
       "      <td>Mode1</td>\n",
       "      <td>Not Responding</td>\n",
       "    </tr>\n",
       "    <tr>\n",
       "      <th>7420</th>\n",
       "      <td>28042018 0804</td>\n",
       "      <td>21</td>\n",
       "      <td>CRM form</td>\n",
       "      <td></td>\n",
       "      <td>YXXXXXXXgmailcom</td>\n",
       "      <td>SalesAgent4</td>\n",
       "      <td>Other Locations</td>\n",
       "      <td>Mode1</td>\n",
       "      <td>Just Enquiry</td>\n",
       "    </tr>\n",
       "    <tr>\n",
       "      <th>7421</th>\n",
       "      <td>28042018 0754</td>\n",
       "      <td>25</td>\n",
       "      <td>Website</td>\n",
       "      <td></td>\n",
       "      <td>cXXXXXXXgmailcom</td>\n",
       "      <td>SalesAgent3</td>\n",
       "      <td>Chennai</td>\n",
       "      <td>Mode1</td>\n",
       "      <td>CONVERTED</td>\n",
       "    </tr>\n",
       "  </tbody>\n",
       "</table>\n",
       "</div>"
      ],
      "text/plain": [
       "            Created Product_ID           Source Mobile             EMAIL  \\\n",
       "7417  28042018 0945          9             Call         aXXXXXXXgmailcom   \n",
       "7418  28042018 0943         15             Call                   VALUE!   \n",
       "7419  28042018 0920          5  Live ChatDirect         sXXXXXXXgmailcom   \n",
       "7420  28042018 0804         21         CRM form         YXXXXXXXgmailcom   \n",
       "7421  28042018 0754         25          Website         cXXXXXXXgmailcom   \n",
       "\n",
       "       Sales_Agent         Location Delivery_Mode          Status  \n",
       "7417   SalesAgent6           Mumbai         Mode4            LOST  \n",
       "7418  SalesAgent12  Other Locations         Mode5            LOST  \n",
       "7419  SalesAgent11        Bangalore         Mode1  Not Responding  \n",
       "7420   SalesAgent4  Other Locations         Mode1    Just Enquiry  \n",
       "7421   SalesAgent3          Chennai         Mode1       CONVERTED  "
      ]
     },
     "execution_count": 7,
     "metadata": {},
     "output_type": "execute_result"
    }
   ],
   "source": [
    "data.tail()"
   ]
  },
  {
   "cell_type": "code",
   "execution_count": 8,
   "id": "e4e45705",
   "metadata": {},
   "outputs": [
    {
     "data": {
      "text/plain": [
       "Index(['Created', 'Product_ID', 'Source', 'Mobile', 'EMAIL', 'Sales_Agent',\n",
       "       'Location', 'Delivery_Mode', 'Status'],\n",
       "      dtype='object')"
      ]
     },
     "execution_count": 8,
     "metadata": {},
     "output_type": "execute_result"
    }
   ],
   "source": [
    "data.columns"
   ]
  },
  {
   "cell_type": "markdown",
   "id": "1e274b46",
   "metadata": {},
   "source": [
    "* In this data total 9 Features with 3 unique feature"
   ]
  },
  {
   "cell_type": "code",
   "execution_count": 9,
   "id": "a377ee9e",
   "metadata": {},
   "outputs": [
    {
     "data": {
      "text/plain": [
       "(7422, 9)"
      ]
     },
     "execution_count": 9,
     "metadata": {},
     "output_type": "execute_result"
    }
   ],
   "source": [
    "data.shape"
   ]
  },
  {
   "cell_type": "markdown",
   "id": "e7d6c408",
   "metadata": {},
   "source": [
    "* Total 7422 observation with 9 feature"
   ]
  },
  {
   "cell_type": "code",
   "execution_count": 10,
   "id": "10438940",
   "metadata": {},
   "outputs": [
    {
     "name": "stdout",
     "output_type": "stream",
     "text": [
      "<class 'pandas.core.frame.DataFrame'>\n",
      "RangeIndex: 7422 entries, 0 to 7421\n",
      "Data columns (total 9 columns):\n",
      " #   Column         Non-Null Count  Dtype \n",
      "---  ------         --------------  ----- \n",
      " 0   Created        7422 non-null   object\n",
      " 1   Product_ID     7422 non-null   object\n",
      " 2   Source         7422 non-null   object\n",
      " 3   Mobile         7422 non-null   object\n",
      " 4   EMAIL          7422 non-null   object\n",
      " 5   Sales_Agent    7422 non-null   object\n",
      " 6   Location       7422 non-null   object\n",
      " 7   Delivery_Mode  7422 non-null   object\n",
      " 8   Status         7422 non-null   object\n",
      "dtypes: object(9)\n",
      "memory usage: 522.0+ KB\n"
     ]
    }
   ],
   "source": [
    "data.info()"
   ]
  },
  {
   "cell_type": "markdown",
   "id": "3a048405",
   "metadata": {},
   "source": [
    "* All feature data type is object"
   ]
  },
  {
   "cell_type": "code",
   "execution_count": 11,
   "id": "eb985eb0",
   "metadata": {},
   "outputs": [
    {
     "data": {
      "text/html": [
       "<div>\n",
       "<style scoped>\n",
       "    .dataframe tbody tr th:only-of-type {\n",
       "        vertical-align: middle;\n",
       "    }\n",
       "\n",
       "    .dataframe tbody tr th {\n",
       "        vertical-align: top;\n",
       "    }\n",
       "\n",
       "    .dataframe thead th {\n",
       "        text-align: right;\n",
       "    }\n",
       "</style>\n",
       "<table border=\"1\" class=\"dataframe\">\n",
       "  <thead>\n",
       "    <tr style=\"text-align: right;\">\n",
       "      <th></th>\n",
       "      <th>Created</th>\n",
       "      <th>Product_ID</th>\n",
       "      <th>Source</th>\n",
       "      <th>Mobile</th>\n",
       "      <th>EMAIL</th>\n",
       "      <th>Sales_Agent</th>\n",
       "      <th>Location</th>\n",
       "      <th>Delivery_Mode</th>\n",
       "      <th>Status</th>\n",
       "    </tr>\n",
       "  </thead>\n",
       "  <tbody>\n",
       "    <tr>\n",
       "      <th>count</th>\n",
       "      <td>7422</td>\n",
       "      <td>7422</td>\n",
       "      <td>7422</td>\n",
       "      <td>7422</td>\n",
       "      <td>7422</td>\n",
       "      <td>7422</td>\n",
       "      <td>7422</td>\n",
       "      <td>7422</td>\n",
       "      <td>7422</td>\n",
       "    </tr>\n",
       "    <tr>\n",
       "      <th>unique</th>\n",
       "      <td>6752</td>\n",
       "      <td>30</td>\n",
       "      <td>26</td>\n",
       "      <td>479</td>\n",
       "      <td>882</td>\n",
       "      <td>13</td>\n",
       "      <td>18</td>\n",
       "      <td>5</td>\n",
       "      <td>11</td>\n",
       "    </tr>\n",
       "    <tr>\n",
       "      <th>top</th>\n",
       "      <td>26092018 1130</td>\n",
       "      <td>18</td>\n",
       "      <td>Call</td>\n",
       "      <td></td>\n",
       "      <td>VALUE!</td>\n",
       "      <td>SalesAgent4</td>\n",
       "      <td>Other Locations</td>\n",
       "      <td>Mode5</td>\n",
       "      <td>Junk Lead</td>\n",
       "    </tr>\n",
       "    <tr>\n",
       "      <th>freq</th>\n",
       "      <td>4</td>\n",
       "      <td>1711</td>\n",
       "      <td>2547</td>\n",
       "      <td>1810</td>\n",
       "      <td>1701</td>\n",
       "      <td>1500</td>\n",
       "      <td>2500</td>\n",
       "      <td>2975</td>\n",
       "      <td>1536</td>\n",
       "    </tr>\n",
       "  </tbody>\n",
       "</table>\n",
       "</div>"
      ],
      "text/plain": [
       "              Created Product_ID Source Mobile   EMAIL  Sales_Agent  \\\n",
       "count            7422       7422   7422   7422    7422         7422   \n",
       "unique           6752         30     26    479     882           13   \n",
       "top     26092018 1130         18   Call         VALUE!  SalesAgent4   \n",
       "freq                4       1711   2547   1810    1701         1500   \n",
       "\n",
       "               Location Delivery_Mode     Status  \n",
       "count              7422          7422       7422  \n",
       "unique               18             5         11  \n",
       "top     Other Locations         Mode5  Junk Lead  \n",
       "freq               2500          2975       1536  "
      ]
     },
     "execution_count": 11,
     "metadata": {},
     "output_type": "execute_result"
    }
   ],
   "source": [
    "data.describe(include='O')"
   ]
  },
  {
   "cell_type": "markdown",
   "id": "d3ab1a42",
   "metadata": {},
   "source": [
    "* No constant feature is available"
   ]
  },
  {
   "cell_type": "markdown",
   "id": "58e67cb1",
   "metadata": {},
   "source": [
    "### DOMAIN ANALYSIS:\n",
    "\n",
    "\n",
    "#### *Sales effectiveness:\n",
    "Sales effectiveness refers to the ability of a company's sales professionals to “win” at each stage of the customer's buying process, and ultimately earn the business on the right terms and in the right timeframe. Improving sales effectiveness is not just a sales function issue; it's a company issue, as it requires deep collaboration between sales and marketing to understand what is working and not working, and continuous improvement of the knowledge, messages, skills, and strategies that sales people apply as they work sales opportunities.\n",
    "\n",
    "Sales effectiveness has historically been used to describe a category of technologies and consulting services aimed at helping companies improve their sales results.\n",
    "\n",
    "#### *Sales force effectiveness:\n",
    "The purpose of sales force effectiveness is to increase company revenues through increased customer acquisition, product/service sales, and up-selling/cross-selling additional products and services. The purpose of sales force effectiveness metrics is \"to measure the performance of a sales force and of individual salespeople.\n",
    "\n",
    "When analyzing the performance of a salesperson, a number of metrics can be compared. These can reveal more about the salesperson than can be gauged by his or her total sales. When analyzing the performance of a sales team, an increase in revenue-per-rep can indicate improvement in salesforce effectiveness.\n",
    "\n",
    "\n",
    "#### Target variable == Status\n",
    "* In target variable 11 labels are present (Junk Lead,Not Responding,CONVERTED,Just Enquiry,Potential,Long Term,In Progress Positive,In Progress Negative,LOST,Open,converted ) \n",
    "* This all labels is tell about the customer lead category [high potential, low potential] \n",
    "\n",
    "#### 1.Created:\n",
    "* This is unique feature in data tell about activity related to the selling and no of goods sold in certain date as well as time.\n",
    "\n",
    "#### 2.Product ID:\n",
    "* Id of particular product.\n",
    "\n",
    "#### 3.Source:\n",
    "* The source is contain imformation about the customer systematic search like call, live chats, and campaign.\n",
    "\n",
    "#### 4.Mobile:\n",
    "* This is a unique feature contain a Mobile no of customer.\n",
    "\n",
    "\n",
    "#### 5.Email:\n",
    "* This also unique feature contain a Email-id of customer.\n",
    "\n",
    "#### 6.Sales Agent:\n",
    "* Sales agent is a front line customer service, A person or a company that acts as a sales agent on behalf of the exporting company ( principal ), introducing its products to potential buyers in the external market, in exchange for a commission based on the value of the business deals arranged and paid to the principal.\n",
    "\n",
    "#### 7.Location:\n",
    "* The Location of sale field always has the main business address in it and has to be changed manually. This also means that the sales tax is computed based on the main business address and not the actual location of the sale.\n",
    "* This feature contain lots of different location.\n",
    "\n",
    "#### 8.Delivery mode:\n",
    "* Modes of Delivery of goods Delivery of goods may be made in any of the following three ways: \n",
    "1. Actual Delivery: Also known as physical delivery, actual delivery takes place when the goods are physically handed over by the seller or his/her authorized agent to the buyer or his/her agent authorized to take possession of the goods.\n",
    "\n",
    "2. Symbolic Delivery: Where the goods are bulky and heavy and it is not possible to physically hand them over to the buyer, delivery thereof may be made by indicating or giving a symbol. Here the goods itself are not delivered, but the means of obtaining possession of goods is delivered.\n",
    "\n",
    "3. Constructive Delivery: In this case neither physical nor symbolic delivery is made. In constructive delivery the individual possessing the products recognizes that he holds the merchandise for the benefit of, and at the disposal of the purchaser. Constructive delivery is also called attornment.\n",
    "\n",
    "#### 9. Status:\n",
    "* This is a target variable tell about the lead category of customer.[high potential, low potential]\n",
    "\n",
    "\n",
    "### DATA SUMMARY:\n",
    "* The data is supervised and categorical as well as all feature is nominal including target variable.\n",
    "* In this data three feature are unique so we can not perform any analysis on this feature.\n",
    "* All feature is contain lots of different label so we compressed and merged the labels such that only the main ones were included\n",
    "* In this data some feature contain blank spaces so we need to replace with NAN values.\n",
    "* No scaling required as well as no need to handle outlier\n",
    "* Used encoding technique to handle categorical feature\n",
    "* No need to handle duplicates because of I am mereged and compressed label.\n",
    "\n",
    "\n",
    "\n",
    "                   "
   ]
  },
  {
   "cell_type": "markdown",
   "id": "3ee11fef",
   "metadata": {},
   "source": [
    "### EXPLOTARY DATA ANALYSIS"
   ]
  },
  {
   "cell_type": "markdown",
   "id": "51542116",
   "metadata": {},
   "source": [
    "#### UNIVARIATE ANALYSIS"
   ]
  },
  {
   "cell_type": "markdown",
   "id": "0d38de64",
   "metadata": {},
   "source": [
    "##### 1.PRODUCT ID"
   ]
  },
  {
   "cell_type": "code",
   "execution_count": 12,
   "id": "17d6cb8d",
   "metadata": {},
   "outputs": [
    {
     "data": {
      "image/png": "[encoded data removed]",
      "text/plain": [
       "<Figure size 1200x700 with 1 Axes>"
      ]
     },
     "metadata": {},
     "output_type": "display_data"
    }
   ],
   "source": [
    "plt.figure(figsize=(12,7))\n",
    "sns.countplot(x='Product_ID', data=data)\n",
    "plt.xlabel('PRODUCT ID',fontsize=20)\n",
    "plt.show()"
   ]
  },
  {
   "cell_type": "markdown",
   "id": "134511a0",
   "metadata": {},
   "source": [
    "##### OBSERVATION:\n",
    "* In this plot we are clearly seen that 18,15,19,27,9 and 5 Product ID has more sold product.\n",
    "* Remaining all product ID has less sold product."
   ]
  },
  {
   "cell_type": "markdown",
   "id": "496b0f7d",
   "metadata": {},
   "source": [
    "##### 2.SOURCE"
   ]
  },
  {
   "cell_type": "code",
   "execution_count": 13,
   "id": "4a7882fa",
   "metadata": {},
   "outputs": [
    {
     "data": {
      "image/png": "[encoded data removed]",
      "text/plain": [
       "<Figure size 1400x800 with 1 Axes>"
      ]
     },
     "metadata": {},
     "output_type": "display_data"
    }
   ],
   "source": [
    "plt.figure(figsize=(14,8))\n",
    "sns.countplot(x='Source', data=data)\n",
    "plt.xticks(rotation=90)\n",
    "plt.xlabel('SOURCE',fontsize=20)\n",
    "plt.show()"
   ]
  },
  {
   "cell_type": "markdown",
   "id": "3ca1c407",
   "metadata": {},
   "source": [
    "##### OBSERVATION:\n",
    "* Most of the sales has call, live chat direct and website source.\n",
    "* Remaining all sources has less than 250."
   ]
  },
  {
   "cell_type": "markdown",
   "id": "6dfb66ad",
   "metadata": {},
   "source": [
    "##### 3.SALES AGENT:"
   ]
  },
  {
   "cell_type": "code",
   "execution_count": 14,
   "id": "b85f554c",
   "metadata": {},
   "outputs": [
    {
     "data": {
      "image/png": "[encoded data removed]",
      "text/plain": [
       "<Figure size 1200x700 with 1 Axes>"
      ]
     },
     "metadata": {},
     "output_type": "display_data"
    }
   ],
   "source": [
    "plt.figure(figsize=(12,7))\n",
    "sns.countplot(x='Sales_Agent', data=data)\n",
    "plt.xticks(rotation=90)\n",
    "plt.xlabel('SALES AGENT',fontsize=20)\n",
    "plt.show()"
   ]
  },
  {
   "cell_type": "markdown",
   "id": "1b2dceab",
   "metadata": {},
   "source": [
    "##### OBSERVATION:\n",
    "* In this plot we are cleary seen the total 12 sales agent .\n",
    "* Most of the sales is done by sales agent 4 and sales agent 11 as well as sales agent 5.\n",
    "* Sales agent 3,9,7 has below than 850 sale.\n",
    "* Remaining all sales agent has done less sale."
   ]
  },
  {
   "cell_type": "markdown",
   "id": "ebf75b11",
   "metadata": {},
   "source": [
    "##### 4.LOCATION:"
   ]
  },
  {
   "cell_type": "code",
   "execution_count": 15,
   "id": "065719e9",
   "metadata": {},
   "outputs": [
    {
     "data": {
      "image/png": "[encoded data removed]",
      "text/plain": [
       "<Figure size 1200x700 with 1 Axes>"
      ]
     },
     "metadata": {},
     "output_type": "display_data"
    }
   ],
   "source": [
    "plt.figure(figsize=(12,7))\n",
    "sns.countplot(x='Location', data=data)\n",
    "plt.xticks(rotation=90)\n",
    "plt.xlabel('LOCATION',fontsize=20)\n",
    "plt.show()"
   ]
  },
  {
   "cell_type": "markdown",
   "id": "0587b028",
   "metadata": {},
   "source": [
    "##### OBSERVATION:\n",
    "* Total 17 location of sales with include foreign and india.\n",
    "* Banglore and other location has more sales \n",
    "* chennai,hyderabad, delhi and mumbai city sale less than bangalore and other location\n",
    "* Remaining all city has extreme less sale."
   ]
  },
  {
   "cell_type": "markdown",
   "id": "ed31ce92",
   "metadata": {},
   "source": [
    "##### 5.DELIVERY MODE"
   ]
  },
  {
   "cell_type": "code",
   "execution_count": 16,
   "id": "4a9285d9",
   "metadata": {},
   "outputs": [
    {
     "data": {
      "image/png": "[encoded data removed]",
      "text/plain": [
       "<Figure size 1200x700 with 1 Axes>"
      ]
     },
     "metadata": {},
     "output_type": "display_data"
    }
   ],
   "source": [
    "plt.figure(figsize=(12,7))\n",
    "sns.countplot(x='Delivery_Mode', data=data)\n",
    "plt.xlabel('DELIVERY MODE',fontsize=20)\n",
    "plt.show()"
   ]
  },
  {
   "cell_type": "markdown",
   "id": "ea53ca40",
   "metadata": {},
   "source": [
    "##### OBSERVATION:\n",
    "* In this plot we are clearly seen the five types of delivery mode.\n",
    "* Delivery Mode 5 has maximum use as well as highest count\n",
    "* Mode 1 & Mode 3 has less use than mode 5 \n",
    "* Mode 2 & 4 is minimum use for delivery"
   ]
  },
  {
   "cell_type": "markdown",
   "id": "78c591a4",
   "metadata": {},
   "source": [
    "##### 6.STATUS:"
   ]
  },
  {
   "cell_type": "code",
   "execution_count": 17,
   "id": "d1ac1bfd",
   "metadata": {},
   "outputs": [
    {
     "data": {
      "image/png": "[encoded data removed]",
      "text/plain": [
       "<Figure size 1200x700 with 1 Axes>"
      ]
     },
     "metadata": {},
     "output_type": "display_data"
    }
   ],
   "source": [
    "plt.figure(figsize=(12,7))\n",
    "sns.countplot(x='Status', data=data)\n",
    "plt.xticks(rotation=45)\n",
    "plt.xlabel('STATUS',fontsize=20)\n",
    "plt.show()"
   ]
  },
  {
   "cell_type": "markdown",
   "id": "775b7508",
   "metadata": {},
   "source": [
    "##### OBSERVATION:\n",
    "* In this plot we are clearly seen the junk lead means low potential customer or client has more.\n",
    "* Not responding status customer has less than 1200.\n",
    "* From above graph we can say that low potential customer has more and high potential cutomer has less."
   ]
  },
  {
   "cell_type": "markdown",
   "id": "27cdf391",
   "metadata": {},
   "source": [
    "###  NOTE: \n",
    "* Here we can not perform any bivariate and multivarite analysis because we dont have any numerical feature so here we are apply certain condition and get most frequent label in feature."
   ]
  },
  {
   "cell_type": "markdown",
   "id": "52b94203",
   "metadata": {},
   "source": [
    "#### 1.Getting the source call with the delivery mode-5"
   ]
  },
  {
   "cell_type": "code",
   "execution_count": 18,
   "id": "44410562",
   "metadata": {},
   "outputs": [
    {
     "data": {
      "text/html": [
       "<div>\n",
       "<style scoped>\n",
       "    .dataframe tbody tr th:only-of-type {\n",
       "        vertical-align: middle;\n",
       "    }\n",
       "\n",
       "    .dataframe tbody tr th {\n",
       "        vertical-align: top;\n",
       "    }\n",
       "\n",
       "    .dataframe thead th {\n",
       "        text-align: right;\n",
       "    }\n",
       "</style>\n",
       "<table border=\"1\" class=\"dataframe\">\n",
       "  <thead>\n",
       "    <tr style=\"text-align: right;\">\n",
       "      <th></th>\n",
       "      <th>Created</th>\n",
       "      <th>Product_ID</th>\n",
       "      <th>Source</th>\n",
       "      <th>Mobile</th>\n",
       "      <th>EMAIL</th>\n",
       "      <th>Sales_Agent</th>\n",
       "      <th>Location</th>\n",
       "      <th>Delivery_Mode</th>\n",
       "      <th>Status</th>\n",
       "    </tr>\n",
       "  </thead>\n",
       "  <tbody>\n",
       "    <tr>\n",
       "      <th>19</th>\n",
       "      <td>13112018 1848</td>\n",
       "      <td>19</td>\n",
       "      <td>Call</td>\n",
       "      <td>701XXXXXXX</td>\n",
       "      <td>VALUE!</td>\n",
       "      <td>SalesAgent4</td>\n",
       "      <td>Other Locations</td>\n",
       "      <td>Mode5</td>\n",
       "      <td>Potential</td>\n",
       "    </tr>\n",
       "    <tr>\n",
       "      <th>28</th>\n",
       "      <td>13112018 1609</td>\n",
       "      <td>27</td>\n",
       "      <td>Call</td>\n",
       "      <td>994XXXXXXX</td>\n",
       "      <td>mXXXXXXXsmailcom</td>\n",
       "      <td>SalesAgent11</td>\n",
       "      <td>Chennai</td>\n",
       "      <td>Mode5</td>\n",
       "      <td>In Progress Positive</td>\n",
       "    </tr>\n",
       "    <tr>\n",
       "      <th>40</th>\n",
       "      <td>13112018 1226</td>\n",
       "      <td>9</td>\n",
       "      <td>Call</td>\n",
       "      <td>992XXXXXXX</td>\n",
       "      <td>gXXXXXXXologiesin</td>\n",
       "      <td>SalesAgent4</td>\n",
       "      <td>Chennai</td>\n",
       "      <td>Mode5</td>\n",
       "      <td>Potential</td>\n",
       "    </tr>\n",
       "    <tr>\n",
       "      <th>43</th>\n",
       "      <td>13112018 1129</td>\n",
       "      <td>2</td>\n",
       "      <td>Call</td>\n",
       "      <td>894XXXXXXX</td>\n",
       "      <td>VALUE!</td>\n",
       "      <td>SalesAgent9</td>\n",
       "      <td>Other Locations</td>\n",
       "      <td>Mode5</td>\n",
       "      <td>In Progress Positive</td>\n",
       "    </tr>\n",
       "    <tr>\n",
       "      <th>44</th>\n",
       "      <td>13112018 1129</td>\n",
       "      <td>9</td>\n",
       "      <td>Call</td>\n",
       "      <td>888XXXXXXX</td>\n",
       "      <td>sXXXXXXXelivecom</td>\n",
       "      <td>SalesAgent11</td>\n",
       "      <td>Bangalore</td>\n",
       "      <td>Mode5</td>\n",
       "      <td>In Progress Positive</td>\n",
       "    </tr>\n",
       "    <tr>\n",
       "      <th>...</th>\n",
       "      <td>...</td>\n",
       "      <td>...</td>\n",
       "      <td>...</td>\n",
       "      <td>...</td>\n",
       "      <td>...</td>\n",
       "      <td>...</td>\n",
       "      <td>...</td>\n",
       "      <td>...</td>\n",
       "      <td>...</td>\n",
       "    </tr>\n",
       "    <tr>\n",
       "      <th>7374</th>\n",
       "      <td>30042018 1038</td>\n",
       "      <td>15</td>\n",
       "      <td>Call</td>\n",
       "      <td></td>\n",
       "      <td>VALUE!</td>\n",
       "      <td>SalesAgent11</td>\n",
       "      <td>Other Locations</td>\n",
       "      <td>Mode5</td>\n",
       "      <td>Junk Lead</td>\n",
       "    </tr>\n",
       "    <tr>\n",
       "      <th>7396</th>\n",
       "      <td>28042018 1612</td>\n",
       "      <td>15</td>\n",
       "      <td>Call</td>\n",
       "      <td></td>\n",
       "      <td>VALUE!</td>\n",
       "      <td>SalesAgent7</td>\n",
       "      <td>Other Locations</td>\n",
       "      <td>Mode5</td>\n",
       "      <td>Junk Lead</td>\n",
       "    </tr>\n",
       "    <tr>\n",
       "      <th>7398</th>\n",
       "      <td>28042018 1611</td>\n",
       "      <td>15</td>\n",
       "      <td>Call</td>\n",
       "      <td></td>\n",
       "      <td>VALUE!</td>\n",
       "      <td>SalesAgent2</td>\n",
       "      <td>Delhi</td>\n",
       "      <td>Mode5</td>\n",
       "      <td>Junk Lead</td>\n",
       "    </tr>\n",
       "    <tr>\n",
       "      <th>7399</th>\n",
       "      <td>28042018 1608</td>\n",
       "      <td>15</td>\n",
       "      <td>Call</td>\n",
       "      <td></td>\n",
       "      <td>VALUE!</td>\n",
       "      <td>SalesAgent12</td>\n",
       "      <td>Other Locations</td>\n",
       "      <td>Mode5</td>\n",
       "      <td>In Progress Negative</td>\n",
       "    </tr>\n",
       "    <tr>\n",
       "      <th>7418</th>\n",
       "      <td>28042018 0943</td>\n",
       "      <td>15</td>\n",
       "      <td>Call</td>\n",
       "      <td></td>\n",
       "      <td>VALUE!</td>\n",
       "      <td>SalesAgent12</td>\n",
       "      <td>Other Locations</td>\n",
       "      <td>Mode5</td>\n",
       "      <td>LOST</td>\n",
       "    </tr>\n",
       "  </tbody>\n",
       "</table>\n",
       "<p>1551 rows × 9 columns</p>\n",
       "</div>"
      ],
      "text/plain": [
       "            Created Product_ID Source      Mobile              EMAIL  \\\n",
       "19    13112018 1848         19   Call  701XXXXXXX             VALUE!   \n",
       "28    13112018 1609         27   Call  994XXXXXXX   mXXXXXXXsmailcom   \n",
       "40    13112018 1226          9   Call  992XXXXXXX  gXXXXXXXologiesin   \n",
       "43    13112018 1129          2   Call  894XXXXXXX             VALUE!   \n",
       "44    13112018 1129          9   Call  888XXXXXXX   sXXXXXXXelivecom   \n",
       "...             ...        ...    ...         ...                ...   \n",
       "7374  30042018 1038         15   Call                         VALUE!   \n",
       "7396  28042018 1612         15   Call                         VALUE!   \n",
       "7398  28042018 1611         15   Call                         VALUE!   \n",
       "7399  28042018 1608         15   Call                         VALUE!   \n",
       "7418  28042018 0943         15   Call                         VALUE!   \n",
       "\n",
       "       Sales_Agent         Location Delivery_Mode                Status  \n",
       "19     SalesAgent4  Other Locations         Mode5             Potential  \n",
       "28    SalesAgent11          Chennai         Mode5  In Progress Positive  \n",
       "40     SalesAgent4          Chennai         Mode5             Potential  \n",
       "43     SalesAgent9  Other Locations         Mode5  In Progress Positive  \n",
       "44    SalesAgent11        Bangalore         Mode5  In Progress Positive  \n",
       "...            ...              ...           ...                   ...  \n",
       "7374  SalesAgent11  Other Locations         Mode5             Junk Lead  \n",
       "7396   SalesAgent7  Other Locations         Mode5             Junk Lead  \n",
       "7398   SalesAgent2            Delhi         Mode5             Junk Lead  \n",
       "7399  SalesAgent12  Other Locations         Mode5  In Progress Negative  \n",
       "7418  SalesAgent12  Other Locations         Mode5                  LOST  \n",
       "\n",
       "[1551 rows x 9 columns]"
      ]
     },
     "execution_count": 18,
     "metadata": {},
     "output_type": "execute_result"
    }
   ],
   "source": [
    "data.loc[(data.Source == \"Call\") & (data.Delivery_Mode == \"Mode5\")]"
   ]
  },
  {
   "cell_type": "code",
   "execution_count": 19,
   "id": "f7304137",
   "metadata": {},
   "outputs": [
    {
     "data": {
      "text/plain": [
       "20.89733225545675"
      ]
     },
     "execution_count": 19,
     "metadata": {},
     "output_type": "execute_result"
    }
   ],
   "source": [
    "# Get the percentqage of sorce call with delivery mode-5\n",
    "len(data.loc[(data.Source == \"Call\") & (data.Delivery_Mode == \"Mode5\")])/7422*100"
   ]
  },
  {
   "cell_type": "markdown",
   "id": "270e4416",
   "metadata": {},
   "source": [
    "* Here almost 21% customer/client is preferred call with delivery mode-5"
   ]
  },
  {
   "cell_type": "markdown",
   "id": "412434a5",
   "metadata": {},
   "source": [
    "#### 2.Getting The sales agent 11 with potential status"
   ]
  },
  {
   "cell_type": "code",
   "execution_count": 20,
   "id": "da399d89",
   "metadata": {},
   "outputs": [
    {
     "data": {
      "text/html": [
       "<div>\n",
       "<style scoped>\n",
       "    .dataframe tbody tr th:only-of-type {\n",
       "        vertical-align: middle;\n",
       "    }\n",
       "\n",
       "    .dataframe tbody tr th {\n",
       "        vertical-align: top;\n",
       "    }\n",
       "\n",
       "    .dataframe thead th {\n",
       "        text-align: right;\n",
       "    }\n",
       "</style>\n",
       "<table border=\"1\" class=\"dataframe\">\n",
       "  <thead>\n",
       "    <tr style=\"text-align: right;\">\n",
       "      <th></th>\n",
       "      <th>Created</th>\n",
       "      <th>Product_ID</th>\n",
       "      <th>Source</th>\n",
       "      <th>Mobile</th>\n",
       "      <th>EMAIL</th>\n",
       "      <th>Sales_Agent</th>\n",
       "      <th>Location</th>\n",
       "      <th>Delivery_Mode</th>\n",
       "      <th>Status</th>\n",
       "    </tr>\n",
       "  </thead>\n",
       "  <tbody>\n",
       "    <tr>\n",
       "      <th>24</th>\n",
       "      <td>13112018 1709</td>\n",
       "      <td>18</td>\n",
       "      <td>Website</td>\n",
       "      <td>790XXXXXXX</td>\n",
       "      <td>gXXXXXXXgmailcom</td>\n",
       "      <td>SalesAgent11</td>\n",
       "      <td>Trivandrum</td>\n",
       "      <td>Mode1</td>\n",
       "      <td>Potential</td>\n",
       "    </tr>\n",
       "    <tr>\n",
       "      <th>32</th>\n",
       "      <td>13112018 1515</td>\n",
       "      <td>27</td>\n",
       "      <td>Live ChatDirect</td>\n",
       "      <td>858XXXXXXX</td>\n",
       "      <td>VALUE!</td>\n",
       "      <td>SalesAgent11</td>\n",
       "      <td>Hyderabad</td>\n",
       "      <td>Mode3</td>\n",
       "      <td>Potential</td>\n",
       "    </tr>\n",
       "    <tr>\n",
       "      <th>35</th>\n",
       "      <td>13112018 1352</td>\n",
       "      <td>9</td>\n",
       "      <td>Website</td>\n",
       "      <td>900XXXXXXX</td>\n",
       "      <td>sXXXXXXXgmailcom</td>\n",
       "      <td>SalesAgent11</td>\n",
       "      <td>Bangalore</td>\n",
       "      <td>Mode1</td>\n",
       "      <td>Potential</td>\n",
       "    </tr>\n",
       "    <tr>\n",
       "      <th>51</th>\n",
       "      <td>13112018 1109</td>\n",
       "      <td>15</td>\n",
       "      <td>Call</td>\n",
       "      <td>994XXXXXXX</td>\n",
       "      <td>VALUE!</td>\n",
       "      <td>SalesAgent11</td>\n",
       "      <td>Other Locations</td>\n",
       "      <td>Mode5</td>\n",
       "      <td>Potential</td>\n",
       "    </tr>\n",
       "    <tr>\n",
       "      <th>70</th>\n",
       "      <td>12112018 1723</td>\n",
       "      <td>18</td>\n",
       "      <td>Website</td>\n",
       "      <td>902XXXXXXX</td>\n",
       "      <td>mXXXXXXXgmailcom</td>\n",
       "      <td>SalesAgent11</td>\n",
       "      <td>Chennai</td>\n",
       "      <td>Mode1</td>\n",
       "      <td>Potential</td>\n",
       "    </tr>\n",
       "    <tr>\n",
       "      <th>...</th>\n",
       "      <td>...</td>\n",
       "      <td>...</td>\n",
       "      <td>...</td>\n",
       "      <td>...</td>\n",
       "      <td>...</td>\n",
       "      <td>...</td>\n",
       "      <td>...</td>\n",
       "      <td>...</td>\n",
       "      <td>...</td>\n",
       "    </tr>\n",
       "    <tr>\n",
       "      <th>5878</th>\n",
       "      <td>05062018 1632</td>\n",
       "      <td>18</td>\n",
       "      <td>Website</td>\n",
       "      <td></td>\n",
       "      <td>mXXXXXXXgmailcom</td>\n",
       "      <td>SalesAgent11</td>\n",
       "      <td>Hyderabad</td>\n",
       "      <td>Mode1</td>\n",
       "      <td>Potential</td>\n",
       "    </tr>\n",
       "    <tr>\n",
       "      <th>5881</th>\n",
       "      <td>05062018 1519</td>\n",
       "      <td>10</td>\n",
       "      <td>Website</td>\n",
       "      <td></td>\n",
       "      <td>sXXXXXXXciscocom</td>\n",
       "      <td>SalesAgent11</td>\n",
       "      <td>Delhi</td>\n",
       "      <td>Mode1</td>\n",
       "      <td>Potential</td>\n",
       "    </tr>\n",
       "    <tr>\n",
       "      <th>6812</th>\n",
       "      <td>13052018 1620</td>\n",
       "      <td>27</td>\n",
       "      <td>Live ChatAdwords Remarketing</td>\n",
       "      <td></td>\n",
       "      <td>gXXXXXXXgmailcom</td>\n",
       "      <td>SalesAgent11</td>\n",
       "      <td>Chennai</td>\n",
       "      <td>Mode3</td>\n",
       "      <td>Potential</td>\n",
       "    </tr>\n",
       "    <tr>\n",
       "      <th>6886</th>\n",
       "      <td>10052018 2130</td>\n",
       "      <td>5</td>\n",
       "      <td></td>\n",
       "      <td></td>\n",
       "      <td>aXXXXXXXjpwccom</td>\n",
       "      <td>SalesAgent11</td>\n",
       "      <td>Other Locations</td>\n",
       "      <td>Mode1</td>\n",
       "      <td>Potential</td>\n",
       "    </tr>\n",
       "    <tr>\n",
       "      <th>7172</th>\n",
       "      <td>04052018 0038</td>\n",
       "      <td>5</td>\n",
       "      <td>Website</td>\n",
       "      <td></td>\n",
       "      <td>mXXXXXXXotmailcom</td>\n",
       "      <td>SalesAgent11</td>\n",
       "      <td>Chennai</td>\n",
       "      <td>Mode1</td>\n",
       "      <td>Potential</td>\n",
       "    </tr>\n",
       "  </tbody>\n",
       "</table>\n",
       "<p>249 rows × 9 columns</p>\n",
       "</div>"
      ],
      "text/plain": [
       "            Created Product_ID                        Source      Mobile  \\\n",
       "24    13112018 1709         18                       Website  790XXXXXXX   \n",
       "32    13112018 1515         27               Live ChatDirect  858XXXXXXX   \n",
       "35    13112018 1352          9                       Website  900XXXXXXX   \n",
       "51    13112018 1109         15                          Call  994XXXXXXX   \n",
       "70    12112018 1723         18                       Website  902XXXXXXX   \n",
       "...             ...        ...                           ...         ...   \n",
       "5878  05062018 1632         18                       Website               \n",
       "5881  05062018 1519         10                       Website               \n",
       "6812  13052018 1620         27  Live ChatAdwords Remarketing               \n",
       "6886  10052018 2130          5                                             \n",
       "7172  04052018 0038          5                       Website               \n",
       "\n",
       "                  EMAIL   Sales_Agent         Location Delivery_Mode  \\\n",
       "24     gXXXXXXXgmailcom  SalesAgent11       Trivandrum         Mode1   \n",
       "32               VALUE!  SalesAgent11        Hyderabad         Mode3   \n",
       "35     sXXXXXXXgmailcom  SalesAgent11        Bangalore         Mode1   \n",
       "51               VALUE!  SalesAgent11  Other Locations         Mode5   \n",
       "70     mXXXXXXXgmailcom  SalesAgent11          Chennai         Mode1   \n",
       "...                 ...           ...              ...           ...   \n",
       "5878   mXXXXXXXgmailcom  SalesAgent11        Hyderabad         Mode1   \n",
       "5881   sXXXXXXXciscocom  SalesAgent11            Delhi         Mode1   \n",
       "6812   gXXXXXXXgmailcom  SalesAgent11          Chennai         Mode3   \n",
       "6886    aXXXXXXXjpwccom  SalesAgent11  Other Locations         Mode1   \n",
       "7172  mXXXXXXXotmailcom  SalesAgent11          Chennai         Mode1   \n",
       "\n",
       "         Status  \n",
       "24    Potential  \n",
       "32    Potential  \n",
       "35    Potential  \n",
       "51    Potential  \n",
       "70    Potential  \n",
       "...         ...  \n",
       "5878  Potential  \n",
       "5881  Potential  \n",
       "6812  Potential  \n",
       "6886  Potential  \n",
       "7172  Potential  \n",
       "\n",
       "[249 rows x 9 columns]"
      ]
     },
     "execution_count": 20,
     "metadata": {},
     "output_type": "execute_result"
    }
   ],
   "source": [
    "data.loc[(data.Sales_Agent == 'SalesAgent11') & (data.Status == 'Potential')]"
   ]
  },
  {
   "cell_type": "code",
   "execution_count": 21,
   "id": "eb59df8c",
   "metadata": {},
   "outputs": [
    {
     "data": {
      "text/plain": [
       "3.354890864995958"
      ]
     },
     "execution_count": 21,
     "metadata": {},
     "output_type": "execute_result"
    }
   ],
   "source": [
    "# Getting the percentage\n",
    "len(data.loc[(data.Sales_Agent == 'SalesAgent11') & (data.Status == 'Potential')])/7422*100"
   ]
  },
  {
   "cell_type": "markdown",
   "id": "fe2b99fa",
   "metadata": {},
   "source": [
    "* Sales-Agent-11 has only 3% potential customer."
   ]
  },
  {
   "cell_type": "markdown",
   "id": "b00ae905",
   "metadata": {},
   "source": [
    "#### 3.Getting all junck lead Status customer with percentage"
   ]
  },
  {
   "cell_type": "code",
   "execution_count": 22,
   "id": "ca9210f8",
   "metadata": {},
   "outputs": [
    {
     "data": {
      "text/html": [
       "<div>\n",
       "<style scoped>\n",
       "    .dataframe tbody tr th:only-of-type {\n",
       "        vertical-align: middle;\n",
       "    }\n",
       "\n",
       "    .dataframe tbody tr th {\n",
       "        vertical-align: top;\n",
       "    }\n",
       "\n",
       "    .dataframe thead th {\n",
       "        text-align: right;\n",
       "    }\n",
       "</style>\n",
       "<table border=\"1\" class=\"dataframe\">\n",
       "  <thead>\n",
       "    <tr style=\"text-align: right;\">\n",
       "      <th></th>\n",
       "      <th>Created</th>\n",
       "      <th>Product_ID</th>\n",
       "      <th>Source</th>\n",
       "      <th>Mobile</th>\n",
       "      <th>EMAIL</th>\n",
       "      <th>Sales_Agent</th>\n",
       "      <th>Location</th>\n",
       "      <th>Delivery_Mode</th>\n",
       "      <th>Status</th>\n",
       "    </tr>\n",
       "  </thead>\n",
       "  <tbody>\n",
       "    <tr>\n",
       "      <th>36</th>\n",
       "      <td>13112018 1334</td>\n",
       "      <td>19</td>\n",
       "      <td>Website</td>\n",
       "      <td>982XXXXXXX</td>\n",
       "      <td>vXXXXXXXgmailcom</td>\n",
       "      <td>SalesAgent7</td>\n",
       "      <td>Other Locations</td>\n",
       "      <td>Mode1</td>\n",
       "      <td>Junk Lead</td>\n",
       "    </tr>\n",
       "    <tr>\n",
       "      <th>74</th>\n",
       "      <td>12112018 1517</td>\n",
       "      <td>15</td>\n",
       "      <td>Call</td>\n",
       "      <td>883XXXXXXX</td>\n",
       "      <td>VALUE!</td>\n",
       "      <td>SalesAgent9</td>\n",
       "      <td>Other Locations</td>\n",
       "      <td>Mode5</td>\n",
       "      <td>Junk Lead</td>\n",
       "    </tr>\n",
       "    <tr>\n",
       "      <th>76</th>\n",
       "      <td>12112018 1515</td>\n",
       "      <td>15</td>\n",
       "      <td>Call</td>\n",
       "      <td>886XXXXXXX</td>\n",
       "      <td>VALUE!</td>\n",
       "      <td>SalesAgent11</td>\n",
       "      <td>Other Locations</td>\n",
       "      <td>Mode5</td>\n",
       "      <td>Junk Lead</td>\n",
       "    </tr>\n",
       "    <tr>\n",
       "      <th>88</th>\n",
       "      <td>12112018 1316</td>\n",
       "      <td>15</td>\n",
       "      <td>Call</td>\n",
       "      <td>790XXXXXXX</td>\n",
       "      <td>VALUE!</td>\n",
       "      <td>SalesAgent7</td>\n",
       "      <td>Other Locations</td>\n",
       "      <td>Mode5</td>\n",
       "      <td>Junk Lead</td>\n",
       "    </tr>\n",
       "    <tr>\n",
       "      <th>89</th>\n",
       "      <td>12112018 1316</td>\n",
       "      <td>15</td>\n",
       "      <td>Call</td>\n",
       "      <td>974XXXXXXX</td>\n",
       "      <td>VALUE!</td>\n",
       "      <td>SalesAgent11</td>\n",
       "      <td>Other Locations</td>\n",
       "      <td>Mode5</td>\n",
       "      <td>Junk Lead</td>\n",
       "    </tr>\n",
       "    <tr>\n",
       "      <th>...</th>\n",
       "      <td>...</td>\n",
       "      <td>...</td>\n",
       "      <td>...</td>\n",
       "      <td>...</td>\n",
       "      <td>...</td>\n",
       "      <td>...</td>\n",
       "      <td>...</td>\n",
       "      <td>...</td>\n",
       "      <td>...</td>\n",
       "    </tr>\n",
       "    <tr>\n",
       "      <th>7396</th>\n",
       "      <td>28042018 1612</td>\n",
       "      <td>15</td>\n",
       "      <td>Call</td>\n",
       "      <td></td>\n",
       "      <td>VALUE!</td>\n",
       "      <td>SalesAgent7</td>\n",
       "      <td>Other Locations</td>\n",
       "      <td>Mode5</td>\n",
       "      <td>Junk Lead</td>\n",
       "    </tr>\n",
       "    <tr>\n",
       "      <th>7398</th>\n",
       "      <td>28042018 1611</td>\n",
       "      <td>15</td>\n",
       "      <td>Call</td>\n",
       "      <td></td>\n",
       "      <td>VALUE!</td>\n",
       "      <td>SalesAgent2</td>\n",
       "      <td>Delhi</td>\n",
       "      <td>Mode5</td>\n",
       "      <td>Junk Lead</td>\n",
       "    </tr>\n",
       "    <tr>\n",
       "      <th>7401</th>\n",
       "      <td>28042018 1535</td>\n",
       "      <td>18</td>\n",
       "      <td>Live ChatBlog</td>\n",
       "      <td></td>\n",
       "      <td>gXXXXXXXgmailcom</td>\n",
       "      <td>SalesAgent3</td>\n",
       "      <td>Chennai</td>\n",
       "      <td>Mode1</td>\n",
       "      <td>Junk Lead</td>\n",
       "    </tr>\n",
       "    <tr>\n",
       "      <th>7405</th>\n",
       "      <td>28042018 1335</td>\n",
       "      <td>18</td>\n",
       "      <td>Live ChatDirect</td>\n",
       "      <td></td>\n",
       "      <td>sXXXXXXXgmailcom</td>\n",
       "      <td>SalesAgent3</td>\n",
       "      <td>Bangalore</td>\n",
       "      <td>Mode1</td>\n",
       "      <td>Junk Lead</td>\n",
       "    </tr>\n",
       "    <tr>\n",
       "      <th>7416</th>\n",
       "      <td>28042018 1000</td>\n",
       "      <td>19</td>\n",
       "      <td>Live ChatDirect</td>\n",
       "      <td></td>\n",
       "      <td>uXXXXXXXgmailcom</td>\n",
       "      <td>SalesAgent9</td>\n",
       "      <td>Other Locations</td>\n",
       "      <td>Mode3</td>\n",
       "      <td>Junk Lead</td>\n",
       "    </tr>\n",
       "  </tbody>\n",
       "</table>\n",
       "<p>1536 rows × 9 columns</p>\n",
       "</div>"
      ],
      "text/plain": [
       "            Created Product_ID           Source      Mobile             EMAIL  \\\n",
       "36    13112018 1334         19          Website  982XXXXXXX  vXXXXXXXgmailcom   \n",
       "74    12112018 1517         15             Call  883XXXXXXX            VALUE!   \n",
       "76    12112018 1515         15             Call  886XXXXXXX            VALUE!   \n",
       "88    12112018 1316         15             Call  790XXXXXXX            VALUE!   \n",
       "89    12112018 1316         15             Call  974XXXXXXX            VALUE!   \n",
       "...             ...        ...              ...         ...               ...   \n",
       "7396  28042018 1612         15             Call                        VALUE!   \n",
       "7398  28042018 1611         15             Call                        VALUE!   \n",
       "7401  28042018 1535         18    Live ChatBlog              gXXXXXXXgmailcom   \n",
       "7405  28042018 1335         18  Live ChatDirect              sXXXXXXXgmailcom   \n",
       "7416  28042018 1000         19  Live ChatDirect              uXXXXXXXgmailcom   \n",
       "\n",
       "       Sales_Agent         Location Delivery_Mode     Status  \n",
       "36     SalesAgent7  Other Locations         Mode1  Junk Lead  \n",
       "74     SalesAgent9  Other Locations         Mode5  Junk Lead  \n",
       "76    SalesAgent11  Other Locations         Mode5  Junk Lead  \n",
       "88     SalesAgent7  Other Locations         Mode5  Junk Lead  \n",
       "89    SalesAgent11  Other Locations         Mode5  Junk Lead  \n",
       "...            ...              ...           ...        ...  \n",
       "7396   SalesAgent7  Other Locations         Mode5  Junk Lead  \n",
       "7398   SalesAgent2            Delhi         Mode5  Junk Lead  \n",
       "7401   SalesAgent3          Chennai         Mode1  Junk Lead  \n",
       "7405   SalesAgent3        Bangalore         Mode1  Junk Lead  \n",
       "7416   SalesAgent9  Other Locations         Mode3  Junk Lead  \n",
       "\n",
       "[1536 rows x 9 columns]"
      ]
     },
     "execution_count": 22,
     "metadata": {},
     "output_type": "execute_result"
    }
   ],
   "source": [
    "data.loc[data['Status'] == 'Junk Lead']"
   ]
  },
  {
   "cell_type": "code",
   "execution_count": 23,
   "id": "64a5749a",
   "metadata": {},
   "outputs": [
    {
     "data": {
      "text/plain": [
       "20.695230396119644"
      ]
     },
     "execution_count": 23,
     "metadata": {},
     "output_type": "execute_result"
    }
   ],
   "source": [
    "# Getting the percentage\n",
    "len(data.loc[data['Status'] == 'Junk Lead'])/7422*100"
   ]
  },
  {
   "cell_type": "markdown",
   "id": "49b59a58",
   "metadata": {},
   "source": [
    "* Here 20% customer status is junk lead."
   ]
  },
  {
   "cell_type": "markdown",
   "id": "2cfc39da",
   "metadata": {},
   "source": [
    "#### 4.Getting Banglore location with their percentage"
   ]
  },
  {
   "cell_type": "code",
   "execution_count": 24,
   "id": "eb23728c",
   "metadata": {},
   "outputs": [
    {
     "data": {
      "text/html": [
       "<div>\n",
       "<style scoped>\n",
       "    .dataframe tbody tr th:only-of-type {\n",
       "        vertical-align: middle;\n",
       "    }\n",
       "\n",
       "    .dataframe tbody tr th {\n",
       "        vertical-align: top;\n",
       "    }\n",
       "\n",
       "    .dataframe thead th {\n",
       "        text-align: right;\n",
       "    }\n",
       "</style>\n",
       "<table border=\"1\" class=\"dataframe\">\n",
       "  <thead>\n",
       "    <tr style=\"text-align: right;\">\n",
       "      <th></th>\n",
       "      <th>Created</th>\n",
       "      <th>Product_ID</th>\n",
       "      <th>Source</th>\n",
       "      <th>Mobile</th>\n",
       "      <th>EMAIL</th>\n",
       "      <th>Sales_Agent</th>\n",
       "      <th>Location</th>\n",
       "      <th>Delivery_Mode</th>\n",
       "      <th>Status</th>\n",
       "    </tr>\n",
       "  </thead>\n",
       "  <tbody>\n",
       "    <tr>\n",
       "      <th>18</th>\n",
       "      <td>13112018 1851</td>\n",
       "      <td>9</td>\n",
       "      <td>Live ChatGoogle Organic</td>\n",
       "      <td>971XXXXXXX</td>\n",
       "      <td>mXXXXXXXgmailcom</td>\n",
       "      <td>SalesAgent3</td>\n",
       "      <td>Bangalore</td>\n",
       "      <td>Mode1</td>\n",
       "      <td>Potential</td>\n",
       "    </tr>\n",
       "    <tr>\n",
       "      <th>26</th>\n",
       "      <td>13112018 1637</td>\n",
       "      <td>18</td>\n",
       "      <td>Call</td>\n",
       "      <td>740XXXXXXX</td>\n",
       "      <td>nXXXXXXXgmailcom</td>\n",
       "      <td>SalesAgent7</td>\n",
       "      <td>Bangalore</td>\n",
       "      <td>Mode1</td>\n",
       "      <td>In Progress Positive</td>\n",
       "    </tr>\n",
       "    <tr>\n",
       "      <th>31</th>\n",
       "      <td>13112018 1516</td>\n",
       "      <td>18</td>\n",
       "      <td>Call</td>\n",
       "      <td>953XXXXXXX</td>\n",
       "      <td>VALUE!</td>\n",
       "      <td>SalesAgent7</td>\n",
       "      <td>Bangalore</td>\n",
       "      <td>Mode1</td>\n",
       "      <td>Not Responding</td>\n",
       "    </tr>\n",
       "    <tr>\n",
       "      <th>33</th>\n",
       "      <td>13112018 1411</td>\n",
       "      <td>9</td>\n",
       "      <td>By Recommendation</td>\n",
       "      <td>974XXXXXXX</td>\n",
       "      <td>cXXXXXXXgmailcom</td>\n",
       "      <td>SalesAgent7</td>\n",
       "      <td>Bangalore</td>\n",
       "      <td>Mode4</td>\n",
       "      <td>Potential</td>\n",
       "    </tr>\n",
       "    <tr>\n",
       "      <th>34</th>\n",
       "      <td>13112018 1353</td>\n",
       "      <td>9</td>\n",
       "      <td>Call</td>\n",
       "      <td>974XXXXXXX</td>\n",
       "      <td>VALUE!</td>\n",
       "      <td>SalesAgent4</td>\n",
       "      <td>Bangalore</td>\n",
       "      <td>Mode1</td>\n",
       "      <td>Potential</td>\n",
       "    </tr>\n",
       "    <tr>\n",
       "      <th>...</th>\n",
       "      <td>...</td>\n",
       "      <td>...</td>\n",
       "      <td>...</td>\n",
       "      <td>...</td>\n",
       "      <td>...</td>\n",
       "      <td>...</td>\n",
       "      <td>...</td>\n",
       "      <td>...</td>\n",
       "      <td>...</td>\n",
       "    </tr>\n",
       "    <tr>\n",
       "      <th>7409</th>\n",
       "      <td>28042018 1219</td>\n",
       "      <td>19</td>\n",
       "      <td>Call</td>\n",
       "      <td></td>\n",
       "      <td>aXXXXXXXgmailcom</td>\n",
       "      <td>SalesAgent2</td>\n",
       "      <td>Bangalore</td>\n",
       "      <td>Mode4</td>\n",
       "      <td>Long Term</td>\n",
       "    </tr>\n",
       "    <tr>\n",
       "      <th>7410</th>\n",
       "      <td>28042018 1158</td>\n",
       "      <td>18</td>\n",
       "      <td>Call</td>\n",
       "      <td></td>\n",
       "      <td>aXXXXXXXgmailcom</td>\n",
       "      <td>SalesAgent4</td>\n",
       "      <td>Bangalore</td>\n",
       "      <td>Mode1</td>\n",
       "      <td>CONVERTED</td>\n",
       "    </tr>\n",
       "    <tr>\n",
       "      <th>7412</th>\n",
       "      <td>28042018 1125</td>\n",
       "      <td>18</td>\n",
       "      <td>Just Dial</td>\n",
       "      <td></td>\n",
       "      <td>cXXXXXXXgmailcom</td>\n",
       "      <td>SalesAgent3</td>\n",
       "      <td>Bangalore</td>\n",
       "      <td>Mode1</td>\n",
       "      <td>Long Term</td>\n",
       "    </tr>\n",
       "    <tr>\n",
       "      <th>7415</th>\n",
       "      <td>28042018 1050</td>\n",
       "      <td>21</td>\n",
       "      <td>Live ChatDirect</td>\n",
       "      <td></td>\n",
       "      <td>aXXXXXXXgmailcom</td>\n",
       "      <td>SalesAgent4</td>\n",
       "      <td>Bangalore</td>\n",
       "      <td>Mode1</td>\n",
       "      <td>In Progress Negative</td>\n",
       "    </tr>\n",
       "    <tr>\n",
       "      <th>7419</th>\n",
       "      <td>28042018 0920</td>\n",
       "      <td>5</td>\n",
       "      <td>Live ChatDirect</td>\n",
       "      <td></td>\n",
       "      <td>sXXXXXXXgmailcom</td>\n",
       "      <td>SalesAgent11</td>\n",
       "      <td>Bangalore</td>\n",
       "      <td>Mode1</td>\n",
       "      <td>Not Responding</td>\n",
       "    </tr>\n",
       "  </tbody>\n",
       "</table>\n",
       "<p>2084 rows × 9 columns</p>\n",
       "</div>"
      ],
      "text/plain": [
       "            Created Product_ID                   Source      Mobile  \\\n",
       "18    13112018 1851          9  Live ChatGoogle Organic  971XXXXXXX   \n",
       "26    13112018 1637         18                     Call  740XXXXXXX   \n",
       "31    13112018 1516         18                     Call  953XXXXXXX   \n",
       "33    13112018 1411          9        By Recommendation  974XXXXXXX   \n",
       "34    13112018 1353          9                     Call  974XXXXXXX   \n",
       "...             ...        ...                      ...         ...   \n",
       "7409  28042018 1219         19                     Call               \n",
       "7410  28042018 1158         18                     Call               \n",
       "7412  28042018 1125         18                Just Dial               \n",
       "7415  28042018 1050         21          Live ChatDirect               \n",
       "7419  28042018 0920          5          Live ChatDirect               \n",
       "\n",
       "                 EMAIL   Sales_Agent   Location Delivery_Mode  \\\n",
       "18    mXXXXXXXgmailcom   SalesAgent3  Bangalore         Mode1   \n",
       "26    nXXXXXXXgmailcom   SalesAgent7  Bangalore         Mode1   \n",
       "31              VALUE!   SalesAgent7  Bangalore         Mode1   \n",
       "33    cXXXXXXXgmailcom   SalesAgent7  Bangalore         Mode4   \n",
       "34              VALUE!   SalesAgent4  Bangalore         Mode1   \n",
       "...                ...           ...        ...           ...   \n",
       "7409  aXXXXXXXgmailcom   SalesAgent2  Bangalore         Mode4   \n",
       "7410  aXXXXXXXgmailcom   SalesAgent4  Bangalore         Mode1   \n",
       "7412  cXXXXXXXgmailcom   SalesAgent3  Bangalore         Mode1   \n",
       "7415  aXXXXXXXgmailcom   SalesAgent4  Bangalore         Mode1   \n",
       "7419  sXXXXXXXgmailcom  SalesAgent11  Bangalore         Mode1   \n",
       "\n",
       "                    Status  \n",
       "18               Potential  \n",
       "26    In Progress Positive  \n",
       "31          Not Responding  \n",
       "33               Potential  \n",
       "34               Potential  \n",
       "...                    ...  \n",
       "7409             Long Term  \n",
       "7410             CONVERTED  \n",
       "7412             Long Term  \n",
       "7415  In Progress Negative  \n",
       "7419        Not Responding  \n",
       "\n",
       "[2084 rows x 9 columns]"
      ]
     },
     "execution_count": 24,
     "metadata": {},
     "output_type": "execute_result"
    }
   ],
   "source": [
    "data.loc[data['Location'] == 'Bangalore']"
   ]
  },
  {
   "cell_type": "code",
   "execution_count": 25,
   "id": "bdd920b3",
   "metadata": {},
   "outputs": [
    {
     "data": {
      "text/plain": [
       "44.13384159254553"
      ]
     },
     "execution_count": 25,
     "metadata": {},
     "output_type": "execute_result"
    }
   ],
   "source": [
    "# Getting percentage\n",
    "len(data.loc[data['Location'] == 'Bangalore'])/4722*100"
   ]
  },
  {
   "cell_type": "markdown",
   "id": "1e30da3e",
   "metadata": {},
   "source": [
    "* Maximum 44% Customer from bangalore."
   ]
  },
  {
   "cell_type": "markdown",
   "id": "7e698082",
   "metadata": {},
   "source": [
    "#### 5.Getting the maximum selling product with their percentage"
   ]
  },
  {
   "cell_type": "code",
   "execution_count": 26,
   "id": "5143b9e8",
   "metadata": {},
   "outputs": [
    {
     "data": {
      "text/html": [
       "<div>\n",
       "<style scoped>\n",
       "    .dataframe tbody tr th:only-of-type {\n",
       "        vertical-align: middle;\n",
       "    }\n",
       "\n",
       "    .dataframe tbody tr th {\n",
       "        vertical-align: top;\n",
       "    }\n",
       "\n",
       "    .dataframe thead th {\n",
       "        text-align: right;\n",
       "    }\n",
       "</style>\n",
       "<table border=\"1\" class=\"dataframe\">\n",
       "  <thead>\n",
       "    <tr style=\"text-align: right;\">\n",
       "      <th></th>\n",
       "      <th>Created</th>\n",
       "      <th>Product_ID</th>\n",
       "      <th>Source</th>\n",
       "      <th>Mobile</th>\n",
       "      <th>EMAIL</th>\n",
       "      <th>Sales_Agent</th>\n",
       "      <th>Location</th>\n",
       "      <th>Delivery_Mode</th>\n",
       "      <th>Status</th>\n",
       "    </tr>\n",
       "  </thead>\n",
       "  <tbody>\n",
       "    <tr>\n",
       "      <th>24</th>\n",
       "      <td>13112018 1709</td>\n",
       "      <td>18</td>\n",
       "      <td>Website</td>\n",
       "      <td>790XXXXXXX</td>\n",
       "      <td>gXXXXXXXgmailcom</td>\n",
       "      <td>SalesAgent11</td>\n",
       "      <td>Trivandrum</td>\n",
       "      <td>Mode1</td>\n",
       "      <td>Potential</td>\n",
       "    </tr>\n",
       "    <tr>\n",
       "      <th>26</th>\n",
       "      <td>13112018 1637</td>\n",
       "      <td>18</td>\n",
       "      <td>Call</td>\n",
       "      <td>740XXXXXXX</td>\n",
       "      <td>nXXXXXXXgmailcom</td>\n",
       "      <td>SalesAgent7</td>\n",
       "      <td>Bangalore</td>\n",
       "      <td>Mode1</td>\n",
       "      <td>In Progress Positive</td>\n",
       "    </tr>\n",
       "    <tr>\n",
       "      <th>27</th>\n",
       "      <td>13112018 1635</td>\n",
       "      <td>18</td>\n",
       "      <td>Live ChatDirect</td>\n",
       "      <td>XXXXXXX</td>\n",
       "      <td>nXXXXXXXabirlacom</td>\n",
       "      <td>SalesAgent9</td>\n",
       "      <td>Other Locations</td>\n",
       "      <td>Mode3</td>\n",
       "      <td>Not Responding</td>\n",
       "    </tr>\n",
       "    <tr>\n",
       "      <th>31</th>\n",
       "      <td>13112018 1516</td>\n",
       "      <td>18</td>\n",
       "      <td>Call</td>\n",
       "      <td>953XXXXXXX</td>\n",
       "      <td>VALUE!</td>\n",
       "      <td>SalesAgent7</td>\n",
       "      <td>Bangalore</td>\n",
       "      <td>Mode1</td>\n",
       "      <td>Not Responding</td>\n",
       "    </tr>\n",
       "    <tr>\n",
       "      <th>37</th>\n",
       "      <td>13112018 1315</td>\n",
       "      <td>18</td>\n",
       "      <td>Live ChatGoogle Organic</td>\n",
       "      <td>754XXXXXXX</td>\n",
       "      <td>kXXXXXXXiimuacin</td>\n",
       "      <td>SalesAgent9</td>\n",
       "      <td>Bangalore</td>\n",
       "      <td>Mode1</td>\n",
       "      <td>In Progress Positive</td>\n",
       "    </tr>\n",
       "    <tr>\n",
       "      <th>...</th>\n",
       "      <td>...</td>\n",
       "      <td>...</td>\n",
       "      <td>...</td>\n",
       "      <td>...</td>\n",
       "      <td>...</td>\n",
       "      <td>...</td>\n",
       "      <td>...</td>\n",
       "      <td>...</td>\n",
       "      <td>...</td>\n",
       "    </tr>\n",
       "    <tr>\n",
       "      <th>7405</th>\n",
       "      <td>28042018 1335</td>\n",
       "      <td>18</td>\n",
       "      <td>Live ChatDirect</td>\n",
       "      <td></td>\n",
       "      <td>sXXXXXXXgmailcom</td>\n",
       "      <td>SalesAgent3</td>\n",
       "      <td>Bangalore</td>\n",
       "      <td>Mode1</td>\n",
       "      <td>Junk Lead</td>\n",
       "    </tr>\n",
       "    <tr>\n",
       "      <th>7406</th>\n",
       "      <td>28042018 1320</td>\n",
       "      <td>18</td>\n",
       "      <td>Live ChatCPC</td>\n",
       "      <td></td>\n",
       "      <td>mXXXXXXXgmailcom</td>\n",
       "      <td>SalesAgent2</td>\n",
       "      <td>Hyderabad</td>\n",
       "      <td>Mode1</td>\n",
       "      <td>LOST</td>\n",
       "    </tr>\n",
       "    <tr>\n",
       "      <th>7410</th>\n",
       "      <td>28042018 1158</td>\n",
       "      <td>18</td>\n",
       "      <td>Call</td>\n",
       "      <td></td>\n",
       "      <td>aXXXXXXXgmailcom</td>\n",
       "      <td>SalesAgent4</td>\n",
       "      <td>Bangalore</td>\n",
       "      <td>Mode1</td>\n",
       "      <td>CONVERTED</td>\n",
       "    </tr>\n",
       "    <tr>\n",
       "      <th>7412</th>\n",
       "      <td>28042018 1125</td>\n",
       "      <td>18</td>\n",
       "      <td>Just Dial</td>\n",
       "      <td></td>\n",
       "      <td>cXXXXXXXgmailcom</td>\n",
       "      <td>SalesAgent3</td>\n",
       "      <td>Bangalore</td>\n",
       "      <td>Mode1</td>\n",
       "      <td>Long Term</td>\n",
       "    </tr>\n",
       "    <tr>\n",
       "      <th>7413</th>\n",
       "      <td>28042018 1125</td>\n",
       "      <td>18</td>\n",
       "      <td>Live ChatDirect</td>\n",
       "      <td></td>\n",
       "      <td>kXXXXXXXgmailcom</td>\n",
       "      <td>SalesAgent2</td>\n",
       "      <td>Delhi</td>\n",
       "      <td>Mode1</td>\n",
       "      <td>LOST</td>\n",
       "    </tr>\n",
       "  </tbody>\n",
       "</table>\n",
       "<p>1711 rows × 9 columns</p>\n",
       "</div>"
      ],
      "text/plain": [
       "            Created Product_ID                   Source      Mobile  \\\n",
       "24    13112018 1709         18                  Website  790XXXXXXX   \n",
       "26    13112018 1637         18                     Call  740XXXXXXX   \n",
       "27    13112018 1635         18          Live ChatDirect     XXXXXXX   \n",
       "31    13112018 1516         18                     Call  953XXXXXXX   \n",
       "37    13112018 1315         18  Live ChatGoogle Organic  754XXXXXXX   \n",
       "...             ...        ...                      ...         ...   \n",
       "7405  28042018 1335         18          Live ChatDirect               \n",
       "7406  28042018 1320         18             Live ChatCPC               \n",
       "7410  28042018 1158         18                     Call               \n",
       "7412  28042018 1125         18                Just Dial               \n",
       "7413  28042018 1125         18          Live ChatDirect               \n",
       "\n",
       "                  EMAIL   Sales_Agent         Location Delivery_Mode  \\\n",
       "24     gXXXXXXXgmailcom  SalesAgent11       Trivandrum         Mode1   \n",
       "26     nXXXXXXXgmailcom   SalesAgent7        Bangalore         Mode1   \n",
       "27    nXXXXXXXabirlacom   SalesAgent9  Other Locations         Mode3   \n",
       "31               VALUE!   SalesAgent7        Bangalore         Mode1   \n",
       "37     kXXXXXXXiimuacin   SalesAgent9        Bangalore         Mode1   \n",
       "...                 ...           ...              ...           ...   \n",
       "7405   sXXXXXXXgmailcom   SalesAgent3        Bangalore         Mode1   \n",
       "7406   mXXXXXXXgmailcom   SalesAgent2        Hyderabad         Mode1   \n",
       "7410   aXXXXXXXgmailcom   SalesAgent4        Bangalore         Mode1   \n",
       "7412   cXXXXXXXgmailcom   SalesAgent3        Bangalore         Mode1   \n",
       "7413   kXXXXXXXgmailcom   SalesAgent2            Delhi         Mode1   \n",
       "\n",
       "                    Status  \n",
       "24               Potential  \n",
       "26    In Progress Positive  \n",
       "27          Not Responding  \n",
       "31          Not Responding  \n",
       "37    In Progress Positive  \n",
       "...                    ...  \n",
       "7405             Junk Lead  \n",
       "7406                  LOST  \n",
       "7410             CONVERTED  \n",
       "7412             Long Term  \n",
       "7413                  LOST  \n",
       "\n",
       "[1711 rows x 9 columns]"
      ]
     },
     "execution_count": 26,
     "metadata": {},
     "output_type": "execute_result"
    }
   ],
   "source": [
    "data.loc[data['Product_ID'] == '18']"
   ]
  },
  {
   "cell_type": "code",
   "execution_count": 27,
   "id": "7f8a6366",
   "metadata": {},
   "outputs": [
    {
     "data": {
      "text/plain": [
       "36.23464633629818"
      ]
     },
     "execution_count": 27,
     "metadata": {},
     "output_type": "execute_result"
    }
   ],
   "source": [
    "# Get percentage\n",
    "len(data.loc[data['Product_ID'] == '18'])/4722*100"
   ]
  },
  {
   "cell_type": "markdown",
   "id": "1726f861",
   "metadata": {},
   "source": [
    "* 36% product id is 18"
   ]
  },
  {
   "cell_type": "markdown",
   "id": "9a2dc3b2",
   "metadata": {},
   "source": [
    "##### 6.Getting website source and open status with sales agent 10"
   ]
  },
  {
   "cell_type": "code",
   "execution_count": 28,
   "id": "1f251f9f",
   "metadata": {},
   "outputs": [
    {
     "data": {
      "text/html": [
       "<div>\n",
       "<style scoped>\n",
       "    .dataframe tbody tr th:only-of-type {\n",
       "        vertical-align: middle;\n",
       "    }\n",
       "\n",
       "    .dataframe tbody tr th {\n",
       "        vertical-align: top;\n",
       "    }\n",
       "\n",
       "    .dataframe thead th {\n",
       "        text-align: right;\n",
       "    }\n",
       "</style>\n",
       "<table border=\"1\" class=\"dataframe\">\n",
       "  <thead>\n",
       "    <tr style=\"text-align: right;\">\n",
       "      <th></th>\n",
       "      <th>Created</th>\n",
       "      <th>Product_ID</th>\n",
       "      <th>Source</th>\n",
       "      <th>Mobile</th>\n",
       "      <th>EMAIL</th>\n",
       "      <th>Sales_Agent</th>\n",
       "      <th>Location</th>\n",
       "      <th>Delivery_Mode</th>\n",
       "      <th>Status</th>\n",
       "    </tr>\n",
       "  </thead>\n",
       "  <tbody>\n",
       "    <tr>\n",
       "      <th>0</th>\n",
       "      <td>14112018 1005</td>\n",
       "      <td></td>\n",
       "      <td>Website</td>\n",
       "      <td>984XXXXXXX</td>\n",
       "      <td>aXXXXXXXgmailcom</td>\n",
       "      <td>SalesAgent11</td>\n",
       "      <td></td>\n",
       "      <td>Mode5</td>\n",
       "      <td>Open</td>\n",
       "    </tr>\n",
       "    <tr>\n",
       "      <th>1</th>\n",
       "      <td>14112018 0922</td>\n",
       "      <td></td>\n",
       "      <td>Website</td>\n",
       "      <td>XXXXXXX</td>\n",
       "      <td>VALUE!</td>\n",
       "      <td>SalesAgent10</td>\n",
       "      <td></td>\n",
       "      <td>Mode5</td>\n",
       "      <td>Open</td>\n",
       "    </tr>\n",
       "    <tr>\n",
       "      <th>2</th>\n",
       "      <td>14112018 0921</td>\n",
       "      <td></td>\n",
       "      <td>Website</td>\n",
       "      <td>XXXXXXX</td>\n",
       "      <td>dXXXXXXXyahoocom</td>\n",
       "      <td>SalesAgent10</td>\n",
       "      <td></td>\n",
       "      <td>Mode5</td>\n",
       "      <td>Open</td>\n",
       "    </tr>\n",
       "    <tr>\n",
       "      <th>3</th>\n",
       "      <td>14112018 0846</td>\n",
       "      <td></td>\n",
       "      <td>Website</td>\n",
       "      <td>XXXXXXX</td>\n",
       "      <td>wXXXXXXXgmailcom</td>\n",
       "      <td>SalesAgent10</td>\n",
       "      <td></td>\n",
       "      <td>Mode5</td>\n",
       "      <td>Open</td>\n",
       "    </tr>\n",
       "    <tr>\n",
       "      <th>4</th>\n",
       "      <td>14112018 0734</td>\n",
       "      <td></td>\n",
       "      <td>Website</td>\n",
       "      <td>XXXXXXX</td>\n",
       "      <td>cXXXXXXXgmailcom</td>\n",
       "      <td>SalesAgent10</td>\n",
       "      <td></td>\n",
       "      <td>Mode5</td>\n",
       "      <td>Open</td>\n",
       "    </tr>\n",
       "  </tbody>\n",
       "</table>\n",
       "</div>"
      ],
      "text/plain": [
       "         Created Product_ID   Source      Mobile             EMAIL  \\\n",
       "0  14112018 1005             Website  984XXXXXXX  aXXXXXXXgmailcom   \n",
       "1  14112018 0922             Website     XXXXXXX            VALUE!   \n",
       "2  14112018 0921             Website     XXXXXXX  dXXXXXXXyahoocom   \n",
       "3  14112018 0846             Website     XXXXXXX  wXXXXXXXgmailcom   \n",
       "4  14112018 0734             Website     XXXXXXX  cXXXXXXXgmailcom   \n",
       "\n",
       "    Sales_Agent Location Delivery_Mode Status  \n",
       "0  SalesAgent11                  Mode5   Open  \n",
       "1  SalesAgent10                  Mode5   Open  \n",
       "2  SalesAgent10                  Mode5   Open  \n",
       "3  SalesAgent10                  Mode5   Open  \n",
       "4  SalesAgent10                  Mode5   Open  "
      ]
     },
     "execution_count": 28,
     "metadata": {},
     "output_type": "execute_result"
    }
   ],
   "source": [
    "data.loc[(data.Source == 'Website') & (data.Status == 'Open') ].head()"
   ]
  },
  {
   "cell_type": "code",
   "execution_count": 29,
   "id": "38e8c099",
   "metadata": {},
   "outputs": [
    {
     "data": {
      "text/plain": [
       "0.8047437526471835"
      ]
     },
     "execution_count": 29,
     "metadata": {},
     "output_type": "execute_result"
    }
   ],
   "source": [
    "# Getting the percentage\n",
    "len(data.loc[(data.Source == 'Website') & (data.Status == 'Open')])/4722*100"
   ]
  },
  {
   "cell_type": "markdown",
   "id": "30fad773",
   "metadata": {},
   "source": [
    "* Here only 0.8% customer/client source is website and open status."
   ]
  },
  {
   "cell_type": "markdown",
   "id": "09071ffb",
   "metadata": {},
   "source": [
    "### DATA PREPROCESSING/FEATURE ENGINEERING"
   ]
  },
  {
   "cell_type": "markdown",
   "id": "eddad28e",
   "metadata": {},
   "source": [
    "#### 1.CHECKING MISSING VALUE"
   ]
  },
  {
   "cell_type": "code",
   "execution_count": 30,
   "id": "f5b6f48e",
   "metadata": {},
   "outputs": [
    {
     "data": {
      "text/html": [
       "<div>\n",
       "<style scoped>\n",
       "    .dataframe tbody tr th:only-of-type {\n",
       "        vertical-align: middle;\n",
       "    }\n",
       "\n",
       "    .dataframe tbody tr th {\n",
       "        vertical-align: top;\n",
       "    }\n",
       "\n",
       "    .dataframe thead th {\n",
       "        text-align: right;\n",
       "    }\n",
       "</style>\n",
       "<table border=\"1\" class=\"dataframe\">\n",
       "  <thead>\n",
       "    <tr style=\"text-align: right;\">\n",
       "      <th></th>\n",
       "      <th>Created</th>\n",
       "      <th>Product_ID</th>\n",
       "      <th>Source</th>\n",
       "      <th>Mobile</th>\n",
       "      <th>EMAIL</th>\n",
       "      <th>Sales_Agent</th>\n",
       "      <th>Location</th>\n",
       "      <th>Delivery_Mode</th>\n",
       "      <th>Status</th>\n",
       "    </tr>\n",
       "  </thead>\n",
       "  <tbody>\n",
       "    <tr>\n",
       "      <th>0</th>\n",
       "      <td>14112018 1005</td>\n",
       "      <td>NaN</td>\n",
       "      <td>Website</td>\n",
       "      <td>984XXXXXXX</td>\n",
       "      <td>aXXXXXXXgmailcom</td>\n",
       "      <td>SalesAgent11</td>\n",
       "      <td>NaN</td>\n",
       "      <td>Mode5</td>\n",
       "      <td>Open</td>\n",
       "    </tr>\n",
       "    <tr>\n",
       "      <th>1</th>\n",
       "      <td>14112018 0922</td>\n",
       "      <td>NaN</td>\n",
       "      <td>Website</td>\n",
       "      <td>XXXXXXX</td>\n",
       "      <td>VALUE!</td>\n",
       "      <td>SalesAgent10</td>\n",
       "      <td>NaN</td>\n",
       "      <td>Mode5</td>\n",
       "      <td>Open</td>\n",
       "    </tr>\n",
       "    <tr>\n",
       "      <th>2</th>\n",
       "      <td>14112018 0921</td>\n",
       "      <td>NaN</td>\n",
       "      <td>Website</td>\n",
       "      <td>XXXXXXX</td>\n",
       "      <td>dXXXXXXXyahoocom</td>\n",
       "      <td>SalesAgent10</td>\n",
       "      <td>NaN</td>\n",
       "      <td>Mode5</td>\n",
       "      <td>Open</td>\n",
       "    </tr>\n",
       "    <tr>\n",
       "      <th>3</th>\n",
       "      <td>14112018 0846</td>\n",
       "      <td>NaN</td>\n",
       "      <td>Website</td>\n",
       "      <td>XXXXXXX</td>\n",
       "      <td>wXXXXXXXgmailcom</td>\n",
       "      <td>SalesAgent10</td>\n",
       "      <td>NaN</td>\n",
       "      <td>Mode5</td>\n",
       "      <td>Open</td>\n",
       "    </tr>\n",
       "    <tr>\n",
       "      <th>4</th>\n",
       "      <td>14112018 0734</td>\n",
       "      <td>NaN</td>\n",
       "      <td>Website</td>\n",
       "      <td>XXXXXXX</td>\n",
       "      <td>cXXXXXXXgmailcom</td>\n",
       "      <td>SalesAgent10</td>\n",
       "      <td>NaN</td>\n",
       "      <td>Mode5</td>\n",
       "      <td>Open</td>\n",
       "    </tr>\n",
       "  </tbody>\n",
       "</table>\n",
       "</div>"
      ],
      "text/plain": [
       "         Created Product_ID   Source      Mobile             EMAIL  \\\n",
       "0  14112018 1005        NaN  Website  984XXXXXXX  aXXXXXXXgmailcom   \n",
       "1  14112018 0922        NaN  Website     XXXXXXX            VALUE!   \n",
       "2  14112018 0921        NaN  Website     XXXXXXX  dXXXXXXXyahoocom   \n",
       "3  14112018 0846        NaN  Website     XXXXXXX  wXXXXXXXgmailcom   \n",
       "4  14112018 0734        NaN  Website     XXXXXXX  cXXXXXXXgmailcom   \n",
       "\n",
       "    Sales_Agent Location Delivery_Mode Status  \n",
       "0  SalesAgent11      NaN         Mode5   Open  \n",
       "1  SalesAgent10      NaN         Mode5   Open  \n",
       "2  SalesAgent10      NaN         Mode5   Open  \n",
       "3  SalesAgent10      NaN         Mode5   Open  \n",
       "4  SalesAgent10      NaN         Mode5   Open  "
      ]
     },
     "execution_count": 30,
     "metadata": {},
     "output_type": "execute_result"
    }
   ],
   "source": [
    "# Replace blank spaces to nan \n",
    "data.replace('',np.nan,inplace=True)\n",
    "data.head()"
   ]
  },
  {
   "cell_type": "code",
   "execution_count": 31,
   "id": "ebc64607",
   "metadata": {},
   "outputs": [
    {
     "data": {
      "text/plain": [
       "Created             0\n",
       "Product_ID         58\n",
       "Source             17\n",
       "Mobile           1810\n",
       "EMAIL               0\n",
       "Sales_Agent        23\n",
       "Location           58\n",
       "Delivery_Mode       0\n",
       "Status              0\n",
       "dtype: int64"
      ]
     },
     "execution_count": 31,
     "metadata": {},
     "output_type": "execute_result"
    }
   ],
   "source": [
    "data.isnull().sum()"
   ]
  },
  {
   "cell_type": "markdown",
   "id": "d0183537",
   "metadata": {},
   "source": [
    "* In this data set 5 feature contain missing value with including unique feature.\n",
    "* Not handle unique feature missing value\n",
    "* Remaining feature missing value impute with mode."
   ]
  },
  {
   "cell_type": "code",
   "execution_count": 32,
   "id": "4070c154",
   "metadata": {},
   "outputs": [
    {
     "data": {
      "text/plain": [
       "0    18\n",
       "Name: Product_ID, dtype: object"
      ]
     },
     "execution_count": 32,
     "metadata": {},
     "output_type": "execute_result"
    }
   ],
   "source": [
    "# 1.Product ID  \n",
    "# use mode because of less product id as well as most frequent no.\n",
    "data.Product_ID.mode()"
   ]
  },
  {
   "cell_type": "code",
   "execution_count": 33,
   "id": "17367f68",
   "metadata": {},
   "outputs": [],
   "source": [
    "data.loc[data['Product_ID'].isnull()==True,'Product_ID']= 18"
   ]
  },
  {
   "cell_type": "code",
   "execution_count": 34,
   "id": "995bc257",
   "metadata": {},
   "outputs": [
    {
     "data": {
      "text/plain": [
       "0    Call\n",
       "Name: Source, dtype: object"
      ]
     },
     "execution_count": 34,
     "metadata": {},
     "output_type": "execute_result"
    }
   ],
   "source": [
    "# 2.Source -------> impute with mode because of categorical feature\n",
    "data.Source.mode()"
   ]
  },
  {
   "cell_type": "code",
   "execution_count": 35,
   "id": "1ad56ecd",
   "metadata": {},
   "outputs": [],
   "source": [
    "data.loc[data['Source'].isnull()==True,'Source']= 'Call'\n"
   ]
  },
  {
   "cell_type": "code",
   "execution_count": 36,
   "id": "555c5471",
   "metadata": {},
   "outputs": [
    {
     "data": {
      "text/plain": [
       "0    SalesAgent4\n",
       "Name: Sales_Agent, dtype: object"
      ]
     },
     "execution_count": 36,
     "metadata": {},
     "output_type": "execute_result"
    }
   ],
   "source": [
    "# 3.Sales agent -------> impute with mode because of categorical feature\n",
    "data.Sales_Agent.mode()"
   ]
  },
  {
   "cell_type": "code",
   "execution_count": 37,
   "id": "12524ade",
   "metadata": {},
   "outputs": [],
   "source": [
    "data.loc[data['Sales_Agent'].isnull()==True,'Sales_Agent']= 'SalesAgent4'"
   ]
  },
  {
   "cell_type": "code",
   "execution_count": 38,
   "id": "6510a6d5",
   "metadata": {},
   "outputs": [
    {
     "data": {
      "text/plain": [
       "0    Other Locations\n",
       "Name: Location, dtype: object"
      ]
     },
     "execution_count": 38,
     "metadata": {},
     "output_type": "execute_result"
    }
   ],
   "source": [
    "# 4.Location --------> impute with mode because of categorical feature\n",
    "data.Location.mode()"
   ]
  },
  {
   "cell_type": "code",
   "execution_count": 39,
   "id": "b49fd8d1",
   "metadata": {},
   "outputs": [],
   "source": [
    "data.loc[data['Location'].isnull()==True,'Location']= 'Other Locations'"
   ]
  },
  {
   "cell_type": "code",
   "execution_count": 40,
   "id": "ccc857ef",
   "metadata": {},
   "outputs": [
    {
     "data": {
      "text/plain": [
       "Created             0\n",
       "Product_ID          0\n",
       "Source              0\n",
       "Mobile           1810\n",
       "EMAIL               0\n",
       "Sales_Agent         0\n",
       "Location            0\n",
       "Delivery_Mode       0\n",
       "Status              0\n",
       "dtype: int64"
      ]
     },
     "execution_count": 40,
     "metadata": {},
     "output_type": "execute_result"
    }
   ],
   "source": [
    "# Checking missing value after imputation\n",
    "data.isnull().sum()"
   ]
  },
  {
   "cell_type": "markdown",
   "id": "5dab4145",
   "metadata": {},
   "source": [
    "### 2.FEATURES IS CONTAIN LOTS OF DIFFERENT LABEL SO WE COMPRESSES AND MERGED THE LABEL"
   ]
  },
  {
   "cell_type": "code",
   "execution_count": 41,
   "id": "0b51d81d",
   "metadata": {},
   "outputs": [
    {
     "data": {
      "text/html": [
       "<div>\n",
       "<style scoped>\n",
       "    .dataframe tbody tr th:only-of-type {\n",
       "        vertical-align: middle;\n",
       "    }\n",
       "\n",
       "    .dataframe tbody tr th {\n",
       "        vertical-align: top;\n",
       "    }\n",
       "\n",
       "    .dataframe thead th {\n",
       "        text-align: right;\n",
       "    }\n",
       "</style>\n",
       "<table border=\"1\" class=\"dataframe\">\n",
       "  <thead>\n",
       "    <tr style=\"text-align: right;\">\n",
       "      <th></th>\n",
       "      <th>Created</th>\n",
       "      <th>Product_ID</th>\n",
       "      <th>Source</th>\n",
       "      <th>Mobile</th>\n",
       "      <th>EMAIL</th>\n",
       "      <th>Sales_Agent</th>\n",
       "      <th>Location</th>\n",
       "      <th>Delivery_Mode</th>\n",
       "      <th>Status</th>\n",
       "    </tr>\n",
       "  </thead>\n",
       "  <tbody>\n",
       "    <tr>\n",
       "      <th>0</th>\n",
       "      <td>14112018 1005</td>\n",
       "      <td>18</td>\n",
       "      <td>Website</td>\n",
       "      <td>984XXXXXXX</td>\n",
       "      <td>aXXXXXXXgmailcom</td>\n",
       "      <td>SalesAgent11</td>\n",
       "      <td>Other Locations</td>\n",
       "      <td>Mode5</td>\n",
       "      <td>Open</td>\n",
       "    </tr>\n",
       "    <tr>\n",
       "      <th>1</th>\n",
       "      <td>14112018 0922</td>\n",
       "      <td>18</td>\n",
       "      <td>Website</td>\n",
       "      <td>XXXXXXX</td>\n",
       "      <td>VALUE!</td>\n",
       "      <td>SalesAgent10</td>\n",
       "      <td>Other Locations</td>\n",
       "      <td>Mode5</td>\n",
       "      <td>Open</td>\n",
       "    </tr>\n",
       "    <tr>\n",
       "      <th>2</th>\n",
       "      <td>14112018 0921</td>\n",
       "      <td>18</td>\n",
       "      <td>Website</td>\n",
       "      <td>XXXXXXX</td>\n",
       "      <td>dXXXXXXXyahoocom</td>\n",
       "      <td>SalesAgent10</td>\n",
       "      <td>Other Locations</td>\n",
       "      <td>Mode5</td>\n",
       "      <td>Open</td>\n",
       "    </tr>\n",
       "    <tr>\n",
       "      <th>3</th>\n",
       "      <td>14112018 0846</td>\n",
       "      <td>18</td>\n",
       "      <td>Website</td>\n",
       "      <td>XXXXXXX</td>\n",
       "      <td>wXXXXXXXgmailcom</td>\n",
       "      <td>SalesAgent10</td>\n",
       "      <td>Other Locations</td>\n",
       "      <td>Mode5</td>\n",
       "      <td>Open</td>\n",
       "    </tr>\n",
       "    <tr>\n",
       "      <th>4</th>\n",
       "      <td>14112018 0734</td>\n",
       "      <td>18</td>\n",
       "      <td>Website</td>\n",
       "      <td>XXXXXXX</td>\n",
       "      <td>cXXXXXXXgmailcom</td>\n",
       "      <td>SalesAgent10</td>\n",
       "      <td>Other Locations</td>\n",
       "      <td>Mode5</td>\n",
       "      <td>Open</td>\n",
       "    </tr>\n",
       "  </tbody>\n",
       "</table>\n",
       "</div>"
      ],
      "text/plain": [
       "         Created Product_ID   Source      Mobile             EMAIL  \\\n",
       "0  14112018 1005         18  Website  984XXXXXXX  aXXXXXXXgmailcom   \n",
       "1  14112018 0922         18  Website     XXXXXXX            VALUE!   \n",
       "2  14112018 0921         18  Website     XXXXXXX  dXXXXXXXyahoocom   \n",
       "3  14112018 0846         18  Website     XXXXXXX  wXXXXXXXgmailcom   \n",
       "4  14112018 0734         18  Website     XXXXXXX  cXXXXXXXgmailcom   \n",
       "\n",
       "    Sales_Agent         Location Delivery_Mode Status  \n",
       "0  SalesAgent11  Other Locations         Mode5   Open  \n",
       "1  SalesAgent10  Other Locations         Mode5   Open  \n",
       "2  SalesAgent10  Other Locations         Mode5   Open  \n",
       "3  SalesAgent10  Other Locations         Mode5   Open  \n",
       "4  SalesAgent10  Other Locations         Mode5   Open  "
      ]
     },
     "execution_count": 41,
     "metadata": {},
     "output_type": "execute_result"
    }
   ],
   "source": [
    "data.head()"
   ]
  },
  {
   "cell_type": "markdown",
   "id": "32e543d5",
   "metadata": {},
   "source": [
    "#### 1.PRODUCT ID"
   ]
  },
  {
   "cell_type": "code",
   "execution_count": 42,
   "id": "c35bc5b6",
   "metadata": {},
   "outputs": [],
   "source": [
    "# In this feature 13 product id has been sold minimum so we can replace into minimum sold product\n",
    "data.Product_ID.replace(['11','22','3','17','6','8','13','24','16','23','0','28','7','4'],'minimum sold',inplace=True)"
   ]
  },
  {
   "cell_type": "markdown",
   "id": "1f627f37",
   "metadata": {},
   "source": [
    "#### 2.SOURCE"
   ]
  },
  {
   "cell_type": "code",
   "execution_count": 43,
   "id": "9df64f68",
   "metadata": {},
   "outputs": [],
   "source": [
    "# This feature is contain total 25 label in that synthetic search/inquery of customer in different category\n",
    "# so we make groups and put similar labels in one group like [(Live ChatDirect,Live ChatGoogle Organic,Live Chat PPC)--> live chats]\n",
    "\n",
    "\n",
    "## 1st group ---- Live chat\n",
    "data.Source.replace(['Live ChatDirect','Live ChatGoogle Organic','Live Chat PPC','Live ChatBlog','Live ChatCPC',\n",
    "                    'Live ChatGoogle Ads','Live ChatAdwords Remarketing','Live ChatQuora','Live ChatYoutube',\n",
    "                    'Live ChatJustdial'],'live chat',inplace=True)"
   ]
  },
  {
   "cell_type": "code",
   "execution_count": 44,
   "id": "a6ff1a41",
   "metadata": {},
   "outputs": [],
   "source": [
    "## 2nd group ---- new client\n",
    "\n",
    "data.Source.replace(['Existing Client','Personal Contact','CRM form','Existing Customer'],'new client',inplace=True)"
   ]
  },
  {
   "cell_type": "code",
   "execution_count": 45,
   "id": "3ded208e",
   "metadata": {},
   "outputs": [],
   "source": [
    "## 3rd group --- website\n",
    "\n",
    "data.Source.replace(['US Website','Just Dial'],'social',inplace=True)"
   ]
  },
  {
   "cell_type": "code",
   "execution_count": 46,
   "id": "9ff631a3",
   "metadata": {},
   "outputs": [],
   "source": [
    "## 4th group --- recommendation\n",
    "\n",
    "data.Source.replace(['Customer Referral','By Recommendation'],'recommendation',inplace=True)"
   ]
  },
  {
   "cell_type": "code",
   "execution_count": 47,
   "id": "e80c772f",
   "metadata": {},
   "outputs": [],
   "source": [
    "## 5th group ---- campaign\n",
    "data.Source.replace(['Campaign','Email Campaign','SMS Campaign','EMail Message'],'campaign',inplace=True)"
   ]
  },
  {
   "cell_type": "code",
   "execution_count": 48,
   "id": "125d6438",
   "metadata": {},
   "outputs": [
    {
     "data": {
      "text/plain": [
       "Source\n",
       "live chat         2677\n",
       "Call              2564\n",
       "Website           1594\n",
       "recommendation     212\n",
       "social             193\n",
       "new client         146\n",
       "campaign            34\n",
       "Other                2\n",
       "Name: count, dtype: int64"
      ]
     },
     "execution_count": 48,
     "metadata": {},
     "output_type": "execute_result"
    }
   ],
   "source": [
    "# Checking the valu counts\n",
    "data.Source.value_counts()"
   ]
  },
  {
   "cell_type": "markdown",
   "id": "0a75ed67",
   "metadata": {},
   "source": [
    "#### 3.LOCATION"
   ]
  },
  {
   "cell_type": "code",
   "execution_count": 49,
   "id": "4dff949f",
   "metadata": {},
   "outputs": [],
   "source": [
    "# This feature all country city location include so we are merge into different group\n",
    "\n",
    "## 1st group ---- Other location\n",
    "data.Location.replace(['Trivandrum','Kolkata','Howrah'],'Other Locations',inplace=True)\n",
    "\n",
    "## 2nd group --- \n",
    "data.Location.replace(['UAE','Malaysia','Singapore'],'asia',inplace=True)\n",
    "\n",
    "## 3rd group \n",
    "data.Location.replace(['USA','UK','AUSTRALIA','EUROPE'],'west country',inplace=True)"
   ]
  },
  {
   "cell_type": "code",
   "execution_count": 50,
   "id": "4c09bc63",
   "metadata": {},
   "outputs": [
    {
     "data": {
      "text/plain": [
       "Location\n",
       "Other Locations    2672\n",
       "Bangalore          2084\n",
       "Chennai             909\n",
       "Hyderabad           528\n",
       "Delhi               471\n",
       "Mumbai              402\n",
       "Pune                142\n",
       "west country        114\n",
       "asia                100\n",
       "Name: count, dtype: int64"
      ]
     },
     "execution_count": 50,
     "metadata": {},
     "output_type": "execute_result"
    }
   ],
   "source": [
    "data.Location.value_counts()"
   ]
  },
  {
   "cell_type": "markdown",
   "id": "212c0985",
   "metadata": {},
   "source": [
    "#### 4.STATUS"
   ]
  },
  {
   "cell_type": "code",
   "execution_count": 51,
   "id": "14e01653",
   "metadata": {},
   "outputs": [],
   "source": [
    "# This is target veriable here we are seprate the label & make group like high potential, and low potential\n",
    "\n",
    "## 1st group --- low potential\n",
    "data.Status.replace(['Junk Lead','Not Responding','In Progress Negative','Just Enquiry','LOST'],'low potential',inplace=True)\n",
    "\n",
    "## 2nd group --- high potential\n",
    "data.Status.replace(['CONVERTED','Potential','Long Term','In Progress Positive','Open','converted'],'high potential',inplace=True)"
   ]
  },
  {
   "cell_type": "code",
   "execution_count": 52,
   "id": "f046a35b",
   "metadata": {},
   "outputs": [
    {
     "data": {
      "text/plain": [
       "Status\n",
       "low potential     4491\n",
       "high potential    2931\n",
       "Name: count, dtype: int64"
      ]
     },
     "execution_count": 52,
     "metadata": {},
     "output_type": "execute_result"
    }
   ],
   "source": [
    "data.Status.value_counts()"
   ]
  },
  {
   "cell_type": "markdown",
   "id": "fea917ab",
   "metadata": {},
   "source": [
    "### 3.CATEGORICAL DATA CONVERSION"
   ]
  },
  {
   "cell_type": "code",
   "execution_count": 53,
   "id": "4f67a0e5",
   "metadata": {},
   "outputs": [],
   "source": [
    "## 1.Product_ID\n",
    "\n",
    "# here we use frequency encoding because of mannual encoding is work \n",
    "# Assign with zero because minimum sold product\n",
    "data.loc[data['Product_ID']=='minimum sold','Product_ID']=0"
   ]
  },
  {
   "cell_type": "code",
   "execution_count": 54,
   "id": "15d42000",
   "metadata": {},
   "outputs": [],
   "source": [
    "## 2.Source --------> frequency encoding\n",
    "\n",
    "# because of maximum label and nominal data-type\n",
    "data.loc[data['Source']=='live chat','Source']=7\n",
    "data.loc[data['Source']=='Call','Source']=6\n",
    "data.loc[data['Source']=='Website','Source']=5\n",
    "data.loc[data['Source']=='recommendation','Source']=4\n",
    "data.loc[data['Source']=='social','Source']=3\n",
    "data.loc[data['Source']=='new client','Source']=2\n",
    "data.loc[data['Source']=='campaign','Source']=1\n",
    "data.loc[data['Source']=='Other','Source']=0"
   ]
  },
  {
   "cell_type": "code",
   "execution_count": 55,
   "id": "e5b74881",
   "metadata": {},
   "outputs": [],
   "source": [
    "## 3.Sales Agent ----------> frequency encoding\n",
    "\n",
    "# because of maximum label and nominal data-type\n",
    "data.loc[data['Sales_Agent']=='SalesAgent4','Sales_Agent']=11\n",
    "data.loc[data['Sales_Agent']=='SalesAgent11','Sales_Agent']=10\n",
    "data.loc[data['Sales_Agent']=='SalesAgent5','Sales_Agent']=9\n",
    "data.loc[data['Sales_Agent']=='SalesAgent9','Sales_Agent']=8\n",
    "data.loc[data['Sales_Agent']=='SalesAgent3','Sales_Agent']=7\n",
    "data.loc[data['Sales_Agent']=='SalesAgent7','Sales_Agent']=6\n",
    "data.loc[data['Sales_Agent']=='SalesAgent2','Sales_Agent']=5\n",
    "data.loc[data['Sales_Agent']=='SalesAgent12','Sales_Agent']=4\n",
    "data.loc[data['Sales_Agent']=='SalesAgent6','Sales_Agent']=3\n",
    "data.loc[data['Sales_Agent']=='SalesAgent8','Sales_Agent']=2\n",
    "data.loc[data['Sales_Agent']=='SalesAgent10','Sales_Agent']=1\n",
    "data.loc[data['Sales_Agent']=='SalesAgent1','Sales_Agent']=0\n",
    "\n"
   ]
  },
  {
   "cell_type": "code",
   "execution_count": 56,
   "id": "dd5e57b7",
   "metadata": {},
   "outputs": [],
   "source": [
    "## 4.Location --------> frequency encoding\n",
    "\n",
    "# because of maximum label and nominal data-type\n",
    "data.loc[data['Location']=='Other Locations','Location']=8\n",
    "data.loc[data['Location']=='Bangalore','Location']=7\n",
    "data.loc[data['Location']=='Chennai','Location']=6\n",
    "data.loc[data['Location']=='Hyderabad','Location']=5\n",
    "data.loc[data['Location']=='Delhi','Location']=4\n",
    "data.loc[data['Location']=='Mumbai','Location']=3\n",
    "data.loc[data['Location']=='Pune','Location']=2\n",
    "data.loc[data['Location']=='west country','Location']=1\n",
    "data.loc[data['Location']=='asia','Location']=0\n"
   ]
  },
  {
   "cell_type": "code",
   "execution_count": 57,
   "id": "a257ee53",
   "metadata": {},
   "outputs": [],
   "source": [
    "## 4. Delivery_Mode--------> frequency encoding\n",
    "\n",
    "# because of maximum label and nominal data-type\n",
    "data.loc[data['Delivery_Mode'] == 'Mode5','Delivery_Mode']=4\n",
    "data.loc[data['Delivery_Mode'] == 'Mode1','Delivery_Mode']=3\n",
    "data.loc[data['Delivery_Mode'] == 'Mode3','Delivery_Mode']=2\n",
    "data.loc[data['Delivery_Mode'] == 'Mode4','Delivery_Mode']=1\n",
    "data.loc[data['Delivery_Mode'] == 'Mode2','Delivery_Mode']=0\n"
   ]
  },
  {
   "cell_type": "code",
   "execution_count": 58,
   "id": "f08e8db8",
   "metadata": {},
   "outputs": [],
   "source": [
    "## 5. Status--------> one hot encoding\n",
    "\n",
    "# because of only two labels and nominal data-typa\n",
    "data.loc[data['Status']=='low potential','Status']=1\n",
    "data.loc[data['Status']=='high potential','Status']=0"
   ]
  },
  {
   "cell_type": "code",
   "execution_count": 59,
   "id": "3a81d8b1",
   "metadata": {},
   "outputs": [
    {
     "data": {
      "text/html": [
       "<div>\n",
       "<style scoped>\n",
       "    .dataframe tbody tr th:only-of-type {\n",
       "        vertical-align: middle;\n",
       "    }\n",
       "\n",
       "    .dataframe tbody tr th {\n",
       "        vertical-align: top;\n",
       "    }\n",
       "\n",
       "    .dataframe thead th {\n",
       "        text-align: right;\n",
       "    }\n",
       "</style>\n",
       "<table border=\"1\" class=\"dataframe\">\n",
       "  <thead>\n",
       "    <tr style=\"text-align: right;\">\n",
       "      <th></th>\n",
       "      <th>Created</th>\n",
       "      <th>Product_ID</th>\n",
       "      <th>Source</th>\n",
       "      <th>Mobile</th>\n",
       "      <th>EMAIL</th>\n",
       "      <th>Sales_Agent</th>\n",
       "      <th>Location</th>\n",
       "      <th>Delivery_Mode</th>\n",
       "      <th>Status</th>\n",
       "    </tr>\n",
       "  </thead>\n",
       "  <tbody>\n",
       "    <tr>\n",
       "      <th>0</th>\n",
       "      <td>14112018 1005</td>\n",
       "      <td>18</td>\n",
       "      <td>5</td>\n",
       "      <td>984XXXXXXX</td>\n",
       "      <td>aXXXXXXXgmailcom</td>\n",
       "      <td>10</td>\n",
       "      <td>8</td>\n",
       "      <td>4</td>\n",
       "      <td>0</td>\n",
       "    </tr>\n",
       "    <tr>\n",
       "      <th>1</th>\n",
       "      <td>14112018 0922</td>\n",
       "      <td>18</td>\n",
       "      <td>5</td>\n",
       "      <td>XXXXXXX</td>\n",
       "      <td>VALUE!</td>\n",
       "      <td>1</td>\n",
       "      <td>8</td>\n",
       "      <td>4</td>\n",
       "      <td>0</td>\n",
       "    </tr>\n",
       "    <tr>\n",
       "      <th>2</th>\n",
       "      <td>14112018 0921</td>\n",
       "      <td>18</td>\n",
       "      <td>5</td>\n",
       "      <td>XXXXXXX</td>\n",
       "      <td>dXXXXXXXyahoocom</td>\n",
       "      <td>1</td>\n",
       "      <td>8</td>\n",
       "      <td>4</td>\n",
       "      <td>0</td>\n",
       "    </tr>\n",
       "    <tr>\n",
       "      <th>3</th>\n",
       "      <td>14112018 0846</td>\n",
       "      <td>18</td>\n",
       "      <td>5</td>\n",
       "      <td>XXXXXXX</td>\n",
       "      <td>wXXXXXXXgmailcom</td>\n",
       "      <td>1</td>\n",
       "      <td>8</td>\n",
       "      <td>4</td>\n",
       "      <td>0</td>\n",
       "    </tr>\n",
       "    <tr>\n",
       "      <th>4</th>\n",
       "      <td>14112018 0734</td>\n",
       "      <td>18</td>\n",
       "      <td>5</td>\n",
       "      <td>XXXXXXX</td>\n",
       "      <td>cXXXXXXXgmailcom</td>\n",
       "      <td>1</td>\n",
       "      <td>8</td>\n",
       "      <td>4</td>\n",
       "      <td>0</td>\n",
       "    </tr>\n",
       "  </tbody>\n",
       "</table>\n",
       "</div>"
      ],
      "text/plain": [
       "         Created Product_ID Source      Mobile             EMAIL Sales_Agent  \\\n",
       "0  14112018 1005         18      5  984XXXXXXX  aXXXXXXXgmailcom          10   \n",
       "1  14112018 0922         18      5     XXXXXXX            VALUE!           1   \n",
       "2  14112018 0921         18      5     XXXXXXX  dXXXXXXXyahoocom           1   \n",
       "3  14112018 0846         18      5     XXXXXXX  wXXXXXXXgmailcom           1   \n",
       "4  14112018 0734         18      5     XXXXXXX  cXXXXXXXgmailcom           1   \n",
       "\n",
       "  Location Delivery_Mode Status  \n",
       "0        8             4      0  \n",
       "1        8             4      0  \n",
       "2        8             4      0  \n",
       "3        8             4      0  \n",
       "4        8             4      0  "
      ]
     },
     "execution_count": 59,
     "metadata": {},
     "output_type": "execute_result"
    }
   ],
   "source": [
    "data.head()"
   ]
  },
  {
   "cell_type": "markdown",
   "id": "9d8fcc78",
   "metadata": {},
   "source": [
    "### FEATURE SELECTION"
   ]
  },
  {
   "cell_type": "markdown",
   "id": "37b5b5ba",
   "metadata": {},
   "source": [
    "### 1.DROP UNIQUE AND CONSTANT COLUMN\n",
    "* In this dataset total 3 unique column available(created, mobile, and email) so im drop this column.\n",
    "* Product_Id is not unique column in this data so we are not drop this column"
   ]
  },
  {
   "cell_type": "code",
   "execution_count": 60,
   "id": "fb13a992",
   "metadata": {},
   "outputs": [],
   "source": [
    "data.drop(['Created','Mobile','EMAIL'],axis=1,inplace=True)"
   ]
  },
  {
   "cell_type": "code",
   "execution_count": 61,
   "id": "f86d6e47",
   "metadata": {},
   "outputs": [
    {
     "data": {
      "text/html": [
       "<div>\n",
       "<style scoped>\n",
       "    .dataframe tbody tr th:only-of-type {\n",
       "        vertical-align: middle;\n",
       "    }\n",
       "\n",
       "    .dataframe tbody tr th {\n",
       "        vertical-align: top;\n",
       "    }\n",
       "\n",
       "    .dataframe thead th {\n",
       "        text-align: right;\n",
       "    }\n",
       "</style>\n",
       "<table border=\"1\" class=\"dataframe\">\n",
       "  <thead>\n",
       "    <tr style=\"text-align: right;\">\n",
       "      <th></th>\n",
       "      <th>Product_ID</th>\n",
       "      <th>Source</th>\n",
       "      <th>Sales_Agent</th>\n",
       "      <th>Location</th>\n",
       "      <th>Delivery_Mode</th>\n",
       "      <th>Status</th>\n",
       "    </tr>\n",
       "  </thead>\n",
       "  <tbody>\n",
       "    <tr>\n",
       "      <th>0</th>\n",
       "      <td>18</td>\n",
       "      <td>5</td>\n",
       "      <td>10</td>\n",
       "      <td>8</td>\n",
       "      <td>4</td>\n",
       "      <td>0</td>\n",
       "    </tr>\n",
       "    <tr>\n",
       "      <th>1</th>\n",
       "      <td>18</td>\n",
       "      <td>5</td>\n",
       "      <td>1</td>\n",
       "      <td>8</td>\n",
       "      <td>4</td>\n",
       "      <td>0</td>\n",
       "    </tr>\n",
       "    <tr>\n",
       "      <th>2</th>\n",
       "      <td>18</td>\n",
       "      <td>5</td>\n",
       "      <td>1</td>\n",
       "      <td>8</td>\n",
       "      <td>4</td>\n",
       "      <td>0</td>\n",
       "    </tr>\n",
       "    <tr>\n",
       "      <th>3</th>\n",
       "      <td>18</td>\n",
       "      <td>5</td>\n",
       "      <td>1</td>\n",
       "      <td>8</td>\n",
       "      <td>4</td>\n",
       "      <td>0</td>\n",
       "    </tr>\n",
       "    <tr>\n",
       "      <th>4</th>\n",
       "      <td>18</td>\n",
       "      <td>5</td>\n",
       "      <td>1</td>\n",
       "      <td>8</td>\n",
       "      <td>4</td>\n",
       "      <td>0</td>\n",
       "    </tr>\n",
       "  </tbody>\n",
       "</table>\n",
       "</div>"
      ],
      "text/plain": [
       "  Product_ID Source Sales_Agent Location Delivery_Mode Status\n",
       "0         18      5          10        8             4      0\n",
       "1         18      5           1        8             4      0\n",
       "2         18      5           1        8             4      0\n",
       "3         18      5           1        8             4      0\n",
       "4         18      5           1        8             4      0"
      ]
     },
     "execution_count": 61,
     "metadata": {},
     "output_type": "execute_result"
    }
   ],
   "source": [
    "data.head()"
   ]
  },
  {
   "cell_type": "markdown",
   "id": "4a5b066b",
   "metadata": {},
   "source": [
    "### 2.CHANGING DATA TYPE BEFORE GET CORRELATION"
   ]
  },
  {
   "cell_type": "code",
   "execution_count": 62,
   "id": "fdd729c9",
   "metadata": {},
   "outputs": [],
   "source": [
    "# First converet the data-type of all feature because all feature data-type is object\n",
    "data_type_dict = {'Product_ID':'int64','Source':'int64','Sales_Agent':'int64','Location':'int64','Delivery_Mode':'int64',\n",
    "             'Status':'int64'}\n",
    "\n",
    "data = data.astype(data_type_dict)\n"
   ]
  },
  {
   "cell_type": "code",
   "execution_count": 63,
   "id": "df4f7db9",
   "metadata": {},
   "outputs": [
    {
     "name": "stdout",
     "output_type": "stream",
     "text": [
      "<class 'pandas.core.frame.DataFrame'>\n",
      "RangeIndex: 7422 entries, 0 to 7421\n",
      "Data columns (total 6 columns):\n",
      " #   Column         Non-Null Count  Dtype\n",
      "---  ------         --------------  -----\n",
      " 0   Product_ID     7422 non-null   int64\n",
      " 1   Source         7422 non-null   int64\n",
      " 2   Sales_Agent    7422 non-null   int64\n",
      " 3   Location       7422 non-null   int64\n",
      " 4   Delivery_Mode  7422 non-null   int64\n",
      " 5   Status         7422 non-null   int64\n",
      "dtypes: int64(6)\n",
      "memory usage: 348.0 KB\n"
     ]
    }
   ],
   "source": [
    "# Get data type of all feature\n",
    "data.info()"
   ]
  },
  {
   "cell_type": "markdown",
   "id": "9e19c813",
   "metadata": {},
   "source": [
    "### 3.CHECKING CORRELATION"
   ]
  },
  {
   "cell_type": "code",
   "execution_count": 64,
   "id": "03e56f74",
   "metadata": {},
   "outputs": [
    {
     "data": {
      "text/html": [
       "<div>\n",
       "<style scoped>\n",
       "    .dataframe tbody tr th:only-of-type {\n",
       "        vertical-align: middle;\n",
       "    }\n",
       "\n",
       "    .dataframe tbody tr th {\n",
       "        vertical-align: top;\n",
       "    }\n",
       "\n",
       "    .dataframe thead th {\n",
       "        text-align: right;\n",
       "    }\n",
       "</style>\n",
       "<table border=\"1\" class=\"dataframe\">\n",
       "  <thead>\n",
       "    <tr style=\"text-align: right;\">\n",
       "      <th></th>\n",
       "      <th>Product_ID</th>\n",
       "      <th>Source</th>\n",
       "      <th>Sales_Agent</th>\n",
       "      <th>Location</th>\n",
       "      <th>Delivery_Mode</th>\n",
       "      <th>Status</th>\n",
       "    </tr>\n",
       "  </thead>\n",
       "  <tbody>\n",
       "    <tr>\n",
       "      <th>Product_ID</th>\n",
       "      <td>1.000000</td>\n",
       "      <td>-0.009651</td>\n",
       "      <td>0.009770</td>\n",
       "      <td>-0.028297</td>\n",
       "      <td>-0.019310</td>\n",
       "      <td>-0.090575</td>\n",
       "    </tr>\n",
       "    <tr>\n",
       "      <th>Source</th>\n",
       "      <td>-0.009651</td>\n",
       "      <td>1.000000</td>\n",
       "      <td>0.020959</td>\n",
       "      <td>-0.156931</td>\n",
       "      <td>-0.035514</td>\n",
       "      <td>0.061368</td>\n",
       "    </tr>\n",
       "    <tr>\n",
       "      <th>Sales_Agent</th>\n",
       "      <td>0.009770</td>\n",
       "      <td>0.020959</td>\n",
       "      <td>1.000000</td>\n",
       "      <td>-0.114022</td>\n",
       "      <td>0.096164</td>\n",
       "      <td>0.087726</td>\n",
       "    </tr>\n",
       "    <tr>\n",
       "      <th>Location</th>\n",
       "      <td>-0.028297</td>\n",
       "      <td>-0.156931</td>\n",
       "      <td>-0.114022</td>\n",
       "      <td>1.000000</td>\n",
       "      <td>0.209398</td>\n",
       "      <td>0.080861</td>\n",
       "    </tr>\n",
       "    <tr>\n",
       "      <th>Delivery_Mode</th>\n",
       "      <td>-0.019310</td>\n",
       "      <td>-0.035514</td>\n",
       "      <td>0.096164</td>\n",
       "      <td>0.209398</td>\n",
       "      <td>1.000000</td>\n",
       "      <td>0.161352</td>\n",
       "    </tr>\n",
       "    <tr>\n",
       "      <th>Status</th>\n",
       "      <td>-0.090575</td>\n",
       "      <td>0.061368</td>\n",
       "      <td>0.087726</td>\n",
       "      <td>0.080861</td>\n",
       "      <td>0.161352</td>\n",
       "      <td>1.000000</td>\n",
       "    </tr>\n",
       "  </tbody>\n",
       "</table>\n",
       "</div>"
      ],
      "text/plain": [
       "               Product_ID    Source  Sales_Agent  Location  Delivery_Mode  \\\n",
       "Product_ID       1.000000 -0.009651     0.009770 -0.028297      -0.019310   \n",
       "Source          -0.009651  1.000000     0.020959 -0.156931      -0.035514   \n",
       "Sales_Agent      0.009770  0.020959     1.000000 -0.114022       0.096164   \n",
       "Location        -0.028297 -0.156931    -0.114022  1.000000       0.209398   \n",
       "Delivery_Mode   -0.019310 -0.035514     0.096164  0.209398       1.000000   \n",
       "Status          -0.090575  0.061368     0.087726  0.080861       0.161352   \n",
       "\n",
       "                 Status  \n",
       "Product_ID    -0.090575  \n",
       "Source         0.061368  \n",
       "Sales_Agent    0.087726  \n",
       "Location       0.080861  \n",
       "Delivery_Mode  0.161352  \n",
       "Status         1.000000  "
      ]
     },
     "execution_count": 64,
     "metadata": {},
     "output_type": "execute_result"
    }
   ],
   "source": [
    "data.corr()"
   ]
  },
  {
   "cell_type": "markdown",
   "id": "4e857a09",
   "metadata": {},
   "source": [
    "#### PLOTTING HEATMAP OF CORRELATION"
   ]
  },
  {
   "cell_type": "code",
   "execution_count": 65,
   "id": "d63affbf",
   "metadata": {},
   "outputs": [
    {
     "data": {
      "image/png": "[encoded data removed]",
      "text/plain": [
       "<Figure size 640x480 with 2 Axes>"
      ]
     },
     "metadata": {},
     "output_type": "display_data"
    }
   ],
   "source": [
    "sns.heatmap(data.corr(),annot=True,cmap='PuOr')\n",
    "plt.show()"
   ]
  },
  {
   "cell_type": "markdown",
   "id": "5a578b4c",
   "metadata": {},
   "source": [
    "* No highly correlated feature available."
   ]
  },
  {
   "cell_type": "markdown",
   "id": "0bf92a9c",
   "metadata": {},
   "source": [
    "#### NOTE:\n",
    "I'm not handel any duplicates because of I'm compressed and mereged labels."
   ]
  },
  {
   "cell_type": "markdown",
   "id": "1a1576c9",
   "metadata": {},
   "source": [
    "### SAVE PREPROCESS DATA"
   ]
  },
  {
   "cell_type": "code",
   "execution_count": 66,
   "id": "51e60b76",
   "metadata": {},
   "outputs": [
    {
     "data": {
      "text/html": [
       "<div>\n",
       "<style scoped>\n",
       "    .dataframe tbody tr th:only-of-type {\n",
       "        vertical-align: middle;\n",
       "    }\n",
       "\n",
       "    .dataframe tbody tr th {\n",
       "        vertical-align: top;\n",
       "    }\n",
       "\n",
       "    .dataframe thead th {\n",
       "        text-align: right;\n",
       "    }\n",
       "</style>\n",
       "<table border=\"1\" class=\"dataframe\">\n",
       "  <thead>\n",
       "    <tr style=\"text-align: right;\">\n",
       "      <th></th>\n",
       "      <th>Unnamed: 0</th>\n",
       "      <th>Product_ID</th>\n",
       "      <th>Source</th>\n",
       "      <th>Sales_Agent</th>\n",
       "      <th>Location</th>\n",
       "      <th>Delivery_Mode</th>\n",
       "      <th>Status</th>\n",
       "    </tr>\n",
       "  </thead>\n",
       "  <tbody>\n",
       "    <tr>\n",
       "      <th>0</th>\n",
       "      <td>0</td>\n",
       "      <td>18</td>\n",
       "      <td>5</td>\n",
       "      <td>10</td>\n",
       "      <td>8</td>\n",
       "      <td>4</td>\n",
       "      <td>0</td>\n",
       "    </tr>\n",
       "    <tr>\n",
       "      <th>1</th>\n",
       "      <td>1</td>\n",
       "      <td>18</td>\n",
       "      <td>5</td>\n",
       "      <td>1</td>\n",
       "      <td>8</td>\n",
       "      <td>4</td>\n",
       "      <td>0</td>\n",
       "    </tr>\n",
       "    <tr>\n",
       "      <th>2</th>\n",
       "      <td>2</td>\n",
       "      <td>18</td>\n",
       "      <td>5</td>\n",
       "      <td>1</td>\n",
       "      <td>8</td>\n",
       "      <td>4</td>\n",
       "      <td>0</td>\n",
       "    </tr>\n",
       "    <tr>\n",
       "      <th>3</th>\n",
       "      <td>3</td>\n",
       "      <td>18</td>\n",
       "      <td>5</td>\n",
       "      <td>1</td>\n",
       "      <td>8</td>\n",
       "      <td>4</td>\n",
       "      <td>0</td>\n",
       "    </tr>\n",
       "    <tr>\n",
       "      <th>4</th>\n",
       "      <td>4</td>\n",
       "      <td>18</td>\n",
       "      <td>5</td>\n",
       "      <td>1</td>\n",
       "      <td>8</td>\n",
       "      <td>4</td>\n",
       "      <td>0</td>\n",
       "    </tr>\n",
       "  </tbody>\n",
       "</table>\n",
       "</div>"
      ],
      "text/plain": [
       "   Unnamed: 0  Product_ID  Source  Sales_Agent  Location  Delivery_Mode  \\\n",
       "0           0          18       5           10         8              4   \n",
       "1           1          18       5            1         8              4   \n",
       "2           2          18       5            1         8              4   \n",
       "3           3          18       5            1         8              4   \n",
       "4           4          18       5            1         8              4   \n",
       "\n",
       "   Status  \n",
       "0       0  \n",
       "1       0  \n",
       "2       0  \n",
       "3       0  \n",
       "4       0  "
      ]
     },
     "execution_count": 66,
     "metadata": {},
     "output_type": "execute_result"
    }
   ],
   "source": [
    "data.to_csv(\"preprocess.csv\")\n",
    "df = pd.read_csv(\"preprocess.csv\")\n",
    "df.head()"
   ]
  },
  {
   "cell_type": "markdown",
   "id": "b004e53f",
   "metadata": {},
   "source": [
    "## MODEL CREATION"
   ]
  },
  {
   "cell_type": "markdown",
   "id": "29c35f7b",
   "metadata": {},
   "source": [
    "### AIM:\n",
    "* Create a sweet spots model [Low bias and Low veriance model]\n",
    "* Improve accuracy score"
   ]
  },
  {
   "cell_type": "markdown",
   "id": "ea1dc27f",
   "metadata": {},
   "source": [
    "### HERE WE WILL BE EXPERIMENTING WITH SIX ALGORITHM"
   ]
  },
  {
   "cell_type": "markdown",
   "id": "f7bed6d8",
   "metadata": {},
   "source": [
    "1. Logistic regression.\n",
    "2. KNeighbourClassifier\n",
    "3. Decision Tree Classifier\n",
    "4. Random Forest Classifier\n",
    "5. Grediant Boosting Classifier\n",
    "6. XGB classifier\n"
   ]
  },
  {
   "cell_type": "markdown",
   "id": "549199e3",
   "metadata": {},
   "source": [
    "#### DEFINE INDEPENDANT AND DEPENDANT VERIABLE"
   ]
  },
  {
   "cell_type": "code",
   "execution_count": 67,
   "id": "7d13280e",
   "metadata": {},
   "outputs": [],
   "source": [
    "X = df.iloc[:,1:6]\n",
    "y = df.Status"
   ]
  },
  {
   "cell_type": "code",
   "execution_count": 68,
   "id": "d6643487",
   "metadata": {},
   "outputs": [
    {
     "data": {
      "text/html": [
       "<div>\n",
       "<style scoped>\n",
       "    .dataframe tbody tr th:only-of-type {\n",
       "        vertical-align: middle;\n",
       "    }\n",
       "\n",
       "    .dataframe tbody tr th {\n",
       "        vertical-align: top;\n",
       "    }\n",
       "\n",
       "    .dataframe thead th {\n",
       "        text-align: right;\n",
       "    }\n",
       "</style>\n",
       "<table border=\"1\" class=\"dataframe\">\n",
       "  <thead>\n",
       "    <tr style=\"text-align: right;\">\n",
       "      <th></th>\n",
       "      <th>Product_ID</th>\n",
       "      <th>Source</th>\n",
       "      <th>Sales_Agent</th>\n",
       "      <th>Location</th>\n",
       "      <th>Delivery_Mode</th>\n",
       "    </tr>\n",
       "  </thead>\n",
       "  <tbody>\n",
       "    <tr>\n",
       "      <th>0</th>\n",
       "      <td>18</td>\n",
       "      <td>5</td>\n",
       "      <td>10</td>\n",
       "      <td>8</td>\n",
       "      <td>4</td>\n",
       "    </tr>\n",
       "    <tr>\n",
       "      <th>1</th>\n",
       "      <td>18</td>\n",
       "      <td>5</td>\n",
       "      <td>1</td>\n",
       "      <td>8</td>\n",
       "      <td>4</td>\n",
       "    </tr>\n",
       "    <tr>\n",
       "      <th>2</th>\n",
       "      <td>18</td>\n",
       "      <td>5</td>\n",
       "      <td>1</td>\n",
       "      <td>8</td>\n",
       "      <td>4</td>\n",
       "    </tr>\n",
       "    <tr>\n",
       "      <th>3</th>\n",
       "      <td>18</td>\n",
       "      <td>5</td>\n",
       "      <td>1</td>\n",
       "      <td>8</td>\n",
       "      <td>4</td>\n",
       "    </tr>\n",
       "    <tr>\n",
       "      <th>4</th>\n",
       "      <td>18</td>\n",
       "      <td>5</td>\n",
       "      <td>1</td>\n",
       "      <td>8</td>\n",
       "      <td>4</td>\n",
       "    </tr>\n",
       "  </tbody>\n",
       "</table>\n",
       "</div>"
      ],
      "text/plain": [
       "   Product_ID  Source  Sales_Agent  Location  Delivery_Mode\n",
       "0          18       5           10         8              4\n",
       "1          18       5            1         8              4\n",
       "2          18       5            1         8              4\n",
       "3          18       5            1         8              4\n",
       "4          18       5            1         8              4"
      ]
     },
     "execution_count": 68,
     "metadata": {},
     "output_type": "execute_result"
    }
   ],
   "source": [
    "X.head()"
   ]
  },
  {
   "cell_type": "code",
   "execution_count": 69,
   "id": "10dad62f",
   "metadata": {},
   "outputs": [
    {
     "data": {
      "text/plain": [
       "0    0\n",
       "1    0\n",
       "2    0\n",
       "3    0\n",
       "4    0\n",
       "Name: Status, dtype: int64"
      ]
     },
     "execution_count": 69,
     "metadata": {},
     "output_type": "execute_result"
    }
   ],
   "source": [
    "y.head()"
   ]
  },
  {
   "cell_type": "markdown",
   "id": "6d5e57ad",
   "metadata": {},
   "source": [
    "#### BALANCING THE TARGET COLUMN USING SMOTE"
   ]
  },
  {
   "cell_type": "code",
   "execution_count": 70,
   "id": "4a589c9c",
   "metadata": {},
   "outputs": [
    {
     "data": {
      "text/plain": [
       "Status\n",
       "1    4491\n",
       "0    2931\n",
       "Name: count, dtype: int64"
      ]
     },
     "execution_count": 70,
     "metadata": {},
     "output_type": "execute_result"
    }
   ],
   "source": [
    "df.Status.value_counts()"
   ]
  },
  {
   "cell_type": "code",
   "execution_count": 71,
   "id": "9d64c98b",
   "metadata": {},
   "outputs": [
    {
     "data": {
      "image/png": "[encoded data removed]",
      "text/plain": [
       "<Figure size 640x480 with 1 Axes>"
      ]
     },
     "metadata": {},
     "output_type": "display_data"
    }
   ],
   "source": [
    "# Plotting the graph\n",
    "sns.countplot(data.Status)\n",
    "plt.show()"
   ]
  },
  {
   "cell_type": "code",
   "execution_count": 72,
   "id": "42de6cae",
   "metadata": {},
   "outputs": [
    {
     "name": "stdout",
     "output_type": "stream",
     "text": [
      "unbalanced data Counter({1: 4491, 0: 2931})\n",
      "Balanced data Counter({0: 4491, 1: 4491})\n"
     ]
    }
   ],
   "source": [
    "# balancing data\n",
    "from collections import Counter\n",
    "from imblearn.over_sampling import SMOTE\n",
    "sm = SMOTE() #object creation\n",
    "print(\"unbalanced data\",Counter(y))\n",
    "X_sm,y_sm = sm.fit_resample(X,y)\n",
    "print('Balanced data',Counter(y_sm))"
   ]
  },
  {
   "cell_type": "markdown",
   "id": "a5e3ac4b",
   "metadata": {},
   "source": [
    "#### SPLIT TRAINING AND TESTING DATA"
   ]
  },
  {
   "cell_type": "code",
   "execution_count": 73,
   "id": "80cb787c",
   "metadata": {},
   "outputs": [],
   "source": [
    "from sklearn.model_selection import train_test_split\n",
    "X_train,X_test,y_train,y_test = train_test_split(X_sm,y_sm,test_size=0.2,random_state=42)"
   ]
  },
  {
   "cell_type": "code",
   "execution_count": 74,
   "id": "78a6b8f5",
   "metadata": {},
   "outputs": [
    {
     "data": {
      "text/plain": [
       "(7185, 5)"
      ]
     },
     "execution_count": 74,
     "metadata": {},
     "output_type": "execute_result"
    }
   ],
   "source": [
    "X_train.shape"
   ]
  },
  {
   "cell_type": "code",
   "execution_count": 75,
   "id": "6f58ae65",
   "metadata": {},
   "outputs": [
    {
     "data": {
      "text/plain": [
       "(1797, 5)"
      ]
     },
     "execution_count": 75,
     "metadata": {},
     "output_type": "execute_result"
    }
   ],
   "source": [
    "X_test.shape"
   ]
  },
  {
   "cell_type": "code",
   "execution_count": 76,
   "id": "18492e17",
   "metadata": {},
   "outputs": [
    {
     "data": {
      "text/plain": [
       "(7185,)"
      ]
     },
     "execution_count": 76,
     "metadata": {},
     "output_type": "execute_result"
    }
   ],
   "source": [
    "y_train.shape"
   ]
  },
  {
   "cell_type": "code",
   "execution_count": 77,
   "id": "0009c7c3",
   "metadata": {},
   "outputs": [
    {
     "data": {
      "text/plain": [
       "(1797,)"
      ]
     },
     "execution_count": 77,
     "metadata": {},
     "output_type": "execute_result"
    }
   ],
   "source": [
    "y_test.shape"
   ]
  },
  {
   "cell_type": "markdown",
   "id": "d7354342",
   "metadata": {},
   "source": [
    "### 1.Logistic Regression"
   ]
  },
  {
   "cell_type": "code",
   "execution_count": 78,
   "id": "969e483f",
   "metadata": {},
   "outputs": [],
   "source": [
    "# Step:1 importing library\n",
    "from sklearn.linear_model import LogisticRegression\n",
    "\n",
    "# Step:2 Object creation\n",
    "log_reg = LogisticRegression(random_state=5)\n",
    "\n",
    "# Step:3 fitting the training data\n",
    "log_reg.fit(X_train,y_train)\n",
    "\n",
    "# Step:4 Prediction on test data\n",
    "log_test_predict = log_reg.predict(X_test)\n",
    "\n",
    "# Step:5 Prediction on training data\n",
    "log_train_predict = log_reg.predict(X_train)"
   ]
  },
  {
   "cell_type": "markdown",
   "id": "fba5727f",
   "metadata": {},
   "source": [
    "### EVALUATION\n",
    "#### TRAINING ACCURACY"
   ]
  },
  {
   "cell_type": "code",
   "execution_count": 79,
   "id": "2e6dfbc2",
   "metadata": {},
   "outputs": [
    {
     "name": "stdout",
     "output_type": "stream",
     "text": [
      "Training accuracy of Logistic regression model 59.7633959638135\n",
      "Logistic regression training Classification report: \n",
      "               precision    recall  f1-score   support\n",
      "\n",
      "           0       0.59      0.60      0.59      3522\n",
      "           1       0.61      0.60      0.60      3663\n",
      "\n",
      "    accuracy                           0.60      7185\n",
      "   macro avg       0.60      0.60      0.60      7185\n",
      "weighted avg       0.60      0.60      0.60      7185\n",
      "\n"
     ]
    }
   ],
   "source": [
    "# Import library\n",
    "from sklearn.metrics import accuracy_score,f1_score,recall_score,precision_score,classification_report,confusion_matrix\n",
    "log_train_accuracy = accuracy_score(log_train_predict,y_train)\n",
    "print(\"Training accuracy of Logistic regression model\",log_train_accuracy*100)\n",
    "print(\"Logistic regression training Classification report: \\n\",classification_report(log_train_predict,y_train))"
   ]
  },
  {
   "cell_type": "markdown",
   "id": "588f46cc",
   "metadata": {},
   "source": [
    "* Logistic regression model not perform well on training data."
   ]
  },
  {
   "cell_type": "markdown",
   "id": "d93b2355",
   "metadata": {},
   "source": [
    "#### TEST ACCURACY"
   ]
  },
  {
   "cell_type": "code",
   "execution_count": 80,
   "id": "eebb9f38",
   "metadata": {},
   "outputs": [
    {
     "name": "stdout",
     "output_type": "stream",
     "text": [
      "Testing accuracy of Logistic regression model 61.26878130217028\n",
      "Logistic regression testing Classification report: \n",
      "               precision    recall  f1-score   support\n",
      "\n",
      "           0       0.62      0.63      0.62       912\n",
      "           1       0.61      0.60      0.60       885\n",
      "\n",
      "    accuracy                           0.61      1797\n",
      "   macro avg       0.61      0.61      0.61      1797\n",
      "weighted avg       0.61      0.61      0.61      1797\n",
      "\n"
     ]
    }
   ],
   "source": [
    "log_test_accuracy = accuracy_score(log_test_predict,y_test)\n",
    "print(\"Testing accuracy of Logistic regression model\",log_test_accuracy*100)\n",
    "print(\"Logistic regression testing Classification report: \\n\",classification_report(log_test_predict,y_test))"
   ]
  },
  {
   "cell_type": "markdown",
   "id": "c4aac733",
   "metadata": {},
   "source": [
    "* Logistic regression model also not perform well on testing data"
   ]
  },
  {
   "cell_type": "markdown",
   "id": "5e9a25fc",
   "metadata": {},
   "source": [
    "### 2.KNeighboursClassifier"
   ]
  },
  {
   "cell_type": "code",
   "execution_count": 81,
   "id": "f4f7523a",
   "metadata": {},
   "outputs": [
    {
     "name": "stdout",
     "output_type": "stream",
     "text": [
      "Error rate: [0.29604897050639956, 0.3021702838063439, 0.29716193656093487, 0.2815804117974402, 0.27100723427935447, 0.2815804117974402, 0.28046744574290483, 0.2865887590428492, 0.2854757929883139]\n"
     ]
    }
   ],
   "source": [
    "# Step:1 Taking the optimal value of k\n",
    "from sklearn.neighbors import KNeighborsClassifier\n",
    "error_rate = [] # Creating empty list\n",
    "for i in range(2,11):\n",
    "    knn = KNeighborsClassifier(n_neighbors=i)\n",
    "    knn.fit(X_train,y_train)\n",
    "    y_knn_predict = knn.predict(X_test)\n",
    "    error_rate.append(np.mean(y_knn_predict != y_test))\n",
    "print(\"Error rate:\",error_rate)"
   ]
  },
  {
   "cell_type": "code",
   "execution_count": 82,
   "id": "72e584fc",
   "metadata": {},
   "outputs": [
    {
     "data": {
      "image/png": "[encoded data removed]",
      "text/plain": [
       "<Figure size 1000x600 with 1 Axes>"
      ]
     },
     "metadata": {},
     "output_type": "display_data"
    }
   ],
   "source": [
    "# Step:2 Plotting the error rate\n",
    "plt.figure(figsize=(10,6))\n",
    "plt.plot(range(2,11),error_rate,color='blue', linestyle='dashed',marker='o',markerfacecolor='red', markersize=10)\n",
    "plt.title('Error Rate vs. K Value')\n",
    "plt.xlabel('K')\n",
    "plt.ylabel('Error Rate')\n",
    "plt.show()"
   ]
  },
  {
   "cell_type": "code",
   "execution_count": 83,
   "id": "c93569c4",
   "metadata": {},
   "outputs": [],
   "source": [
    "# Step:3 Get nearest neighbors\n",
    "knn1 = KNeighborsClassifier(n_neighbors=4)\n",
    "\n",
    "# Step:4 Fitting the training data\n",
    "knn1.fit(X_train,y_train)\n",
    "\n",
    "# Step:5 Prediction on testing data\n",
    "knn_test_predict = knn1.predict(X_test)\n",
    "\n",
    "# Step:6 Prediction on training data\n",
    "knn_train_predict = knn1.predict(X_train)\n"
   ]
  },
  {
   "cell_type": "markdown",
   "id": "aa839717",
   "metadata": {},
   "source": [
    "### EVALUATION"
   ]
  },
  {
   "cell_type": "markdown",
   "id": "2a107292",
   "metadata": {},
   "source": [
    "#### TRAINING ACCURACY"
   ]
  },
  {
   "cell_type": "code",
   "execution_count": 84,
   "id": "1052e4c0",
   "metadata": {},
   "outputs": [
    {
     "name": "stdout",
     "output_type": "stream",
     "text": [
      "Training accuracy of knn model  76.08907446068197\n",
      "Training classification report:\n",
      "               precision    recall  f1-score   support\n",
      "\n",
      "           0       0.91      0.70      0.79      4623\n",
      "           1       0.62      0.87      0.72      2562\n",
      "\n",
      "    accuracy                           0.76      7185\n",
      "   macro avg       0.76      0.79      0.76      7185\n",
      "weighted avg       0.80      0.76      0.77      7185\n",
      "\n"
     ]
    }
   ],
   "source": [
    "knn_train_accuracy = accuracy_score(y_train,knn_train_predict)\n",
    "print(\"Training accuracy of knn model \",knn_train_accuracy*100)\n",
    "print(\"Training classification report:\\n\",classification_report(knn_train_predict,y_train))"
   ]
  },
  {
   "cell_type": "markdown",
   "id": "c7eab51b",
   "metadata": {},
   "source": [
    "* KNN claaifier model is slightly perform well on training data"
   ]
  },
  {
   "cell_type": "markdown",
   "id": "71946c86",
   "metadata": {},
   "source": [
    "#### TESTING ACCURACY"
   ]
  },
  {
   "cell_type": "code",
   "execution_count": 85,
   "id": "cee8721d",
   "metadata": {},
   "outputs": [
    {
     "name": "stdout",
     "output_type": "stream",
     "text": [
      "Testing accuracy of knn model 70.2838063439065\n",
      "Testing classification report: \n",
      "               precision    recall  f1-score   support\n",
      "\n",
      "           0       0.66      0.86      0.75       926\n",
      "           1       0.78      0.53      0.64       871\n",
      "\n",
      "    accuracy                           0.70      1797\n",
      "   macro avg       0.72      0.70      0.69      1797\n",
      "weighted avg       0.72      0.70      0.69      1797\n",
      "\n"
     ]
    }
   ],
   "source": [
    "knn_test_accuracy = accuracy_score(y_test,knn_test_predict)\n",
    "print(\"Testing accuracy of knn model\",knn_test_accuracy*100)\n",
    "print(\"Testing classification report: \\n\",classification_report(y_test,knn_test_predict))"
   ]
  },
  {
   "cell_type": "markdown",
   "id": "3bf3377c",
   "metadata": {},
   "source": [
    "* But testing score is still lagging so i apply bagging"
   ]
  },
  {
   "cell_type": "markdown",
   "id": "94a08d6d",
   "metadata": {},
   "source": [
    "#### USE BAGGING ON KNEIGHBOURS CLASSIFIER"
   ]
  },
  {
   "cell_type": "code",
   "execution_count": 86,
   "id": "57ba9c46",
   "metadata": {},
   "outputs": [],
   "source": [
    "# step:1 Create a K-neighbour classifier object\n",
    "knn1 = KNeighborsClassifier(n_neighbors=3)\n",
    "\n",
    "# Step:2 importing library and creating bagging object\n",
    "from sklearn.ensemble import BaggingClassifier\n",
    "bagg = BaggingClassifier(base_estimator=knn1,n_estimators=50)\n",
    "#base_estimator---> algorithm which you want to pass\n",
    "#n_estimotors-----> number of base learners\n",
    "\n",
    "# Step:3 Fitting the training data\n",
    "bagg.fit(X_train,y_train)\n",
    "\n",
    "# Step:4 Prediction on test data\n",
    "bagg_predict = bagg.predict(X_test)"
   ]
  },
  {
   "cell_type": "markdown",
   "id": "da991f69",
   "metadata": {},
   "source": [
    "#### EVALUATION"
   ]
  },
  {
   "cell_type": "code",
   "execution_count": 87,
   "id": "f55b1c09",
   "metadata": {},
   "outputs": [
    {
     "name": "stdout",
     "output_type": "stream",
     "text": [
      "Score after bagging: 72.62103505843072\n"
     ]
    }
   ],
   "source": [
    "bagg_accuracy = accuracy_score(y_test,bagg_predict)\n",
    "print(\"Score after bagging:\",bagg_accuracy*100)"
   ]
  },
  {
   "cell_type": "markdown",
   "id": "27111704",
   "metadata": {},
   "source": [
    "* After apply bagging score is slightly improve"
   ]
  },
  {
   "cell_type": "markdown",
   "id": "cda92ffe",
   "metadata": {},
   "source": [
    "### 3.Decision Tree "
   ]
  },
  {
   "cell_type": "code",
   "execution_count": 88,
   "id": "f82f0fae",
   "metadata": {},
   "outputs": [],
   "source": [
    "# Step:1 Importing library and object creation\n",
    "from sklearn.tree import DecisionTreeClassifier\n",
    "\n",
    "dtc = DecisionTreeClassifier()\n",
    "\n",
    "# Step:2 fitting training data\n",
    "dtc.fit(X_train,y_train)\n",
    "\n",
    "# Step:3 Prediction on test data\n",
    "dtc_test_predict = dtc.predict(X_test)\n",
    "\n",
    "# Step:4 Prediction on training data\n",
    "dtc_train_predict = dtc.predict(X_train)"
   ]
  },
  {
   "cell_type": "markdown",
   "id": "b229fc63",
   "metadata": {},
   "source": [
    "### EVALUATION\n",
    "#### TRAINING ACCURACY"
   ]
  },
  {
   "cell_type": "code",
   "execution_count": 89,
   "id": "95e70f3a",
   "metadata": {},
   "outputs": [
    {
     "name": "stdout",
     "output_type": "stream",
     "text": [
      "Training accuracy of Decision tree classifier: 84.09185803757829\n",
      "classification report of training:\n",
      "               precision    recall  f1-score   support\n",
      "\n",
      "           0       0.80      0.90      0.85      3565\n",
      "           1       0.89      0.78      0.83      3620\n",
      "\n",
      "    accuracy                           0.84      7185\n",
      "   macro avg       0.85      0.84      0.84      7185\n",
      "weighted avg       0.85      0.84      0.84      7185\n",
      "\n"
     ]
    }
   ],
   "source": [
    "dtc_train_accuracy = accuracy_score(y_train,dtc_train_predict)\n",
    "print(\"Training accuracy of Decision tree classifier:\",dtc_train_accuracy*100)\n",
    "print(\"classification report of training:\"'\\n',classification_report(y_train,dtc_train_predict))"
   ]
  },
  {
   "cell_type": "markdown",
   "id": "37168dfc",
   "metadata": {},
   "source": [
    "* Decision tree classifier well train on training data"
   ]
  },
  {
   "cell_type": "markdown",
   "id": "25517cf2",
   "metadata": {},
   "source": [
    "#### TESTING ACCURACY"
   ]
  },
  {
   "cell_type": "code",
   "execution_count": 90,
   "id": "250f1e0d",
   "metadata": {},
   "outputs": [
    {
     "name": "stdout",
     "output_type": "stream",
     "text": [
      "Training accuracy of Decision tree classifier: 72.67668336115747\n",
      "classification report of training:\n",
      "               precision    recall  f1-score   support\n",
      "\n",
      "           0       0.72      0.78      0.75       926\n",
      "           1       0.74      0.67      0.70       871\n",
      "\n",
      "    accuracy                           0.73      1797\n",
      "   macro avg       0.73      0.73      0.73      1797\n",
      "weighted avg       0.73      0.73      0.73      1797\n",
      "\n"
     ]
    }
   ],
   "source": [
    "dtc_test_accuracy = accuracy_score(y_test,dtc_test_predict)\n",
    "print(\"Training accuracy of Decision tree classifier:\",dtc_test_accuracy*100)\n",
    "print(\"classification report of training:\"'\\n',classification_report(y_test,dtc_test_predict))"
   ]
  },
  {
   "cell_type": "markdown",
   "id": "d3d35b5c",
   "metadata": {},
   "source": [
    "* But Not perform well on testing data so I apply hyperparameter tunning"
   ]
  },
  {
   "cell_type": "markdown",
   "id": "07ba45eb",
   "metadata": {},
   "source": [
    "#### HYPER PARAMETER TUNNING"
   ]
  },
  {
   "cell_type": "code",
   "execution_count": 91,
   "id": "4b3e2be3",
   "metadata": {},
   "outputs": [
    {
     "name": "stdout",
     "output_type": "stream",
     "text": [
      "Fitting 3 folds for each of 4176 candidates, totalling 12528 fits\n",
      "Best paramters: {'criterion': 'entropy', 'max_depth': 20, 'min_samples_leaf': 1, 'min_samples_split': 2, 'splitter': 'random'}\n"
     ]
    }
   ],
   "source": [
    "# Step:1 importing library\n",
    "from sklearn.model_selection import GridSearchCV\n",
    "\n",
    "# Step:2 Tunning the parameter\n",
    "params = {\n",
    "    \"criterion\":(\"gini\", \"entropy\"), \n",
    "    \"splitter\":(\"best\", \"random\"), \n",
    "    \"max_depth\":(list(range(1, 30))), \n",
    "    \"min_samples_split\":[2, 3, 4,5], \n",
    "    \"min_samples_leaf\":list(range(1, 10)), \n",
    "}\n",
    "\n",
    "\n",
    "tree_c = DecisionTreeClassifier(random_state=3)\n",
    "tree_cv = GridSearchCV(tree_c, params, scoring=\"f1\", n_jobs=-1, verbose=2, cv=3)\n",
    "\n",
    "# Fitting traning data\n",
    "tree_cv.fit(X_train,y_train)\n",
    "\n",
    "# Get the best parameter\n",
    "best_params = tree_cv.best_params_\n",
    "print(f\"Best paramters: {best_params}\")\n",
    "\n"
   ]
  },
  {
   "cell_type": "code",
   "execution_count": 92,
   "id": "9bb54420",
   "metadata": {},
   "outputs": [],
   "source": [
    "# Step:3 place the parameter on decision tree classifier\n",
    "dt1=DecisionTreeClassifier(criterion='gini',\n",
    "                           max_depth=13,min_samples_leaf=1,\n",
    "                           min_samples_split=2,splitter='best')"
   ]
  },
  {
   "cell_type": "code",
   "execution_count": 93,
   "id": "c11f594d",
   "metadata": {},
   "outputs": [],
   "source": [
    "# Step:4 fitting training data\n",
    "dt1.fit(X_train,y_train)\n",
    "\n",
    "# Step:5 prdiction on testing data\n",
    "yhat = dt1.predict(X_test)\n"
   ]
  },
  {
   "cell_type": "markdown",
   "id": "2bf225e7",
   "metadata": {},
   "source": [
    "#### EVALUATION"
   ]
  },
  {
   "cell_type": "code",
   "execution_count": 94,
   "id": "00cef14a",
   "metadata": {},
   "outputs": [
    {
     "name": "stdout",
     "output_type": "stream",
     "text": [
      "Accuracy score: 71.84195882025598\n",
      "Classification report:\n",
      "               precision    recall  f1-score   support\n",
      "\n",
      "           0       0.71      0.76      0.74       926\n",
      "           1       0.73      0.68      0.70       871\n",
      "\n",
      "    accuracy                           0.72      1797\n",
      "   macro avg       0.72      0.72      0.72      1797\n",
      "weighted avg       0.72      0.72      0.72      1797\n",
      "\n"
     ]
    }
   ],
   "source": [
    "dt1_test_accuracy = accuracy_score(y_test,yhat)\n",
    "print(\"Accuracy score:\",dt1_test_accuracy*100)\n",
    "print(\"Classification report:\"'\\n',classification_report(y_test,yhat))"
   ]
  },
  {
   "cell_type": "markdown",
   "id": "18ff4743",
   "metadata": {},
   "source": [
    "* Score Not improve after hyper-parameter tunning"
   ]
  },
  {
   "cell_type": "markdown",
   "id": "f93e851a",
   "metadata": {},
   "source": [
    "### 4.Random Forest Classifier"
   ]
  },
  {
   "cell_type": "code",
   "execution_count": 95,
   "id": "5e4fbb6d",
   "metadata": {},
   "outputs": [],
   "source": [
    "# Step:1 import library and object creation\n",
    "from sklearn.ensemble import RandomForestClassifier\n",
    "rf = RandomForestClassifier()\n",
    "\n",
    "# Step:2 fitting the training data\n",
    "rf.fit(X_train,y_train)\n",
    "\n",
    "# Step:3 Prediction on test data\n",
    "rf_test_predict = rf.predict(X_test)\n",
    "\n",
    "# Step:4 Prediction on training data\n",
    "rf_train_predict = rf.predict(X_train)"
   ]
  },
  {
   "cell_type": "markdown",
   "id": "1e9054b2",
   "metadata": {},
   "source": [
    "### EVALUATION\n",
    "#### TRAINING ACCURACY"
   ]
  },
  {
   "cell_type": "code",
   "execution_count": 96,
   "id": "e72d97bd",
   "metadata": {},
   "outputs": [
    {
     "name": "stdout",
     "output_type": "stream",
     "text": [
      "Training accuracy of random forest classifier: 84.09185803757829\n",
      "Classification report of training:\n",
      "               precision    recall  f1-score   support\n",
      "\n",
      "           0       0.82      0.87      0.84      3565\n",
      "           1       0.86      0.82      0.84      3620\n",
      "\n",
      "    accuracy                           0.84      7185\n",
      "   macro avg       0.84      0.84      0.84      7185\n",
      "weighted avg       0.84      0.84      0.84      7185\n",
      "\n"
     ]
    }
   ],
   "source": [
    "rf_train_accuracy = accuracy_score(y_train,rf_train_predict)\n",
    "print(\"Training accuracy of random forest classifier:\",rf_train_accuracy*100)\n",
    "print(\"Classification report of training:\"'\\n',classification_report(y_train,rf_train_predict))"
   ]
  },
  {
   "cell_type": "markdown",
   "id": "f19619ac",
   "metadata": {},
   "source": [
    "* Random forest model well train on training data."
   ]
  },
  {
   "cell_type": "markdown",
   "id": "c394715d",
   "metadata": {},
   "source": [
    "#### TESTING ACCURACY"
   ]
  },
  {
   "cell_type": "code",
   "execution_count": 97,
   "id": "52f598d8",
   "metadata": {},
   "outputs": [
    {
     "name": "stdout",
     "output_type": "stream",
     "text": [
      "Testing accuracy of random forest classifier: 72.67668336115747\n",
      "Classification report of training:\n",
      "               precision    recall  f1-score   support\n",
      "\n",
      "           0       0.73      0.75      0.74       926\n",
      "           1       0.73      0.70      0.71       871\n",
      "\n",
      "    accuracy                           0.73      1797\n",
      "   macro avg       0.73      0.73      0.73      1797\n",
      "weighted avg       0.73      0.73      0.73      1797\n",
      "\n"
     ]
    }
   ],
   "source": [
    "rf_test_accuracy = accuracy_score(y_test,rf_test_predict)\n",
    "print(\"Testing accuracy of random forest classifier:\",rf_test_accuracy*100)\n",
    "print(\"Classification report of training:\"'\\n',classification_report(y_test,rf_test_predict))"
   ]
  },
  {
   "cell_type": "markdown",
   "id": "881b30bb",
   "metadata": {},
   "source": [
    "* But not perform well on testing side so i need to apply hyperparmeter tunning"
   ]
  },
  {
   "cell_type": "markdown",
   "id": "4fd43851",
   "metadata": {},
   "source": [
    "#### HYPER PARAMETER TUNNING"
   ]
  },
  {
   "cell_type": "code",
   "execution_count": 98,
   "id": "851eef96",
   "metadata": {},
   "outputs": [
    {
     "name": "stdout",
     "output_type": "stream",
     "text": [
      "Fitting 3 folds for each of 100 candidates, totalling 300 fits\n",
      "Best paramters: {'n_estimators': 100, 'min_samples_split': 15, 'min_samples_leaf': 1, 'max_features': 'sqrt', 'max_depth': 110})\n"
     ]
    }
   ],
   "source": [
    "# Step:1 [imputation of parameter]\n",
    "from sklearn.model_selection import RandomizedSearchCV\n",
    "# not used grid search cv beacuse memory reason\n",
    "\n",
    "n_estimators = [int(x) for x in np.linspace(start=100, stop=2000, num=10)]\n",
    "max_features = ['auto', 'sqrt'] ### auto - select randomly, sqrt - \n",
    "max_depth = [int(x) for x in np.linspace(10, 110, num=10)] ### level in the tree\n",
    "max_depth.append(None)\n",
    "min_samples_split = [2, 5, 15]\n",
    "min_samples_leaf = [1, 2, 4]\n",
    "\n",
    "\n",
    "# Step:2 make a dictionary of parameter\n",
    "random_grid = {'n_estimators': n_estimators, 'max_features': max_features,\n",
    "               'max_depth': max_depth, 'min_samples_split': min_samples_split,\n",
    "               'min_samples_leaf': min_samples_leaf}\n",
    "\n",
    "# Step:3 Object creation\n",
    "rf_clf1 = RandomForestClassifier(random_state=42) \n",
    "# provide random state beacuse select row and column randomly\n",
    "\n",
    "\n",
    "# Step:4 randomized search cv with parameter\n",
    "rf_cv = RandomizedSearchCV(estimator=rf_clf1, scoring='f1',param_distributions=random_grid, n_iter=100, cv=3, \n",
    "                               verbose=3, random_state=42, n_jobs=-1)\n",
    "\n",
    "\n",
    "# Step:5 fitting the training data\n",
    "rf_cv.fit(X_train, y_train)\n",
    "\n",
    "# Step:6 Getting the best parameter\n",
    "rf_best_params = rf_cv.best_params_\n",
    "print(f\"Best paramters: {rf_best_params})\")\n",
    " \n"
   ]
  },
  {
   "cell_type": "code",
   "execution_count": 99,
   "id": "fcedc858",
   "metadata": {},
   "outputs": [],
   "source": [
    "# Step:7 \n",
    "rf_clf2 = RandomForestClassifier(**rf_best_params)\n",
    "\n",
    "# Step:8 Fitting the training data\n",
    "rf_clf2.fit(X_train,y_train)\n",
    "\n",
    "# Step:9 Prediction on test data\n",
    "y_predict = rf_clf2.predict(X_test)\n"
   ]
  },
  {
   "cell_type": "markdown",
   "id": "e6c1cb4b",
   "metadata": {},
   "source": [
    "#### EVALUATION"
   ]
  },
  {
   "cell_type": "code",
   "execution_count": 100,
   "id": "decf367d",
   "metadata": {},
   "outputs": [
    {
     "name": "stdout",
     "output_type": "stream",
     "text": [
      "Testing accuracy after hyper parameter tunning: 73.1775180856984\n"
     ]
    }
   ],
   "source": [
    "test_accuracy = accuracy_score(y_test,y_predict)\n",
    "print(\"Testing accuracy after hyper parameter tunning:\",test_accuracy*100)"
   ]
  },
  {
   "cell_type": "markdown",
   "id": "bacd3975",
   "metadata": {},
   "source": [
    "* Random forest testing score after hyper parameter tunning."
   ]
  },
  {
   "cell_type": "markdown",
   "id": "c8e1805f",
   "metadata": {},
   "source": [
    "### 5.Geadient Boosting Classifier"
   ]
  },
  {
   "cell_type": "code",
   "execution_count": 101,
   "id": "eebfa0e4",
   "metadata": {},
   "outputs": [],
   "source": [
    "# Step:1 Object creation\n",
    "from sklearn.ensemble import GradientBoostingClassifier\n",
    "gbm=GradientBoostingClassifier(learning_rate=0.1,n_estimators=150,random_state=42)\n",
    "\n",
    "# Step:2 fitting the training data\n",
    "gbm.fit(X_train,y_train) ## fitting the data\n",
    "\n",
    "# Step:3 prediction on test data\n",
    "gbm_test_predict=gbm.predict(X_test)\n",
    "\n",
    "# Step:4 Prediction on train data\n",
    "gbm_train_predict = gbm.predict(X_train)\n"
   ]
  },
  {
   "cell_type": "markdown",
   "id": "68221ca1",
   "metadata": {},
   "source": [
    "### EVALUATION\n",
    "#### TRAINING ACCURACY"
   ]
  },
  {
   "cell_type": "code",
   "execution_count": 102,
   "id": "e159e14e",
   "metadata": {},
   "outputs": [
    {
     "name": "stdout",
     "output_type": "stream",
     "text": [
      "Grediant boosting classifier training accuracy: 73.41684064022269\n",
      "Classification report of training:\n",
      "               precision    recall  f1-score   support\n",
      "\n",
      "           0       0.71      0.77      0.74      3565\n",
      "           1       0.76      0.70      0.73      3620\n",
      "\n",
      "    accuracy                           0.73      7185\n",
      "   macro avg       0.74      0.73      0.73      7185\n",
      "weighted avg       0.74      0.73      0.73      7185\n",
      "\n"
     ]
    }
   ],
   "source": [
    "gbm_train_accuracy = accuracy_score(y_train,gbm_train_predict)\n",
    "print(\"Grediant boosting classifier training accuracy:\",gbm_train_accuracy*100)\n",
    "print(\"Classification report of training:\"'\\n',classification_report(y_train,gbm_train_predict))"
   ]
  },
  {
   "cell_type": "markdown",
   "id": "036f3c99",
   "metadata": {},
   "source": [
    "#### TESTING ACCURACY"
   ]
  },
  {
   "cell_type": "code",
   "execution_count": 103,
   "id": "a4593c4d",
   "metadata": {},
   "outputs": [
    {
     "name": "stdout",
     "output_type": "stream",
     "text": [
      "Grediant boosting classifier testing accuracy: 73.62270450751252\n",
      "Classification report of testing:\n",
      "               precision    recall  f1-score   support\n",
      "\n",
      "           0       0.73      0.77      0.75       926\n",
      "           1       0.74      0.70      0.72       871\n",
      "\n",
      "    accuracy                           0.74      1797\n",
      "   macro avg       0.74      0.74      0.74      1797\n",
      "weighted avg       0.74      0.74      0.74      1797\n",
      "\n"
     ]
    }
   ],
   "source": [
    "gbm_test_accuracy = accuracy_score(y_test,gbm_test_predict)\n",
    "print(\"Grediant boosting classifier testing accuracy:\",gbm_test_accuracy*100)\n",
    "print(\"Classification report of testing:\"'\\n',classification_report(y_test,gbm_test_predict))"
   ]
  },
  {
   "cell_type": "markdown",
   "id": "2e7b057a",
   "metadata": {},
   "source": [
    "* Grediant bossting classifier is well work on training and testing side."
   ]
  },
  {
   "cell_type": "markdown",
   "id": "c3cb229b",
   "metadata": {},
   "source": [
    "### 6.XGB Classifier"
   ]
  },
  {
   "cell_type": "code",
   "execution_count": 104,
   "id": "2a383b32",
   "metadata": {},
   "outputs": [],
   "source": [
    "# Step:1 import library and object creation\n",
    "import xgboost\n",
    "from xgboost import XGBClassifier\n",
    "xgb = XGBClassifier()\n",
    "\n",
    "# Step:2 Fitting the training data\n",
    "xgb.fit(X_train,y_train)\n",
    "\n",
    "# Step:3 Prediction on training data\n",
    "xgb_train_predict = xgb.predict(X_train)\n",
    "\n",
    "# Step:4 Prediction on testing data\n",
    "xgb_test_predict = xgb.predict(X_test)"
   ]
  },
  {
   "cell_type": "markdown",
   "id": "fe1fc42c",
   "metadata": {},
   "source": [
    "### EVALUATION"
   ]
  },
  {
   "cell_type": "markdown",
   "id": "3e6911f6",
   "metadata": {},
   "source": [
    "#### TRAINING ACCURACY"
   ]
  },
  {
   "cell_type": "code",
   "execution_count": 105,
   "id": "9328c86c",
   "metadata": {},
   "outputs": [
    {
     "name": "stdout",
     "output_type": "stream",
     "text": [
      "Training accuracy of xgb model 79.61029923451636\n",
      "Classifiaction report on training: \n",
      "               precision    recall  f1-score   support\n",
      "\n",
      "           0       0.83      0.77      0.80      3832\n",
      "           1       0.76      0.82      0.79      3353\n",
      "\n",
      "    accuracy                           0.80      7185\n",
      "   macro avg       0.80      0.80      0.80      7185\n",
      "weighted avg       0.80      0.80      0.80      7185\n",
      "\n"
     ]
    }
   ],
   "source": [
    "xgb_train_accuracy = accuracy_score(xgb_train_predict,y_train)\n",
    "print(\"Training accuracy of xgb model\",xgb_train_accuracy*100)\n",
    "print(\"Classifiaction report on training: \\n\",classification_report(xgb_train_predict,y_train))"
   ]
  },
  {
   "cell_type": "markdown",
   "id": "9cbd926e",
   "metadata": {},
   "source": [
    "* XGB classifier model is not perform well on training side"
   ]
  },
  {
   "cell_type": "markdown",
   "id": "7d893cb2",
   "metadata": {},
   "source": [
    "#### TEST ACCURACY"
   ]
  },
  {
   "cell_type": "code",
   "execution_count": 106,
   "id": "bcf379d6",
   "metadata": {},
   "outputs": [
    {
     "name": "stdout",
     "output_type": "stream",
     "text": [
      "Testing accuracy of xgb model 73.84529771841959\n",
      "Classification report on testing: \n",
      "               precision    recall  f1-score   support\n",
      "\n",
      "           0       0.77      0.74      0.75       962\n",
      "           1       0.71      0.74      0.72       835\n",
      "\n",
      "    accuracy                           0.74      1797\n",
      "   macro avg       0.74      0.74      0.74      1797\n",
      "weighted avg       0.74      0.74      0.74      1797\n",
      "\n"
     ]
    }
   ],
   "source": [
    "xgb_test_accuracy = accuracy_score(xgb_test_predict,y_test)\n",
    "print(\"Testing accuracy of xgb model\",xgb_test_accuracy*100)\n",
    "print(\"Classification report on testing: \\n\",classification_report(xgb_test_predict,y_test))"
   ]
  },
  {
   "cell_type": "markdown",
   "id": "96e26e05",
   "metadata": {},
   "source": [
    "* Testing score still lagging"
   ]
  },
  {
   "cell_type": "markdown",
   "id": "a7be8572",
   "metadata": {},
   "source": [
    "#### HYPER PARAMETER TUNNING"
   ]
  },
  {
   "cell_type": "code",
   "execution_count": 107,
   "id": "e58a4bb9",
   "metadata": {},
   "outputs": [
    {
     "name": "stdout",
     "output_type": "stream",
     "text": [
      "Fitting 5 folds for each of 150 candidates, totalling 750 fits\n",
      "Best parameter: {'reg_lambda': 3.2, 'reg_alpha': 1.6, 'n_estimators': 50, 'max_depth': 7, 'learning_rate': 0.6, 'gamma': 0}\n"
     ]
    }
   ],
   "source": [
    "# Step:1 import library \n",
    "from sklearn.model_selection import RandomizedSearchCV\n",
    "param_grid = {'gamma': [0,0.1,0.2,0.4,0.8,1.6,3.2,6.4,12.8,25.6,51.2,102.4, 200],\n",
    "              'learning_rate': [0.001,0.01,0.1, 0.03, 0.06, 0.1, 0.15, 0.02,0.003, 0.4, 0.5, 0.6, 0.7],\n",
    "              'max_depth': [3,5,6,7,8,10],\n",
    "              'n_estimators': [50,65,80,100,130,150],\n",
    "              'reg_alpha': [0,0.01,0.1,0.02,0.2,0.4,0.8,1.6,6.4,12.8,25.6,51.2,102.4,200],\n",
    "              'reg_lambda': [0,0.01,0.1,0.02,0.2,0.4,0.8,1.6,3.2,6.4,12.8,25.6,51.2,102.4,200]}\n",
    "\n",
    "# Step:2 Object creation with parameter\n",
    "XGB = XGBClassifier(random_state=42)\n",
    "\n",
    "# Step:3 Create randomized search cv with parameter\n",
    "rcv = RandomizedSearchCV(estimator=XGB,scoring='f1',param_distributions=param_grid,n_iter=150,\n",
    "                        cv=5,verbose=3,random_state=5,n_jobs=-1)\n",
    "\n",
    "#estimator--number of decision tree\n",
    "#scoring--->performance matrix to check performance\n",
    "#param_distribution-->hyperparametes(dictionary we created)\n",
    "#n_iter--->Number of parameter settings that are sampled. n_iter trades off runtime vs quality of the solution.default=10\n",
    "##cv------> number of folds\n",
    "#verbose=Controls the verbosity: the higher, the more messages.\n",
    "#n_jobs---->Number of jobs to run in parallel,-1 means using all processors.\n",
    "\n",
    "# Step:4 Fitting training data on randomized search cv\n",
    "rcv.fit(X_train,y_train)\n",
    "\n",
    "# Step:5 Get best parameters\n",
    "rcv_best_parameter = rcv.best_params_\n",
    "print(f\"Best parameter: {rcv_best_parameter}\")\n"
   ]
  },
  {
   "cell_type": "code",
   "execution_count": 108,
   "id": "8f27d0cb",
   "metadata": {},
   "outputs": [],
   "source": [
    "# Step:6 Place the best parameter\n",
    "XGB2 = XGBClassifier(reg_lambda=25.6,reg_alpha=0.8,n_estimators=150,max_depth=10,learning_rate=0.4,gamma=0.2)\n",
    "\n",
    "# Step:7 Fitting the training data\n",
    "XGB2.fit(X_train,y_train)\n",
    "\n",
    "# Step:8 Prediction on testing data\n",
    "XGB_prediction = XGB2.predict(X_test)"
   ]
  },
  {
   "cell_type": "code",
   "execution_count": 109,
   "id": "b11a02bd",
   "metadata": {},
   "outputs": [
    {
     "name": "stdout",
     "output_type": "stream",
     "text": [
      "Accuracy score after hyperparameter tunning 73.62270450751252\n",
      "Classification report: \n",
      "               precision    recall  f1-score   support\n",
      "\n",
      "           0       0.75      0.74      0.75       942\n",
      "           1       0.72      0.73      0.73       855\n",
      "\n",
      "    accuracy                           0.74      1797\n",
      "   macro avg       0.74      0.74      0.74      1797\n",
      "weighted avg       0.74      0.74      0.74      1797\n",
      "\n"
     ]
    }
   ],
   "source": [
    "XGB_accuracy = accuracy_score(XGB_prediction,y_test)\n",
    "print(\"Accuracy score after hyperparameter tunning\",XGB_accuracy*100)\n",
    "print(\"Classification report: \\n\",classification_report(XGB_prediction,y_test))"
   ]
  },
  {
   "cell_type": "markdown",
   "id": "d9367189",
   "metadata": {},
   "source": [
    "* After hyper-parameter tunning score is slightly improve"
   ]
  },
  {
   "cell_type": "markdown",
   "id": "1c69e07b",
   "metadata": {},
   "source": [
    "### CONCLUSION\n",
    "* From above all models I am select Gradient Boosting classifier beacuse this model perform well on training as well as testing side and low variance and low bias model."
   ]
  },
  {
   "cell_type": "markdown",
   "id": "eb0f437f",
   "metadata": {},
   "source": [
    "### MODEL SAVING"
   ]
  },
  {
   "cell_type": "code",
   "execution_count": 126,
   "id": "9b67282d",
   "metadata": {},
   "outputs": [],
   "source": [
    "# Model saving using pickel\n",
    "import pickle\n",
    "\n",
    "file = open(\"gbm_classifier_model.pkl\",\"wb\")\n",
    "\n",
    "# Dump information on file\n",
    "pickle.dump(gbm,file)"
   ]
  },
  {
   "cell_type": "code",
   "execution_count": null,
   "id": "b771cf09",
   "metadata": {},
   "outputs": [],
   "source": []
  }
 ],
 "metadata": {
  "kernelspec": {
   "display_name": "Python 3 (ipykernel)",
   "language": "python",
   "name": "python3"
  },
  "language_info": {
   "codemirror_mode": {
    "name": "ipython",
    "version": 3
   },
   "file_extension": ".py",
   "mimetype": "text/x-python",
   "name": "python",
   "nbconvert_exporter": "python",
   "pygments_lexer": "ipython3",
   "version": "3.11.5"
  }
 },
 "nbformat": 4,
 "nbformat_minor": 5
}
