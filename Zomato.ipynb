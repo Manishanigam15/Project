{
 "cells": [
  {
   "cell_type": "code",
   "execution_count": 15,
   "id": "6e487962-4488-4ebb-a874-01b567ec9ea4",
   "metadata": {},
   "outputs": [],
   "source": [
    "import pandas as pd\n",
    "import sqlite3\n",
    "import warnings\n",
    "warnings.filterwarnings(\"ignore\")"
   ]
  },
  {
   "cell_type": "code",
   "execution_count": 2,
   "id": "32028c18-5e76-4306-a4fb-5e48488ceef9",
   "metadata": {},
   "outputs": [],
   "source": [
    "con= sqlite3.connect(\"zomato_rawdata.sqlite\")"
   ]
  },
  {
   "cell_type": "code",
   "execution_count": 9,
   "id": "dc6e5ac1-7d80-4f5e-af2f-70d5a5ca366a",
   "metadata": {},
   "outputs": [],
   "source": [
    "df=pd.read_sql_query(\"select * from users\",con)"
   ]
  },
  {
   "cell_type": "code",
   "execution_count": 10,
   "id": "0568a07d-336b-4175-997d-ac94d2c2e1c2",
   "metadata": {},
   "outputs": [
    {
     "data": {
      "text/html": [
       "<div>\n",
       "<style scoped>\n",
       "    .dataframe tbody tr th:only-of-type {\n",
       "        vertical-align: middle;\n",
       "    }\n",
       "\n",
       "    .dataframe tbody tr th {\n",
       "        vertical-align: top;\n",
       "    }\n",
       "\n",
       "    .dataframe thead th {\n",
       "        text-align: right;\n",
       "    }\n",
       "</style>\n",
       "<table border=\"1\" class=\"dataframe\">\n",
       "  <thead>\n",
       "    <tr style=\"text-align: right;\">\n",
       "      <th></th>\n",
       "      <th>index</th>\n",
       "      <th>url</th>\n",
       "      <th>address</th>\n",
       "      <th>name</th>\n",
       "      <th>online_order</th>\n",
       "      <th>book_table</th>\n",
       "      <th>rate</th>\n",
       "      <th>votes</th>\n",
       "      <th>phone</th>\n",
       "      <th>location</th>\n",
       "      <th>rest_type</th>\n",
       "      <th>dish_liked</th>\n",
       "      <th>cuisines</th>\n",
       "      <th>approx_cost(for two people)</th>\n",
       "      <th>reviews_list</th>\n",
       "      <th>menu_item</th>\n",
       "      <th>listed_in(type)</th>\n",
       "      <th>listed_in(city)</th>\n",
       "    </tr>\n",
       "  </thead>\n",
       "  <tbody>\n",
       "    <tr>\n",
       "      <th>0</th>\n",
       "      <td>0</td>\n",
       "      <td>https://www.zomato.com/bangalore/jalsa-banasha...</td>\n",
       "      <td>942, 21st Main Road, 2nd Stage, Banashankari, ...</td>\n",
       "      <td>Jalsa</td>\n",
       "      <td>Yes</td>\n",
       "      <td>Yes</td>\n",
       "      <td>4.1/5</td>\n",
       "      <td>775</td>\n",
       "      <td>080 42297555\\r\\n+91 9743772233</td>\n",
       "      <td>Banashankari</td>\n",
       "      <td>Casual Dining</td>\n",
       "      <td>Pasta, Lunch Buffet, Masala Papad, Paneer Laja...</td>\n",
       "      <td>North Indian, Mughlai, Chinese</td>\n",
       "      <td>800</td>\n",
       "      <td>[('Rated 4.0', 'RATED\\n  A beautiful place to ...</td>\n",
       "      <td>[]</td>\n",
       "      <td>Buffet</td>\n",
       "      <td>Banashankari</td>\n",
       "    </tr>\n",
       "    <tr>\n",
       "      <th>1</th>\n",
       "      <td>1</td>\n",
       "      <td>https://www.zomato.com/bangalore/spice-elephan...</td>\n",
       "      <td>2nd Floor, 80 Feet Road, Near Big Bazaar, 6th ...</td>\n",
       "      <td>Spice Elephant</td>\n",
       "      <td>Yes</td>\n",
       "      <td>No</td>\n",
       "      <td>4.1/5</td>\n",
       "      <td>787</td>\n",
       "      <td>080 41714161</td>\n",
       "      <td>Banashankari</td>\n",
       "      <td>Casual Dining</td>\n",
       "      <td>Momos, Lunch Buffet, Chocolate Nirvana, Thai G...</td>\n",
       "      <td>Chinese, North Indian, Thai</td>\n",
       "      <td>800</td>\n",
       "      <td>[('Rated 4.0', 'RATED\\n  Had been here for din...</td>\n",
       "      <td>[]</td>\n",
       "      <td>Buffet</td>\n",
       "      <td>Banashankari</td>\n",
       "    </tr>\n",
       "    <tr>\n",
       "      <th>2</th>\n",
       "      <td>2</td>\n",
       "      <td>https://www.zomato.com/SanchurroBangalore?cont...</td>\n",
       "      <td>1112, Next to KIMS Medical College, 17th Cross...</td>\n",
       "      <td>San Churro Cafe</td>\n",
       "      <td>Yes</td>\n",
       "      <td>No</td>\n",
       "      <td>3.8/5</td>\n",
       "      <td>918</td>\n",
       "      <td>+91 9663487993</td>\n",
       "      <td>Banashankari</td>\n",
       "      <td>Cafe, Casual Dining</td>\n",
       "      <td>Churros, Cannelloni, Minestrone Soup, Hot Choc...</td>\n",
       "      <td>Cafe, Mexican, Italian</td>\n",
       "      <td>800</td>\n",
       "      <td>[('Rated 3.0', \"RATED\\n  Ambience is not that ...</td>\n",
       "      <td>[]</td>\n",
       "      <td>Buffet</td>\n",
       "      <td>Banashankari</td>\n",
       "    </tr>\n",
       "    <tr>\n",
       "      <th>3</th>\n",
       "      <td>3</td>\n",
       "      <td>https://www.zomato.com/bangalore/addhuri-udupi...</td>\n",
       "      <td>1st Floor, Annakuteera, 3rd Stage, Banashankar...</td>\n",
       "      <td>Addhuri Udupi Bhojana</td>\n",
       "      <td>No</td>\n",
       "      <td>No</td>\n",
       "      <td>3.7/5</td>\n",
       "      <td>88</td>\n",
       "      <td>+91 9620009302</td>\n",
       "      <td>Banashankari</td>\n",
       "      <td>Quick Bites</td>\n",
       "      <td>Masala Dosa</td>\n",
       "      <td>South Indian, North Indian</td>\n",
       "      <td>300</td>\n",
       "      <td>[('Rated 4.0', \"RATED\\n  Great food and proper...</td>\n",
       "      <td>[]</td>\n",
       "      <td>Buffet</td>\n",
       "      <td>Banashankari</td>\n",
       "    </tr>\n",
       "    <tr>\n",
       "      <th>4</th>\n",
       "      <td>4</td>\n",
       "      <td>https://www.zomato.com/bangalore/grand-village...</td>\n",
       "      <td>10, 3rd Floor, Lakshmi Associates, Gandhi Baza...</td>\n",
       "      <td>Grand Village</td>\n",
       "      <td>No</td>\n",
       "      <td>No</td>\n",
       "      <td>3.8/5</td>\n",
       "      <td>166</td>\n",
       "      <td>+91 8026612447\\r\\n+91 9901210005</td>\n",
       "      <td>Basavanagudi</td>\n",
       "      <td>Casual Dining</td>\n",
       "      <td>Panipuri, Gol Gappe</td>\n",
       "      <td>North Indian, Rajasthani</td>\n",
       "      <td>600</td>\n",
       "      <td>[('Rated 4.0', 'RATED\\n  Very good restaurant ...</td>\n",
       "      <td>[]</td>\n",
       "      <td>Buffet</td>\n",
       "      <td>Banashankari</td>\n",
       "    </tr>\n",
       "  </tbody>\n",
       "</table>\n",
       "</div>"
      ],
      "text/plain": [
       "   index                                                url  \\\n",
       "0      0  https://www.zomato.com/bangalore/jalsa-banasha...   \n",
       "1      1  https://www.zomato.com/bangalore/spice-elephan...   \n",
       "2      2  https://www.zomato.com/SanchurroBangalore?cont...   \n",
       "3      3  https://www.zomato.com/bangalore/addhuri-udupi...   \n",
       "4      4  https://www.zomato.com/bangalore/grand-village...   \n",
       "\n",
       "                                             address                   name  \\\n",
       "0  942, 21st Main Road, 2nd Stage, Banashankari, ...                  Jalsa   \n",
       "1  2nd Floor, 80 Feet Road, Near Big Bazaar, 6th ...         Spice Elephant   \n",
       "2  1112, Next to KIMS Medical College, 17th Cross...        San Churro Cafe   \n",
       "3  1st Floor, Annakuteera, 3rd Stage, Banashankar...  Addhuri Udupi Bhojana   \n",
       "4  10, 3rd Floor, Lakshmi Associates, Gandhi Baza...          Grand Village   \n",
       "\n",
       "  online_order book_table   rate  votes                             phone  \\\n",
       "0          Yes        Yes  4.1/5    775    080 42297555\\r\\n+91 9743772233   \n",
       "1          Yes         No  4.1/5    787                      080 41714161   \n",
       "2          Yes         No  3.8/5    918                    +91 9663487993   \n",
       "3           No         No  3.7/5     88                    +91 9620009302   \n",
       "4           No         No  3.8/5    166  +91 8026612447\\r\\n+91 9901210005   \n",
       "\n",
       "       location            rest_type  \\\n",
       "0  Banashankari        Casual Dining   \n",
       "1  Banashankari        Casual Dining   \n",
       "2  Banashankari  Cafe, Casual Dining   \n",
       "3  Banashankari          Quick Bites   \n",
       "4  Basavanagudi        Casual Dining   \n",
       "\n",
       "                                          dish_liked  \\\n",
       "0  Pasta, Lunch Buffet, Masala Papad, Paneer Laja...   \n",
       "1  Momos, Lunch Buffet, Chocolate Nirvana, Thai G...   \n",
       "2  Churros, Cannelloni, Minestrone Soup, Hot Choc...   \n",
       "3                                        Masala Dosa   \n",
       "4                                Panipuri, Gol Gappe   \n",
       "\n",
       "                         cuisines approx_cost(for two people)  \\\n",
       "0  North Indian, Mughlai, Chinese                         800   \n",
       "1     Chinese, North Indian, Thai                         800   \n",
       "2          Cafe, Mexican, Italian                         800   \n",
       "3      South Indian, North Indian                         300   \n",
       "4        North Indian, Rajasthani                         600   \n",
       "\n",
       "                                        reviews_list menu_item  \\\n",
       "0  [('Rated 4.0', 'RATED\\n  A beautiful place to ...        []   \n",
       "1  [('Rated 4.0', 'RATED\\n  Had been here for din...        []   \n",
       "2  [('Rated 3.0', \"RATED\\n  Ambience is not that ...        []   \n",
       "3  [('Rated 4.0', \"RATED\\n  Great food and proper...        []   \n",
       "4  [('Rated 4.0', 'RATED\\n  Very good restaurant ...        []   \n",
       "\n",
       "  listed_in(type) listed_in(city)  \n",
       "0          Buffet    Banashankari  \n",
       "1          Buffet    Banashankari  \n",
       "2          Buffet    Banashankari  \n",
       "3          Buffet    Banashankari  \n",
       "4          Buffet    Banashankari  "
      ]
     },
     "execution_count": 10,
     "metadata": {},
     "output_type": "execute_result"
    }
   ],
   "source": [
    "df.head()"
   ]
  },
  {
   "cell_type": "markdown",
   "id": "d99fba58-7a93-43c7-823d-2362736c21c6",
   "metadata": {},
   "source": [
    "## 1. Checking Missing Values"
   ]
  },
  {
   "cell_type": "code",
   "execution_count": 11,
   "id": "7a38fc9e-e28a-489f-9e9c-618492eb8d28",
   "metadata": {},
   "outputs": [
    {
     "name": "stdout",
     "output_type": "stream",
     "text": [
      "rate                            7775\n",
      "phone                           1208\n",
      "location                          21\n",
      "rest_type                        227\n",
      "dish_liked                     28078\n",
      "cuisines                          45\n",
      "approx_cost(for two people)      346\n",
      "dtype: int64\n"
     ]
    }
   ],
   "source": [
    "missing = df.isnull().sum()\n",
    "print(missing[missing > 0])"
   ]
  },
  {
   "cell_type": "code",
   "execution_count": 16,
   "id": "304a88f9-aea6-45b8-b6a6-70af3500a48f",
   "metadata": {},
   "outputs": [],
   "source": [
    "for column in df.columns:\n",
    "    if df[column].isnull().sum() > 0:\n",
    "        if df[column].dtype in ['float64', 'int64']:\n",
    "           \n",
    "            mean_val = df[column].mean()\n",
    "            df[column].fillna(mean_val, inplace=True)\n",
    "        else:\n",
    "            \n",
    "            mode_val = df[column].mode()[0]\n",
    "            df[column].fillna(mode_val, inplace=True)"
   ]
  },
  {
   "cell_type": "code",
   "execution_count": 17,
   "id": "269e9b27-e73a-41f7-96bd-d8a03a2be741",
   "metadata": {},
   "outputs": [
    {
     "data": {
      "text/plain": [
       "index                          0\n",
       "url                            0\n",
       "address                        0\n",
       "name                           0\n",
       "online_order                   0\n",
       "book_table                     0\n",
       "rate                           0\n",
       "votes                          0\n",
       "phone                          0\n",
       "location                       0\n",
       "rest_type                      0\n",
       "dish_liked                     0\n",
       "cuisines                       0\n",
       "approx_cost(for two people)    0\n",
       "reviews_list                   0\n",
       "menu_item                      0\n",
       "listed_in(type)                0\n",
       "listed_in(city)                0\n",
       "dtype: int64"
      ]
     },
     "execution_count": 17,
     "metadata": {},
     "output_type": "execute_result"
    }
   ],
   "source": [
    "df.isnull().sum()"
   ]
  },
  {
   "cell_type": "markdown",
   "id": "f49c0b27-edac-4084-be83-75eac20b1ce8",
   "metadata": {},
   "source": [
    "##  2. Analyze Relationship Between Online Order and Rating"
   ]
  },
  {
   "cell_type": "code",
   "execution_count": 19,
   "id": "ccd7190a-dac4-476f-a63b-9075da0378d5",
   "metadata": {},
   "outputs": [
    {
     "data": {
      "image/png": "[encoded data removed]",
      "text/plain": [
       "<Figure size 640x480 with 1 Axes>"
      ]
     },
     "metadata": {},
     "output_type": "display_data"
    }
   ],
   "source": [
    "import seaborn as sns\n",
    "import matplotlib.pyplot as plt\n",
    "\n",
    "# Strip any non-numeric ratings and convert to float\n",
    "df['rate'] = df['rate'].astype(str).str.replace('/5', '').replace('NEW', None).replace('-', None)\n",
    "df['rate'] = pd.to_numeric(df['rate'], errors='coerce')\n",
    "\n",
    "# Boxplot: Online order vs rating\n",
    "sns.boxplot(x='online_order', y='rate', data=df)\n",
    "plt.title('Online Order vs Rating')\n",
    "plt.show()"
   ]
  },
  {
   "cell_type": "code",
   "execution_count": 20,
   "id": "f0f12809-b332-46bf-a910-147d2bb23091",
   "metadata": {},
   "outputs": [
    {
     "name": "stdout",
     "output_type": "stream",
     "text": [
      "online_order\n",
      "No     3.65907\n",
      "Yes    3.72244\n",
      "Name: rate, dtype: float64\n"
     ]
    }
   ],
   "source": [
    "# check correlation\n",
    "print(df.groupby('online_order')['rate'].mean())"
   ]
  },
  {
   "cell_type": "markdown",
   "id": "a1f37c9e-4ff8-400b-b30c-1cd1db2ecf2c",
   "metadata": {},
   "source": [
    "## 3. Text Cleaning (e.g., for \"reviews\", \"dish_liked\", etc.)"
   ]
  },
  {
   "cell_type": "code",
   "execution_count": 32,
   "id": "2d7c9f5c-1253-4162-9266-68b800ff5e74",
   "metadata": {},
   "outputs": [
    {
     "data": {
      "text/html": [
       "<div>\n",
       "<style scoped>\n",
       "    .dataframe tbody tr th:only-of-type {\n",
       "        vertical-align: middle;\n",
       "    }\n",
       "\n",
       "    .dataframe tbody tr th {\n",
       "        vertical-align: top;\n",
       "    }\n",
       "\n",
       "    .dataframe thead th {\n",
       "        text-align: right;\n",
       "    }\n",
       "</style>\n",
       "<table border=\"1\" class=\"dataframe\">\n",
       "  <thead>\n",
       "    <tr style=\"text-align: right;\">\n",
       "      <th></th>\n",
       "      <th>location</th>\n",
       "      <th>rest_type</th>\n",
       "      <th>dish_liked</th>\n",
       "      <th>cuisines</th>\n",
       "      <th>reviews_list</th>\n",
       "    </tr>\n",
       "  </thead>\n",
       "  <tbody>\n",
       "    <tr>\n",
       "      <th>0</th>\n",
       "      <td>banashankari</td>\n",
       "      <td>casual dining</td>\n",
       "      <td>pasta, lunch buffet, masala papad, paneer laja...</td>\n",
       "      <td>north indian, mughlai, chinese</td>\n",
       "      <td>[('rated 4.0', 'rated\\n a beautiful place to d...</td>\n",
       "    </tr>\n",
       "    <tr>\n",
       "      <th>1</th>\n",
       "      <td>banashankari</td>\n",
       "      <td>casual dining</td>\n",
       "      <td>momos, lunch buffet, chocolate nirvana, thai g...</td>\n",
       "      <td>chinese, north indian, thai</td>\n",
       "      <td>[('rated 4.0', 'rated\\n had been here for dinn...</td>\n",
       "    </tr>\n",
       "    <tr>\n",
       "      <th>2</th>\n",
       "      <td>banashankari</td>\n",
       "      <td>cafe, casual dining</td>\n",
       "      <td>churros, cannelloni, minestrone soup, hot choc...</td>\n",
       "      <td>cafe, mexican, italian</td>\n",
       "      <td>[('rated 3.0', \"rated\\n ambience is not that g...</td>\n",
       "    </tr>\n",
       "    <tr>\n",
       "      <th>3</th>\n",
       "      <td>banashankari</td>\n",
       "      <td>quick bites</td>\n",
       "      <td>masala dosa</td>\n",
       "      <td>south indian, north indian</td>\n",
       "      <td>[('rated 4.0', \"rated\\n great food and proper ...</td>\n",
       "    </tr>\n",
       "    <tr>\n",
       "      <th>4</th>\n",
       "      <td>basavanagudi</td>\n",
       "      <td>casual dining</td>\n",
       "      <td>panipuri, gol gappe</td>\n",
       "      <td>north indian, rajasthani</td>\n",
       "      <td>[('rated 4.0', 'rated\\n very good restaurant i...</td>\n",
       "    </tr>\n",
       "  </tbody>\n",
       "</table>\n",
       "</div>"
      ],
      "text/plain": [
       "       location            rest_type  \\\n",
       "0  banashankari        casual dining   \n",
       "1  banashankari        casual dining   \n",
       "2  banashankari  cafe, casual dining   \n",
       "3  banashankari          quick bites   \n",
       "4  basavanagudi        casual dining   \n",
       "\n",
       "                                          dish_liked  \\\n",
       "0  pasta, lunch buffet, masala papad, paneer laja...   \n",
       "1  momos, lunch buffet, chocolate nirvana, thai g...   \n",
       "2  churros, cannelloni, minestrone soup, hot choc...   \n",
       "3                                        masala dosa   \n",
       "4                                panipuri, gol gappe   \n",
       "\n",
       "                         cuisines  \\\n",
       "0  north indian, mughlai, chinese   \n",
       "1     chinese, north indian, thai   \n",
       "2          cafe, mexican, italian   \n",
       "3      south indian, north indian   \n",
       "4        north indian, rajasthani   \n",
       "\n",
       "                                        reviews_list  \n",
       "0  [('rated 4.0', 'rated\\n a beautiful place to d...  \n",
       "1  [('rated 4.0', 'rated\\n had been here for dinn...  \n",
       "2  [('rated 3.0', \"rated\\n ambience is not that g...  \n",
       "3  [('rated 4.0', \"rated\\n great food and proper ...  \n",
       "4  [('rated 4.0', 'rated\\n very good restaurant i...  "
      ]
     },
     "execution_count": 32,
     "metadata": {},
     "output_type": "execute_result"
    }
   ],
   "source": [
    "text_columns = ['location', 'rest_type', 'dish_liked', 'cuisines', 'reviews_list']\n",
    "\n",
    "def clean_text(text):\n",
    "    if isinstance(text, str):\n",
    "        text = text.strip()  # Remove leading/trailing whitespace\n",
    "        text = text.lower()  # Convert to lowercase\n",
    "        text = text.replace('\\n', ' ').replace('\\r', '')  # Remove line breaks\n",
    "        text = ' '.join(text.split())  # Remove extra spaces\n",
    "    return text\n",
    "\n",
    "# Apply cleaning function to relevant columns   \n",
    "df['clean_dish_liked'] = df['dish_liked'].apply(clean_text)\n",
    "\n",
    "# Preview cleaned data\n",
    "df[text_columns].head()\n"
   ]
  },
  {
   "cell_type": "markdown",
   "id": "53dc2d1b-b4a1-450b-b3ca-0522e8b50d13",
   "metadata": {},
   "source": [
    "## 4. Unigram Analysis"
   ]
  },
  {
   "cell_type": "code",
   "execution_count": 36,
   "id": "2b39275a-d448-48a8-b5a5-4cac1c267840",
   "metadata": {},
   "outputs": [
    {
     "name": "stdout",
     "output_type": "stream",
     "text": [
      "          word  count\n",
      "0      biryani  29661\n",
      "1      chicken  10845\n",
      "2     biryani,   6058\n",
      "3       pizza,   3945\n",
      "4     chicken,   3927\n",
      "5       pasta,   3415\n",
      "6     burgers,   2747\n",
      "7   cocktails,   2650\n",
      "8       mutton   2458\n",
      "9    chocolate   2384\n",
      "10     coffee,   2349\n",
      "11      butter   2289\n",
      "12      paneer   2171\n",
      "13      masala   2164\n",
      "14        peri   2130\n",
      "15       beer,   1702\n",
      "16    paratha,   1676\n",
      "17  mocktails,   1655\n",
      "18       soup,   1615\n",
      "19        tea,   1580\n"
     ]
    }
   ],
   "source": [
    "from collections import Counter\n",
    "\n",
    "# Combine all text\n",
    "text = ' '.join(df['clean_dish_liked'])\n",
    "\n",
    "# Count words\n",
    "unigrams = text.split()\n",
    "unigram_freq = Counter(unigrams)\n",
    "\n",
    "# Convert to DataFrame for display\n",
    "unigram_df = pd.DataFrame(unigram_freq.items(), columns=['word', 'count'])\n",
    "unigram_df = unigram_df.sort_values(by='count', ascending=False).reset_index(drop=True)\n",
    "\n",
    "# Top 20\n",
    "print(unigram_df.head(20))\n"
   ]
  },
  {
   "cell_type": "markdown",
   "id": "b8c4736b-ce4f-4e3b-8e94-670a0ea9bc4d",
   "metadata": {},
   "source": [
    "## 5. Bi-gram and Tri-gram Analysis"
   ]
  },
  {
   "cell_type": "code",
   "execution_count": null,
   "id": "962be945-038c-40fd-9ec2-cf62793af3a8",
   "metadata": {},
   "outputs": [],
   "source": [
    "from nltk import ngrams\n",
    "\n",
    "# Choose the column for analysis\n",
    "text_column = 'dish_liked' \n",
    "\n",
    "# Prepare and clean the text\n",
    "text_data = df[text_column].dropna().str.lower()\n",
    "\n",
    "# Join all text into a single string\n",
    "all_text = ' '.join(text_data)\n",
    "\n",
    "# Tokenize text (split into words)\n",
    "tokens = all_text.split()\n",
    "\n",
    "# Generate bigrams and trigrams\n",
    "bigrams = list(ngrams(tokens, 2))\n",
    "trigrams = list(ngrams(tokens, 3))\n",
    "\n",
    "# Count frequency of each n-gram\n",
    "bigram_counts = Counter(bigrams)\n",
    "trigram_counts = Counter(trigrams)\n",
    "\n",
    "# Convert to DataFrame and sort by frequency\n",
    "bigram_df = pd.DataFrame(bigram_counts.items(), columns=['bigram', 'count']).sort_values(by='count', ascending=False)\n",
    "trigram_df = pd.DataFrame(trigram_counts.items(), columns=['trigram', 'count']).sort_values(by='count', ascending=False)\n",
    "\n",
    "# Display top 10 bigrams and trigrams\n",
    "print(\"Top 10 Bigrams:\")\n",
    "print(bigram_df.head(10))\n",
    "\n",
    "print(\"\\nTop 10 Trigrams:\")\n",
    "print(trigram_df.head(10))"
   ]
  },
  {
   "cell_type": "markdown",
   "id": "c96f421d-2168-4ffa-b2a1-3ec0040816f0",
   "metadata": {},
   "source": [
    "## 6. Spatial Analysis (Assuming you have latitude, longitude columns)"
   ]
  },
  {
   "cell_type": "markdown",
   "id": "b409cb37-1a9d-4185-8510-24e4d8cee3bf",
   "metadata": {},
   "source": [
    "##### Restaurant Count by Location"
   ]
  },
  {
   "cell_type": "code",
   "execution_count": 43,
   "id": "708a981c-ebff-47e3-be6e-98609dcdd922",
   "metadata": {},
   "outputs": [
    {
     "name": "stdout",
     "output_type": "stream",
     "text": [
      "                location  restaurant_count\n",
      "0                    btm              5145\n",
      "1                    hsr              2523\n",
      "2  koramangala 5th block              2504\n",
      "3               jp nagar              2235\n",
      "4             whitefield              2144\n",
      "5            indiranagar              2083\n",
      "6              jayanagar              1926\n",
      "7           marathahalli              1846\n",
      "8      bannerghatta road              1630\n",
      "9              bellandur              1286\n"
     ]
    }
   ],
   "source": [
    "#Spatial analysis typically refers to examining data based on location\n",
    "\n",
    "location_counts = df['location'].value_counts().reset_index()\n",
    "location_counts.columns = ['location', 'restaurant_count']\n",
    "print(location_counts.head(10))"
   ]
  },
  {
   "cell_type": "markdown",
   "id": "21d17ccf-3000-4e34-80d1-708225216bf7",
   "metadata": {},
   "source": [
    "##### Average Rating by Location"
   ]
  },
  {
   "cell_type": "code",
   "execution_count": 44,
   "id": "bd6e1c98-a20d-405d-85ca-d8949e6173fb",
   "metadata": {},
   "outputs": [
    {
     "name": "stdout",
     "output_type": "stream",
     "text": [
      "                 location      rate\n",
      "51           lavelle road  4.142505\n",
      "42  koramangala 3rd block  4.020419\n",
      "81         st. marks road  4.017201\n",
      "44  koramangala 5th block  4.005821\n",
      "11          church street  3.992125\n",
      "75            sankey road  3.965385\n",
      "43  koramangala 4th block  3.918668\n",
      "14        cunningham road  3.901053\n",
      "69         residency road  3.863636\n",
      "56                mg road  3.855857\n"
     ]
    }
   ],
   "source": [
    "# Convert rating to numeric\n",
    "df['rate'] = pd.to_numeric(df['rate'], errors='coerce')\n",
    "\n",
    "# Group by location and calculate mean rating\n",
    "avg_rating_by_location = df.groupby('location')['rate'].mean().reset_index()\n",
    "avg_rating_by_location = avg_rating_by_location.sort_values(by='rate', ascending=False)\n",
    "print(avg_rating_by_location.head(10))"
   ]
  },
  {
   "cell_type": "markdown",
   "id": "221338c3-9487-4559-bf60-0b391af69fe7",
   "metadata": {},
   "source": [
    "##### Online Order Availability by Location"
   ]
  },
  {
   "cell_type": "code",
   "execution_count": 45,
   "id": "38a9b899-3d64-4811-a01e-f7d984c083be",
   "metadata": {},
   "outputs": [
    {
     "name": "stdout",
     "output_type": "stream",
     "text": [
      "online_order                     Yes    No  percent_online\n",
      "location                                                  \n",
      "rajarajeshwari nagar             2.0   0.0      100.000000\n",
      "kanakapura road                 17.0   2.0       89.473684\n",
      "nagawara                       162.0  25.0       86.631016\n",
      "kumaraswamy layout             165.0  30.0       84.615385\n",
      "rammurthy nagar                 27.0   5.0       84.375000\n",
      "yelahanka                        5.0   1.0       83.333333\n",
      "varthur main road, whitefield   97.0  20.0       82.905983\n",
      "kaggadasapura                   79.0  22.0       78.217822\n",
      "yeshwantpur                     93.0  26.0       78.151261\n",
      "kengeri                          7.0   2.0       77.777778\n"
     ]
    }
   ],
   "source": [
    "online_order_by_location = df.groupby(['location', 'online_order']).size().unstack().fillna(0)\n",
    "online_order_by_location['total'] = online_order_by_location.sum(axis=1)\n",
    "online_order_by_location['percent_online'] = (online_order_by_location['Yes'] / online_order_by_location['total']) * 100\n",
    "online_order_by_location = online_order_by_location.sort_values(by='percent_online', ascending=False)\n",
    "\n",
    "print(online_order_by_location[['Yes', 'No', 'percent_online']].head(10))"
   ]
  },
  {
   "cell_type": "code",
   "execution_count": null,
   "id": "903122de-d781-49ad-b7fc-9ed350760ae5",
   "metadata": {},
   "outputs": [],
   "source": []
  }
 ],
 "metadata": {
  "kernelspec": {
   "display_name": "Python 3 (ipykernel)",
   "language": "python",
   "name": "python3"
  },
  "language_info": {
   "codemirror_mode": {
    "name": "ipython",
    "version": 3
   },
   "file_extension": ".py",
   "mimetype": "text/x-python",
   "name": "python",
   "nbconvert_exporter": "python",
   "pygments_lexer": "ipython3",
   "version": "3.12.7"
  }
 },
 "nbformat": 4,
 "nbformat_minor": 5
}
